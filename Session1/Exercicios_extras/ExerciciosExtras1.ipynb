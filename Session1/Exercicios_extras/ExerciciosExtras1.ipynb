{
 "cells": [
  {
   "cell_type": "markdown",
   "metadata": {},
   "source": [
    "<div style=\"display: flex; flex-direction: column; align-items: center; text-align: center; font-family: 'Avenir Next LT Pro', sans-serif; padding: 50px; background-color: #f4f4f4; border-radius: 12px; box-shadow: 0px 4px 12px rgba(0, 0, 0, 0.1);\">\n",
    "    <h1 style=\"font-size: 50px; font-weight: bold; color: #222; margin-bottom: 10px;\">Filologia Digital - Módulo V</h1>\n",
    "    <h3 style=\"font-size: 30px; font-weight: bold; color: #555; max-width: 80%; line-height: 1.3;\">\n",
    "        Para além da edição: <span style=\"font-weight: normal; color: #666;\">o digital na investigação linguística</span>\n",
    "    </h3>\n",
    "    <h4 style=\"font-size: 26px; font-weight: bold; color: #333; background-color: #e0e0e0; padding: 10px 20px; border-radius: 8px; margin-top: 25px;\">Sessão 1 - Conceitos básicos de Python</h4>\n",
    "    <img src=\"https://filologiadigitalcl.wordpress.com/wp-content/uploads/2024/11/figure05.png?w=1024\" \n",
    "         style=\"width: 80%; max-width: 600px; margin-top: 30px; border-radius: 10px; box-shadow: 0px 4px 12px rgba(0, 0, 0, 0.15);\">\n",
    "</div>"
   ]
  },
  {
   "cell_type": "markdown",
   "metadata": {},
   "source": [
    "<!DOCTYPE html>\n",
    "<html lang=\"en\">\n",
    "<head>\n",
    "    <meta charset=\"UTF-8\">\n",
    "    <meta name=\"viewport\" content=\"width=device-width, initial-scale=1.0\">\n",
    "    <style>\n",
    "        body {\n",
    "            font-family: Arial, sans-serif;\n",
    "            background-color: #f4f4f4;\n",
    "            color: #333;\n",
    "            margin: 0;\n",
    "            padding: 20px;\n",
    "            line-height: 1.6;\n",
    "        }\n",
    "        ol {\n",
    "            counter-reset: section;\n",
    "            list-style: none;\n",
    "            padding-left: 0;\n",
    "        }\n",
    "        /* First-level list */\n",
    "        ol > li {\n",
    "            counter-increment: section;\n",
    "            margin-bottom: 10px;\n",
    "            padding-left: 0;\n",
    "        }\n",
    "        ol > li::before {\n",
    "            content: counters(section, \".\") \" \";\n",
    "            font-weight: bold;\n",
    "        }\n",
    "        /* Second-level list */\n",
    "        ol ol {\n",
    "            counter-reset: subsection;\n",
    "            padding-left: 20px;\n",
    "            margin-top: 5px;\n",
    "        }\n",
    "        ol ol > li {\n",
    "            counter-increment: subsection;\n",
    "            margin-bottom: 5px;\n",
    "            padding-left: 10px;\n",
    "        }\n",
    "        ol ol > li::before {\n",
    "            content: counters(section, \".\") \".\" counter(subsection) \" \";\n",
    "            font-weight: bold;\n",
    "        }\n",
    "        /* Third-level list */\n",
    "        ol ol ol {\n",
    "            counter-reset: subsubsection;\n",
    "            padding-left: 40px;\n",
    "            margin-top: 5px;\n",
    "        }\n",
    "        ol ol ol > li {\n",
    "            counter-increment: subsubsection;\n",
    "            margin-bottom: 5px;\n",
    "            padding-left: 10px;\n",
    "            font-size: 0.9em; /* Make font size smaller */\n",
    "            font-weight: normal; /* Remove bold styling */\n",
    "        }\n",
    "        ol ol ol > li::before {\n",
    "            content: counters(section, \".\") \".\" counter(subsection) \".\" counter(subsubsection) \" \";\n",
    "            font-weight: bold;\n",
    "        }\n",
    "        a {\n",
    "            text-decoration: none;\n",
    "            color: #007BFF;\n",
    "            font-weight: bold;\n",
    "        }\n",
    "        a:hover {\n",
    "            color: #0056b3;\n",
    "        }\n",
    "        footer {\n",
    "            margin-top: 50px;\n",
    "        }\n",
    "    </style>\n",
    "</head>\n",
    "<body>\n",
    "\n",
    "<h2><b>Índice</b></h2>\n",
    "<ol>\n",
    "    <li><a href=\"#1\">Funções e Parâmetros</a></li>\n",
    "        <ol>\n",
    "            <li><a href=\"#1.1\">Exercicios</a></li>\n",
    "        </ol>\n",
    "    <li><a href=\"#2\">Variáveis e Estruturas de Controlo</a></li>\n",
    "        <ol>\n",
    "            <li><a href=\"#2.1\">Exercicios</a></li>\n",
    "        </ol>\n",
    "\n",
    "<footer></footer>\n",
    "\n",
    "</body>\n",
    "</html>"
   ]
  },
  {
   "cell_type": "markdown",
   "metadata": {},
   "source": [
    "# <a class='anchor' id='1'></a>\n",
    "\n",
    "> # **1. Funções e Parâmetros** "
   ]
  },
  {
   "cell_type": "markdown",
   "metadata": {},
   "source": [
    "## 📌 Objetivos do **Tópico 1**\n",
    "\n",
    "> ### ✅ Compreender e utilizar Funções\n",
    "- Saber definir funções em Python com `def()`.\n",
    "- Entender a diferença entre **parâmetros** e **argumentos**.\n",
    "\n",
    "> ### 🔄 Instrução de Devolução (`return`)\n",
    "- Compreender o uso da palavra-chave `return` para devolver valores de uma função.\n",
    "\n",
    "> ### 🔢 Tipos de Dados Primitivos\n",
    "- `int` → Números inteiros (ex: `5`, `-10`).\n",
    "- `float` → Números decimais (ex: `3.14`, `-2.5`).\n",
    "- `bool` → Valores lógicos (`True` ou `False`).\n",
    "\n",
    "> ### 🔁 Conversão Entre Tipos Numéricos\n",
    "- `int(valor)` → Converte para inteiro.\n",
    "- `float(valor)` → Converte para decimal.\n",
    "\n",
    "---\n",
    "\n",
    "> ## 🔔 **Informação a Reter** 🔔\n",
    "\n",
    "#### ➕➖ Operadores Aritméticos\n",
    "| Operador | Descrição  | Exemplo |\n",
    "|----------|-----------|---------|\n",
    "| `+`      | Adição    | `2 + 3 → 5` |\n",
    "| `-`      | Subtração | `5 - 2 → 3` |\n",
    "| `*`      | Multiplicação | `4 * 3 → 12` |\n",
    "| `/`      | Divisão  | `10 / 2 → 5.0` |\n",
    "| `//`     | Divisão inteira | `10 // 3 → 3` |\n",
    "| `%`      | Resto da divisão | `10 % 3 → 1` |\n",
    "| `**`     | Exponenciação | `2 ** 3 → 8` |\n",
    "\n",
    "\n",
    "#### ⚖️ Operadores Relacionais\n",
    "| Operador | Significado  | Exemplo |\n",
    "|----------|-------------|---------|\n",
    "| `==`     | Igualdade   | `5 == 5 → True` |\n",
    "| `!=`     | Diferente   | `5 != 3 → True` |\n",
    "| `<`      | Menor que   | `3 < 5 → True` |\n",
    "| `>`      | Maior que   | `10 > 2 → True` |\n",
    "| `<=`     | Menor ou igual | `5 <= 5 → True` |\n",
    "| `>=`     | Maior ou igual | `7 >= 3 → True` |\n",
    "\n",
    "\n",
    "#### 🔀 Operadores Lógicos\n",
    "| Operador | Significado  | Exemplo |\n",
    "|----------|-------------|---------|\n",
    "| `not`   | Negação     | `not True → False` |\n",
    "| `and`   | Conjunção   | `True and False → False` |\n",
    "| `or`    | Disjunção   | `True or False → True` |"
   ]
  },
  {
   "cell_type": "markdown",
   "metadata": {},
   "source": [
    "# <a class='anchor' id='1.1.'></a>\n",
    "\n",
    "> # **1.1. Exercicios** "
   ]
  },
  {
   "cell_type": "markdown",
   "metadata": {},
   "source": [
    "## 📝 Exercício: Implementação de Funções\n",
    "\n",
    "Desenvolva uma função para cada um dos objetivos apresentados nas alíneas seguintes. Todas as funções devem ser definidas utilizando apenas a instrução de retorno (`return ...`).  \n",
    "\n",
    "Para cada função, escreva expressões de teste que utilizem diferentes argumentos, garantindo que todas as possibilidades de resultados são abrangidas (por exemplo, verdadeiro/falso ou casos de arredondamento, como por excesso e por defeito).\n"
   ]
  },
  {
   "cell_type": "markdown",
   "metadata": {},
   "source": [
    "### ✨ **Exercício 1**: Obter o dobro de um número.\n",
    "A definição desta função é muito semelhante ao exemplo dado inicialmente."
   ]
  },
  {
   "cell_type": "code",
   "execution_count": null,
   "metadata": {},
   "outputs": [],
   "source": []
  },
  {
   "cell_type": "markdown",
   "metadata": {},
   "source": [
    "### ✨ **Exercício 2**: Obter a diferença entre dois números (dados em dois parâmetros)."
   ]
  },
  {
   "cell_type": "code",
   "execution_count": null,
   "metadata": {},
   "outputs": [],
   "source": []
  },
  {
   "cell_type": "markdown",
   "metadata": {},
   "source": [
    "### ✨ **Exercício 3**: Obter o valor absoluto de um número.\n",
    "\n",
    "```python\n",
    "# Exemplos:\n",
    "    absolute(-2) → 2 \n",
    "    absolute(4) → 4 \n",
    "```"
   ]
  },
  {
   "cell_type": "code",
   "execution_count": null,
   "metadata": {},
   "outputs": [],
   "source": []
  },
  {
   "cell_type": "markdown",
   "metadata": {},
   "source": [
    "### ✨ **Exercício 4**: Obter a Percentagem de um Valor Relativamente a um Total  \n",
    "\n",
    "Dado um valor e um total, calcular a percentagem correspondente. O resultado deve ser um número real (`float`) no intervalo `[0.0, 1.0]`.  \n",
    "\n",
    "📌 **Exemplo:**  \n",
    "Se tivermos `2` num total de `8`, a percentagem será `0.25` (ou 25%).  \n",
    "\n",
    "```python\n",
    "def percentage(n, total):\n",
    "    ...\n",
    "\n",
    "# Testes\n",
    "print(percentage(2, 8))   # 0.253\n",
    "print(percentage(5, 20))  # 0.25\n",
    "print(percentage(0, 10))  # 0.0\n",
    "print(percentage(10, 0))  # 0.0 (caso de divisão por zero tratado)\n",
    "```"
   ]
  },
  {
   "cell_type": "code",
   "execution_count": null,
   "metadata": {},
   "outputs": [],
   "source": []
  },
  {
   "cell_type": "markdown",
   "metadata": {},
   "source": [
    "### ✨ **Exercício 5**: Obter a média entre dois números inteiros.\n",
    "Note que a média entre dois inteiros não é necessariamente um inteiro, pelo que o tipo de retorno deverá ser decimal (`float`)."
   ]
  },
  {
   "cell_type": "code",
   "execution_count": null,
   "metadata": {},
   "outputs": [],
   "source": []
  },
  {
   "cell_type": "markdown",
   "metadata": {},
   "source": [
    "### ✨ **Exercício 6**: Arredondar um número decimal para inteiro.\n",
    "Nesta função é necessário aplicar a truncagem (converter um decimal para `inteiro`, descartando a parte decimal).\n",
    "\n",
    "📌 **Exemplos:**  \n",
    "\n",
    "```python\n",
    "# Testes\n",
    "    rounded(4.3) => 4\n",
    "    rounded(4.7) => 5\n",
    "```"
   ]
  },
  {
   "cell_type": "code",
   "execution_count": null,
   "metadata": {},
   "outputs": [],
   "source": []
  },
  {
   "cell_type": "markdown",
   "metadata": {},
   "source": [
    "### ✨ **Exercício 7**: Saber se um número inteiro é negativo.\n",
    "O valor devolvido pela função deverá indicar se o número passado como argumento é ou não negativo, mediante um valor booleano (`bool`, que assume apenas os valores True ou False).\n",
    "\n",
    "📌 **Exemplos:**  \n",
    "\n",
    "```python\n",
    "def is_negative(n):\n",
    "    ...\n",
    "\n",
    "# Testes\n",
    "    is_negative(-2) => True\n",
    "    is_negative(3) => False\n",
    "```"
   ]
  },
  {
   "cell_type": "code",
   "execution_count": null,
   "metadata": {},
   "outputs": [],
   "source": []
  },
  {
   "cell_type": "markdown",
   "metadata": {},
   "source": [
    "### ✨ **Exercício 8**: Utilizando o operador aritmético de divisão inteira (%)\n",
    "#### a) Saber se um número inteiro é impar."
   ]
  },
  {
   "cell_type": "code",
   "execution_count": null,
   "metadata": {},
   "outputs": [],
   "source": []
  },
  {
   "cell_type": "markdown",
   "metadata": {},
   "source": [
    "#### b) Saber se um número inteiro é par."
   ]
  },
  {
   "cell_type": "code",
   "execution_count": null,
   "metadata": {},
   "outputs": [],
   "source": []
  },
  {
   "cell_type": "markdown",
   "metadata": {
    "vscode": {
     "languageId": "latex"
    }
   },
   "source": [
    "#### c) Saber se um número inteiro é múltiplo de outro."
   ]
  },
  {
   "cell_type": "code",
   "execution_count": null,
   "metadata": {},
   "outputs": [],
   "source": []
  },
  {
   "cell_type": "markdown",
   "metadata": {},
   "source": [
    "### ✨ **Exercício 9**: Saber se um número inteiro corresponde a um dígito (i.e. está entre 0 e 9)\n",
    "É necessário combinar duas condições lógicas usando o operador `and`."
   ]
  },
  {
   "cell_type": "code",
   "execution_count": null,
   "metadata": {},
   "outputs": [],
   "source": []
  },
  {
   "cell_type": "markdown",
   "metadata": {},
   "source": [
    "### ✨ **Exercício 10**: Saber se um número está incluído num dado intervalo (fechado).\n",
    "\n",
    "```python\n",
    "# Exemplos:\n",
    "\n",
    "    is_included(5, 4, 9) => True (5 está incluído em [4, 9])\n",
    "    is_included(5, 6, 9) => False (5 não está incluído em [6, 9])\n",
    "```"
   ]
  },
  {
   "cell_type": "code",
   "execution_count": null,
   "metadata": {},
   "outputs": [],
   "source": []
  },
  {
   "cell_type": "markdown",
   "metadata": {},
   "source": [
    "### ✨ **Exercício 11**: Saber se um número está excluído de um dado intervalo (fechado).\n",
    "Experimente uma solução com disjunção lógica e outra com negação da condição anterior.\n",
    "\n",
    "```python\n",
    "# Exemplos:\n",
    "\n",
    "    is_excluded(4, 4, 9) => False (4 não está excluído de [4, 9])\n",
    "    is_excluded(4, 5, 9) => True (4 está excluído de [5, 9])\n",
    "```"
   ]
  },
  {
   "cell_type": "code",
   "execution_count": null,
   "metadata": {},
   "outputs": [],
   "source": []
  },
  {
   "cell_type": "markdown",
   "metadata": {},
   "source": [
    "### ✨ **Exercício 12**: Saber se um carácter corresponde a uma vogal minúscula.\n",
    "\n",
    "```python\n",
    "Exemplos:\n",
    "\n",
    "    is_vowel('a') => True\n",
    "    is_vowel('z') => False\n",
    "```"
   ]
  },
  {
   "cell_type": "markdown",
   "metadata": {},
   "source": [
    "# <a class='anchor' id='2'></a>\n",
    "\n",
    "> # **2. Funções e Parâmetros** "
   ]
  },
  {
   "cell_type": "markdown",
   "metadata": {},
   "source": [
    "## 🎯 Objetivos do **Tópico 2** \n",
    "\n",
    "+ **Instrução de atribuição**: `=`  \n",
    "  Atribui um valor a uma variável. Exemplo: `x = 5`, onde `x` recebe o valor 5.\n",
    "\n",
    "+ **Estrutura de seleção**: `if`\n",
    "\n",
    "```python\n",
    "# Permite tomar decisões com base em condições.\n",
    "# Exemplo:  \n",
    "if x > 10:\n",
    "    print(\"Maior que 10\")\n",
    "```\n",
    "\n",
    "+ **Estrutura de repetição**: `while`\n",
    "\n",
    "```python\n",
    "# Executa um bloco de código repetidamente enquanto a condição for verdadeira. \n",
    "# Exemplo:\n",
    "while x < 10:\n",
    "    x += 1\n",
    "```"
   ]
  },
  {
   "cell_type": "markdown",
   "metadata": {},
   "source": [
    "# <a class='anchor' id='2.1.'></a>\n",
    "\n",
    "> # **2.1. Exercicios** "
   ]
  },
  {
   "cell_type": "markdown",
   "metadata": {},
   "source": [
    "### ✨ **Exercício 1**: Obter o quociente da divisão inteira, sem recorrer ao operador de divisão inteira (`//`).\n",
    "\n",
    "```python\n",
    "# Exemplos:\n",
    "\n",
    "        divide(31, 5) → 6\n",
    "        divide(35, 7) → 5\n",
    "```"
   ]
  },
  {
   "cell_type": "code",
   "execution_count": null,
   "metadata": {},
   "outputs": [],
   "source": []
  },
  {
   "cell_type": "markdown",
   "metadata": {},
   "source": [
    "### ✨ **Exercício 2**: Obter uma potência de 2, i.e. $2^n$ (sem usar o operador `**`), dado o expoente num argumento que se assume ser um número natural *n* (diferente de zero). \n",
    "\n",
    "```python\n",
    "# Exemplo:\n",
    "\n",
    "        power_of_two(4) → 16\n",
    "        power_of_two(8) → 256\n",
    "```"
   ]
  },
  {
   "cell_type": "code",
   "execution_count": null,
   "metadata": {},
   "outputs": [],
   "source": []
  },
  {
   "cell_type": "markdown",
   "metadata": {},
   "source": [
    "### ✨ **Exercício 3**: Obter o somatório dos números naturais até um dado *n*. \n",
    "\n",
    "```python\n",
    "# Exemplo:\n",
    "\n",
    "        sum_of_naturals_up_to(5) → 15     # (1 + 2 + 3 + 4 + 5)\n",
    "```"
   ]
  },
  {
   "cell_type": "code",
   "execution_count": null,
   "metadata": {},
   "outputs": [],
   "source": []
  },
  {
   "cell_type": "markdown",
   "metadata": {},
   "source": [
    "### ✨ **Exercício 4**: Obter o somatório dos números naturais pares compreendidos num dado intervalo fechado.\n",
    "\n",
    "```python\n",
    "# Exemplo:\n",
    "\n",
    "        sum_of_even_numbers_between(3, 8) → 18     # (4 + 6 + 8)\n",
    "```"
   ]
  },
  {
   "cell_type": "code",
   "execution_count": null,
   "metadata": {},
   "outputs": [],
   "source": []
  },
  {
   "cell_type": "markdown",
   "metadata": {},
   "source": [
    "### ✨ **Exercício 5**: Obter o primeiro algarismo da representação decimal de um número inteiro.\n",
    "\n",
    "```python\n",
    "# Exemplos:\n",
    "\n",
    "        first_digit(2011) → 2\n",
    "        first_digit(1998) → 1\n",
    "```"
   ]
  },
  {
   "cell_type": "code",
   "execution_count": null,
   "metadata": {},
   "outputs": [],
   "source": []
  },
  {
   "cell_type": "markdown",
   "metadata": {},
   "source": [
    "### ✨ **Exercício 6**: Obter o n-ésimo número da [sequência de Fibonacci](https://pt.wikipedia.org/wiki/Sequência_de_Fibonacci), considerando que o primeiro número da sequência tem número de ordem zero.\n",
    "    \n",
    "Recorde que os primeiros números da sequência de Fibonacci são 0, 1, 1, 2, 3, 5, 8, 13, 21, ...\n",
    "\n",
    "```python\n",
    "Exemplo:\n",
    "\n",
    "        fibonacci(7) → 13\n",
    "```"
   ]
  },
  {
   "cell_type": "code",
   "execution_count": null,
   "metadata": {},
   "outputs": [],
   "source": []
  },
  {
   "cell_type": "markdown",
   "metadata": {},
   "source": [
    "> ## **Exercício extra**\n",
    "\n",
    "### ✨ **Exercício 7**: Defina uma função que recebe como argumento dois números naturais _m_ e _n_ e que calcula o máximo divisor comum desses dois números, usando o [algoritmo de Euclides](http://pt.wikipedia.org/wiki/Algoritmo_de_Euclides).\n",
    "\n",
    "```python\n",
    "Exemplo:\n",
    "\n",
    "        gcd(25, 30) → 5\n",
    "```"
   ]
  },
  {
   "cell_type": "code",
   "execution_count": null,
   "metadata": {},
   "outputs": [],
   "source": []
  }
 ],
 "metadata": {
  "kernelspec": {
   "display_name": "Python 3",
   "language": "python",
   "name": "python3"
  },
  "language_info": {
   "codemirror_mode": {
    "name": "ipython",
    "version": 3
   },
   "file_extension": ".py",
   "mimetype": "text/x-python",
   "name": "python",
   "nbconvert_exporter": "python",
   "pygments_lexer": "ipython3",
   "version": "3.11.11"
  }
 },
 "nbformat": 4,
 "nbformat_minor": 4
}
