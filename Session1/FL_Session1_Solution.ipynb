{
 "cells": [
  {
   "cell_type": "markdown",
   "id": "95b26e5f",
   "metadata": {},
   "source": [
    "<div style=\"display: flex; flex-direction: column; align-items: center; text-align: center; font-family: 'Avenir Next LT Pro', sans-serif; padding: 50px; background-color: #f4f4f4; border-radius: 12px; box-shadow: 0px 4px 12px rgba(0, 0, 0, 0.1);\">\n",
    "    <h1 style=\"font-size: 50px; font-weight: bold; color: #222; margin-bottom: 10px;\">Filologia Digital - Módulo V</h1>\n",
    "    <h3 style=\"font-size: 30px; font-weight: bold; color: #555; max-width: 80%; line-height: 1.3;\">\n",
    "        Para além da edição: <span style=\"font-weight: normal; color: #666;\">o digital na investigação linguística</span>\n",
    "    </h3>\n",
    "    <h4 style=\"font-size: 26px; font-weight: bold; color: #333; background-color: #e0e0e0; padding: 10px 20px; border-radius: 8px; margin-top: 25px;\">Sessão 1 - Conceitos básicos de Python</h4>\n",
    "    <img src=\"https://filologiadigitalcl.wordpress.com/wp-content/uploads/2024/11/figure05.png?w=1024\" \n",
    "         style=\"width: 80%; max-width: 600px; margin-top: 30px; border-radius: 10px; box-shadow: 0px 4px 12px rgba(0, 0, 0, 0.15);\">\n",
    "</div>"
   ]
  },
  {
   "cell_type": "markdown",
   "id": "7eaa0899",
   "metadata": {},
   "source": [
    "---\n",
    "\n",
    "**Nota:** Antes de começar, **faça o download do Python**!\n",
    "\n",
    "1. Aceda ao site oficial para fazer o download: [Download Python](https://www.python.org/downloads/).\n",
    "\n",
    "2. Durante o processo de instalação, certifique-se de **marcar a opção \"Add Python 3.xx to PATH\"**.\n",
    "\n",
    "![Imagem de Instalação](https://docs.umodeler.com/assets/images/Python_Install_2-9e77597157d8f1c0f5b93b0e47f11289.png)\n",
    "\n",
    "---"
   ]
  },
  {
   "cell_type": "markdown",
   "id": "48361907",
   "metadata": {},
   "source": [
    "<!DOCTYPE html>\n",
    "<html lang=\"en\">\n",
    "<head>\n",
    "    <meta charset=\"UTF-8\">\n",
    "    <meta name=\"viewport\" content=\"width=device-width, initial-scale=1.0\">\n",
    "    <style>\n",
    "        body {\n",
    "            font-family: Arial, sans-serif;\n",
    "            background-color: #f4f4f4;\n",
    "            color: #333;\n",
    "            margin: 0;\n",
    "            padding: 20px;\n",
    "            line-height: 1.6;\n",
    "        }\n",
    "        ol {\n",
    "            counter-reset: section;\n",
    "            list-style: none;\n",
    "            padding-left: 0;\n",
    "        }\n",
    "        /* First-level list */\n",
    "        ol > li {\n",
    "            counter-increment: section;\n",
    "            margin-bottom: 10px;\n",
    "            padding-left: 0;\n",
    "        }\n",
    "        ol > li::before {\n",
    "            content: counters(section, \".\") \" \";\n",
    "            font-weight: bold;\n",
    "        }\n",
    "        /* Second-level list */\n",
    "        ol ol {\n",
    "            counter-reset: subsection;\n",
    "            padding-left: 20px;\n",
    "            margin-top: 5px;\n",
    "        }\n",
    "        ol ol > li {\n",
    "            counter-increment: subsection;\n",
    "            margin-bottom: 5px;\n",
    "            padding-left: 10px;\n",
    "        }\n",
    "        ol ol > li::before {\n",
    "            content: counters(section, \".\") \".\" counter(subsection) \" \";\n",
    "            font-weight: bold;\n",
    "        }\n",
    "        /* Third-level list */\n",
    "        ol ol ol {\n",
    "            counter-reset: subsubsection;\n",
    "            padding-left: 40px;\n",
    "            margin-top: 5px;\n",
    "        }\n",
    "        ol ol ol > li {\n",
    "            counter-increment: subsubsection;\n",
    "            margin-bottom: 5px;\n",
    "            padding-left: 10px;\n",
    "            font-size: 0.9em; /* Make font size smaller */\n",
    "            font-weight: normal; /* Remove bold styling */\n",
    "        }\n",
    "        ol ol ol > li::before {\n",
    "            content: counters(section, \".\") \".\" counter(subsection) \".\" counter(subsubsection) \" \";\n",
    "            font-weight: bold;\n",
    "        }\n",
    "        a {\n",
    "            text-decoration: none;\n",
    "            color: #007BFF;\n",
    "            font-weight: bold;\n",
    "        }\n",
    "        a:hover {\n",
    "            color: #0056b3;\n",
    "        }\n",
    "        footer {\n",
    "            margin-top: 50px;\n",
    "        }\n",
    "    </style>\n",
    "</head>\n",
    "<body>\n",
    "\n",
    "<h2><b>Índice</b></h2>\n",
    "<ol>\n",
    "    <li><a href=\"#1.\">Primeiros Passos: Python e Jupyter Notebooks</a></li>\n",
    "    <li><a href=\"#2.\">Introdução ao Python</a></li>\n",
    "        <ol>\n",
    "            <li><a href=\"#2.1.\">Tipos de Objetos</a></li>\n",
    "                <ol>\n",
    "                    <li><a href=\"#2.1.1.\">Números</a></li>\n",
    "                    <li><a href=\"#2.1.2.\">Strings</a></li>\n",
    "                    <li><a href=\"#2.1.3.\">Condições e Booleans</a></li>\n",
    "                </ol>\n",
    "            <li><a href=\"#2.2.\">Funções</a></li>\n",
    "            <li><a href=\"#2.3.\">if / elif / else</a></li>\n",
    "        </ol>\n",
    "    <li><a href=\"#3.\">Exercicios</a></li>\n",
    "<footer></footer>\n",
    "\n",
    "</body>\n",
    "</html>"
   ]
  },
  {
   "cell_type": "markdown",
   "id": "929d9ccc",
   "metadata": {},
   "source": [
    "<a class='anchor' id='1'></a>\n",
    "\n",
    "# **1. Primeiros Passos: Python e Jupyter Notebooks** "
   ]
  },
  {
   "cell_type": "markdown",
   "id": "0c0c172f",
   "metadata": {},
   "source": [
    "💡 **Vantagem dos Notebooks Jupyter**  \n",
    "Uma das grandes vantagens de utilizar os _Notebooks Jupyter_ é a possibilidade de dividir o código em **blocos** (ou células).  \n",
    "Cada célula pode conter apenas uma parte do código ou um excerto de texto, o que torna mais simples a leitura e a interpretação dos resultados.\n",
    "\n",
    "👉 Para **executar** uma célula, basta seleccioná-la e premir as teclas:\n",
    "\n",
    "🔹 `SHIFT` + `ENTER`\n",
    "\n",
    "A célula abaixo irá verificar se o Python está instalado no computador e indicar a respectiva versão."
   ]
  },
  {
   "cell_type": "code",
   "execution_count": 1,
   "id": "994510c9",
   "metadata": {},
   "outputs": [
    {
     "name": "stdout",
     "output_type": "stream",
     "text": [
      "Python 3.12.7\n"
     ]
    }
   ],
   "source": [
    "!python --version"
   ]
  },
  {
   "cell_type": "markdown",
   "id": "5bda3f43",
   "metadata": {},
   "source": [
    "Para mais informações sobre o uso dos Notebooks Jupyter, consulta o seguinte artigo: [Dicas e Truques do Jupyter Notebook](https://www.dataquest.io/blog/jupyter-notebook-tips-tricks-shortcuts/)."
   ]
  },
  {
   "cell_type": "markdown",
   "id": "eb9b3df5",
   "metadata": {},
   "source": [
    "<a class='anchor' id='2'></a>\n",
    "\n",
    "# **2. Introdução ao Python** "
   ]
  },
  {
   "cell_type": "markdown",
   "id": "b6c532c2",
   "metadata": {},
   "source": [
    "Se tiveres mais interesse em aprender Python, podes consultar o seguinte link para uma introdução detalhada: [Introdução ao Python - W3Schools](https://www.w3schools.com/python/python_intro.asp).\n",
    "\n",
    "Agora, para começarmos, vamos rodar o **código mais famoso** de todos os tempos para iniciantes em Python! 👇\n",
    "\n",
    "Este código simples, mas poderoso, imprime a famosa frase **\"Hello, World!\"** no ecrã:\n",
    "\n",
    "```python\n",
    "print(\"Hello, World!\")\n"
   ]
  },
  {
   "cell_type": "code",
   "execution_count": 2,
   "id": "4e37ea8b",
   "metadata": {},
   "outputs": [
    {
     "name": "stdout",
     "output_type": "stream",
     "text": [
      "Hello World\n"
     ]
    }
   ],
   "source": [
    "print(\"Hello World\")"
   ]
  },
  {
   "cell_type": "markdown",
   "id": "a589cdd7",
   "metadata": {},
   "source": [
    "Como podes ver, a função `print()` exibe o valor de uma variável na tela. 🖥️\n",
    "\n",
    "Essas variáveis podem ter diferentes **tipos**, que determinam o tipo de valor que podem armazenar. Abaixo, vais poder visualizar alguns dos **tipos básicos** de dados que existem em Python."
   ]
  },
  {
   "cell_type": "markdown",
   "id": "58e7701c",
   "metadata": {},
   "source": [
    "<a class='anchor' id='2.1.'></a>\n",
    "\n",
    "## **2.1. Tipos de Objetos** "
   ]
  },
  {
   "cell_type": "markdown",
   "id": "c26a6cb9",
   "metadata": {},
   "source": [
    "Em Python, as variáveis permitem armazenar diferentes tipos de valores. Estes são os **tipos mais comuns**:\n",
    "\n",
    "1️⃣ **Inteiros** (`int`) — Números inteiros, sem casas decimais, como `1`, `2`, `100`  \n",
    "2️⃣ **Números Decimais** (`float`) — Números com casas decimais, como `3.14`, `2.71`  \n",
    "3️⃣ **Textos / Frases** (`str`) — Sequências de caracteres, como `\"Olá, Mundo!\"`  \n",
    "4️⃣ **Booleanos** (`bool`) — Valores lógicos: `True` (verdadeiro) ou `False` (falso)\n",
    "\n",
    "---\n",
    "\n",
    "```python\n",
    "# Tipos de variáveis em Python\n",
    "numero_inteiro = 5           # int\n",
    "numero_decimal = 3.14        # float\n",
    "mensagem = \"Olá, Mundo!\"     # str\n",
    "verdadeiro = True            # bool\n",
    "```\n",
    "\n",
    "---\n",
    "\n",
    "ℹ️ **Nota:**  \n",
    "Para criar uma variável em Python, basta usar a seguinte estrutura:\n",
    "\n",
    "```python\n",
    "nome_da_variavel = valor"
   ]
  },
  {
   "cell_type": "markdown",
   "id": "c3c22950",
   "metadata": {},
   "source": [
    "<a class='anchor' id='2.1.1.'></a>\n",
    "\n",
    "### **2.1.1. Números** "
   ]
  },
  {
   "cell_type": "markdown",
   "id": "67864322",
   "metadata": {},
   "source": [
    "``Inteiros``"
   ]
  },
  {
   "cell_type": "code",
   "execution_count": 3,
   "id": "8377b6b9",
   "metadata": {},
   "outputs": [
    {
     "data": {
      "text/plain": [
       "7"
      ]
     },
     "execution_count": 3,
     "metadata": {},
     "output_type": "execute_result"
    }
   ],
   "source": [
    "a = 1\n",
    "b = 2\n",
    "c = 3\n",
    "a + b * c"
   ]
  },
  {
   "cell_type": "markdown",
   "id": "7052a543",
   "metadata": {},
   "source": [
    "``Floats``"
   ]
  },
  {
   "cell_type": "code",
   "execution_count": 4,
   "id": "5d07d5db",
   "metadata": {},
   "outputs": [
    {
     "data": {
      "text/plain": [
       "9.84"
      ]
     },
     "execution_count": 4,
     "metadata": {},
     "output_type": "execute_result"
    }
   ],
   "source": [
    "a = 1.2\n",
    "b = 2.4\n",
    "c = 3.6\n",
    "\n",
    "a + b * c"
   ]
  },
  {
   "cell_type": "markdown",
   "id": "43892bc6",
   "metadata": {},
   "source": [
    "Misturar ``Inteiros`` e ``Floats``"
   ]
  },
  {
   "cell_type": "code",
   "execution_count": 5,
   "id": "b625174b",
   "metadata": {},
   "outputs": [
    {
     "data": {
      "text/plain": [
       "13.0"
      ]
     },
     "execution_count": 5,
     "metadata": {},
     "output_type": "execute_result"
    }
   ],
   "source": [
    "a = 2\n",
    "b = 2.5\n",
    "c = 4.4\n",
    "\n",
    "a + b * c"
   ]
  },
  {
   "cell_type": "markdown",
   "id": "3b1f8008",
   "metadata": {},
   "source": [
    "🔍 Repara que o valor atribuído apresenta uma **casa decimal**, o que indica que a variável foi automaticamente interpretada como sendo do tipo `float`.\n",
    "\n",
    "💡 Para confirmar o tipo de uma variável em Python, podes utilizar a função `type()`:\n",
    "\n",
    "```python\n",
    "type(nome_da_variavel)"
   ]
  },
  {
   "cell_type": "code",
   "execution_count": 6,
   "id": "dd083d13",
   "metadata": {},
   "outputs": [
    {
     "data": {
      "text/plain": [
       "float"
      ]
     },
     "execution_count": 6,
     "metadata": {},
     "output_type": "execute_result"
    }
   ],
   "source": [
    "type(a + b*c)"
   ]
  },
  {
   "cell_type": "markdown",
   "id": "1759606e",
   "metadata": {},
   "source": [
    "`Conversão de Tipos de Dados`"
   ]
  },
  {
   "cell_type": "code",
   "execution_count": 7,
   "id": "1245c258",
   "metadata": {},
   "outputs": [
    {
     "data": {
      "text/plain": [
       "7"
      ]
     },
     "execution_count": 7,
     "metadata": {},
     "output_type": "execute_result"
    }
   ],
   "source": [
    "int(7.3)"
   ]
  },
  {
   "cell_type": "markdown",
   "id": "f5344fff",
   "metadata": {},
   "source": [
    "Ao converter um número decimal para inteiro com `int()`, o Python **trunca** a parte decimal — ou seja, **não arredonda** o valor."
   ]
  },
  {
   "cell_type": "code",
   "execution_count": 8,
   "id": "e22419ca",
   "metadata": {},
   "outputs": [
    {
     "data": {
      "text/plain": [
       "8.0"
      ]
     },
     "execution_count": 8,
     "metadata": {},
     "output_type": "execute_result"
    }
   ],
   "source": [
    "float(8)"
   ]
  },
  {
   "cell_type": "markdown",
   "id": "1a72af6a",
   "metadata": {},
   "source": [
    "`Operations`"
   ]
  },
  {
   "cell_type": "markdown",
   "id": "f5aa807a",
   "metadata": {},
   "source": [
    "📌 Aqui estão algumas das operações mais comuns:\n",
    "\n",
    "- ➕ **Adição**: `a + b`  \n",
    "- ➖ **Subtracção**: `a - b`  \n",
    "- ✖️ **Multiplicação**: `a * b`  \n",
    "- ⬆️ **Exponenciação** (potência): `a ** b`  \n",
    "- 🔄 **Sinal negativo** (unário): `-a`"
   ]
  },
  {
   "cell_type": "code",
   "execution_count": 1,
   "id": "e0d6b256",
   "metadata": {},
   "outputs": [
    {
     "data": {
      "text/plain": [
       "16.5"
      ]
     },
     "execution_count": 1,
     "metadata": {},
     "output_type": "execute_result"
    }
   ],
   "source": [
    "# Quanto é 9 + 7.5?\n",
    "9 + 7.5"
   ]
  },
  {
   "cell_type": "code",
   "execution_count": 2,
   "id": "85a37732",
   "metadata": {},
   "outputs": [
    {
     "data": {
      "text/plain": [
       "100.0"
      ]
     },
     "execution_count": 2,
     "metadata": {},
     "output_type": "execute_result"
    }
   ],
   "source": [
    "# Quanto é 40 x 2.5?\n",
    "40 * 2.5"
   ]
  },
  {
   "cell_type": "code",
   "execution_count": 3,
   "id": "1b9994dc",
   "metadata": {},
   "outputs": [
    {
     "data": {
      "text/plain": [
       "1000000000000000000000000000000000000000000000000000000000000000000000000000000000000000000000000000000000000000000000000000000000000000000000000000000000000000000000000000000000000000000000000000000"
      ]
     },
     "execution_count": 3,
     "metadata": {},
     "output_type": "execute_result"
    }
   ],
   "source": [
    "# Quanto é 100 ^ 99?\n",
    "100 ** 99"
   ]
  },
  {
   "cell_type": "markdown",
   "id": "cc96f3f9",
   "metadata": {},
   "source": [
    "➗ **Divisões em Python**\n",
    "\n",
    "Python permite realizar diferentes tipos de divisão, consoante o resultado pretendido:\n",
    "\n",
    "- 🔹 **Divisão com casas decimais** (divisão real): `a / b`  \n",
    "  > Retorna um número decimal (ponto flutuante).\n",
    "\n",
    "- 🔹 **Divisão inteira**: `a // b`  \n",
    "  > Retorna apenas a parte inteira do quociente (truncada para baixo).\n",
    "\n",
    "- 🔹 **Resto da divisão inteira** (módulo): `a % b`  \n",
    "  > Retorna o valor restante da divisão de `a` por `b`."
   ]
  },
  {
   "cell_type": "code",
   "execution_count": 12,
   "id": "abeefcbc",
   "metadata": {},
   "outputs": [
    {
     "name": "stdout",
     "output_type": "stream",
     "text": [
      "3.3333333333333335\n",
      "3\n",
      "1\n"
     ]
    }
   ],
   "source": [
    "a = 10\n",
    "b = 3\n",
    "\n",
    "print(a / b)\n",
    "print(a // b)\n",
    "print(a % b)"
   ]
  },
  {
   "cell_type": "markdown",
   "id": "5dd1403d",
   "metadata": {},
   "source": [
    "<a class='anchor' id='2.1.2.'></a>\n",
    "\n",
    "### **2.1.2. Strings** "
   ]
  },
  {
   "cell_type": "markdown",
   "id": "f57c1f9a",
   "metadata": {},
   "source": [
    "``Regras das Strings``\n",
    "\n",
    "- **Strings curtas** são delimitadas por **aspas duplas** (`\"`) ou **aspas simples** (`'`).\n",
    "- **Strings curtas** ocupam **apenas uma linha**.\n",
    "- **Caracteres especiais** podem ser inseridos usando **sequências de escape** (ex: `\\n` para nova linha, `\\t` para tabulação, etc.)."
   ]
  },
  {
   "cell_type": "code",
   "execution_count": 13,
   "id": "29f68a0e",
   "metadata": {},
   "outputs": [
    {
     "name": "stdout",
     "output_type": "stream",
     "text": [
      "Line 1\n",
      "Line 2\n",
      "\n",
      "Line 1\n",
      "Line 2\n",
      "\n"
     ]
    }
   ],
   "source": [
    "print(\"Line 1\\nLine 2\\n\")\n",
    "print('Line 1\\nLine 2\\n')"
   ]
  },
  {
   "cell_type": "markdown",
   "id": "8dc39da9",
   "metadata": {},
   "source": [
    "``Manipulação de Strings``"
   ]
  },
  {
   "cell_type": "code",
   "execution_count": 14,
   "id": "b5819547",
   "metadata": {},
   "outputs": [
    {
     "name": "stdout",
     "output_type": "stream",
     "text": [
      "Diogo Freitas\n"
     ]
    }
   ],
   "source": [
    "# Concatenar strings\n",
    "\n",
    "first = 'Diogo'\n",
    "last = \"Freitas\"\n",
    "full = first + \" \" + last\n",
    "print(full)"
   ]
  },
  {
   "cell_type": "code",
   "execution_count": 15,
   "id": "1d4842cc",
   "metadata": {},
   "outputs": [
    {
     "name": "stdout",
     "output_type": "stream",
     "text": [
      "D\n",
      "Dio\n",
      "s\n",
      "as\n"
     ]
    }
   ],
   "source": [
    "print(full[0])      # gets the first char\n",
    "print(full[0:3])    # gets chars from 0 to 2\n",
    "print(full[-1])     # gets the last char\n",
    "print(full[-2:])    # gets the last 2 chars"
   ]
  },
  {
   "cell_type": "markdown",
   "id": "4e65cb7b",
   "metadata": {},
   "source": [
    "🔒 **Strings São Objetos Imutáveis**\n",
    "\n",
    "As **strings** em Python são **imutáveis**, o que significa que não podemos alterar diretamente uma string após ela ser criada. Em vez disso, se precisarmos de uma string diferente, devemos criar uma nova.\n",
    "\n",
    "```python\n",
    "# Isto não é possível:\n",
    "nome = \"João\"\n",
    "nome[0] = \"P\"  # Isto irá causar um erro!\n"
   ]
  },
  {
   "cell_type": "code",
   "execution_count": 16,
   "id": "1f4fc672",
   "metadata": {},
   "outputs": [
    {
     "name": "stdout",
     "output_type": "stream",
     "text": [
      "True\n"
     ]
    }
   ],
   "source": [
    "# Também consegues verificar se existe uma substring dentro de uma string\n",
    "print(\"Freitas\" in full)"
   ]
  },
  {
   "cell_type": "code",
   "execution_count": 17,
   "id": "ac23aa3c",
   "metadata": {},
   "outputs": [
    {
     "name": "stdout",
     "output_type": "stream",
     "text": [
      "13 Caracteres\n"
     ]
    }
   ],
   "source": [
    "# Podes usar a função len() para saber o tamanho de uma string\n",
    "print(len(full), \"Caracteres\")"
   ]
  },
  {
   "cell_type": "markdown",
   "id": "c37e58ca",
   "metadata": {},
   "source": [
    "``Métodos em Strings``"
   ]
  },
  {
   "cell_type": "markdown",
   "id": "1504d05e",
   "metadata": {},
   "source": [
    "Em Python, os **métodos** são funções associadas a objetos. Para **chamar um método**, utilizamos a seguinte sintaxe:\n",
    "\n",
    "```python\n",
    "<object>.<método>()\n"
   ]
  },
  {
   "cell_type": "code",
   "execution_count": 18,
   "id": "89cf7b0e",
   "metadata": {},
   "outputs": [
    {
     "name": "stdout",
     "output_type": "stream",
     "text": [
      "Diogo Freitas\n"
     ]
    },
    {
     "data": {
      "text/plain": [
       "True"
      ]
     },
     "execution_count": 18,
     "metadata": {},
     "output_type": "execute_result"
    }
   ],
   "source": [
    "print(full)\n",
    "full.startswith(\"Diogo\")"
   ]
  },
  {
   "cell_type": "code",
   "execution_count": 19,
   "id": "f3fb5f73",
   "metadata": {},
   "outputs": [
    {
     "name": "stdout",
     "output_type": "stream",
     "text": [
      "\u001b[31mDocstring:\u001b[39m\n",
      "S.startswith(prefix[, start[, end]]) -> bool\n",
      "\n",
      "Return True if S starts with the specified prefix, False otherwise.\n",
      "With optional start, test S beginning at that position.\n",
      "With optional end, stop comparing S at that position.\n",
      "prefix can also be a tuple of strings to try.\n",
      "\u001b[31mType:\u001b[39m      builtin_function_or_method"
     ]
    }
   ],
   "source": [
    "# Se tiveres dúvidas sobre métodos, podes colocar um \"?\" no final\n",
    "full.startswith?"
   ]
  },
  {
   "cell_type": "code",
   "execution_count": 20,
   "id": "250f9c61",
   "metadata": {},
   "outputs": [
    {
     "data": {
      "text/plain": [
       "'DIOGO FREITAS'"
      ]
     },
     "execution_count": 20,
     "metadata": {},
     "output_type": "execute_result"
    }
   ],
   "source": [
    "# Colocar tudo em maiúsculas\n",
    "full.upper()"
   ]
  },
  {
   "cell_type": "code",
   "execution_count": 21,
   "id": "ef1ce0cc",
   "metadata": {},
   "outputs": [
    {
     "data": {
      "text/plain": [
       "'diogo freitas'"
      ]
     },
     "execution_count": 21,
     "metadata": {},
     "output_type": "execute_result"
    }
   ],
   "source": [
    "# Colocar tudo em minusculas\n",
    "full.lower()"
   ]
  },
  {
   "cell_type": "code",
   "execution_count": 22,
   "id": "e106a567",
   "metadata": {},
   "outputs": [
    {
     "name": "stdout",
     "output_type": "stream",
     "text": [
      "Diogo Freitas\n",
      "find() devolve: 11\n",
      "Índice da letra \"a\": 11\n"
     ]
    }
   ],
   "source": [
    "# Procurar por um caracter na string 'full'\n",
    "print(full)\n",
    "letra = \"a\"\n",
    "\n",
    "# Usar find para encontrar o índice da primeira ocorrência da letra\n",
    "# find() devolve -1 se o caracter não for encontrado, evitando erro\n",
    "pos_find = full.find(letra)\n",
    "print(f'find() devolve: {pos_find}')  # Se não existir, devolve -1\n",
    "\n",
    "# Usar index para encontrar o índice da primeira ocorrência da letra\n",
    "# index() lança um erro se o caracter não existir\n",
    "pos = full.index(letra)\n",
    "print(f'Índice da letra \"{letra}\": {pos}')"
   ]
  },
  {
   "cell_type": "markdown",
   "id": "182a8cdf",
   "metadata": {},
   "source": [
    "``Formatação de Strings``"
   ]
  },
  {
   "cell_type": "markdown",
   "id": "fd23b827",
   "metadata": {},
   "source": [
    "Utilizamos um método chamado `format` para substituir marcadores em uma string. Os marcadores são representados por `{}`."
   ]
  },
  {
   "cell_type": "code",
   "execution_count": 23,
   "id": "a9630850",
   "metadata": {},
   "outputs": [
    {
     "name": "stdout",
     "output_type": "stream",
     "text": [
      "Nome Completo: Diogo Alonso Freitas\n",
      "Primeiro e Último Nome: Diogo Freitas\n"
     ]
    }
   ],
   "source": [
    "print(\"Nome Completo: {}\".format('Diogo Alonso Freitas'))\n",
    "print(\"Primeiro e Último Nome: {}\".format(full))"
   ]
  },
  {
   "cell_type": "code",
   "execution_count": 24,
   "id": "ea841f52",
   "metadata": {},
   "outputs": [
    {
     "name": "stdout",
     "output_type": "stream",
     "text": [
      "Eu adoro Python, isto é mesmo Fixe\n"
     ]
    }
   ],
   "source": [
    "print(\"Eu adoro {}, isto é mesmo {}\".format('Python', 'Fixe'))"
   ]
  },
  {
   "cell_type": "markdown",
   "id": "c83435ae",
   "metadata": {},
   "source": [
    "``F String``"
   ]
  },
  {
   "cell_type": "code",
   "execution_count": 25,
   "id": "72c0c735",
   "metadata": {},
   "outputs": [
    {
     "name": "stdout",
     "output_type": "stream",
     "text": [
      "Tenho um papagaio chamado Shakira. Sabias que 1 + 2 é igual a 3?\n"
     ]
    }
   ],
   "source": [
    "PetRace = \"papagaio\"\n",
    "Petname = \"Shakira\"\n",
    "a = 1\n",
    "b = 2\n",
    "print(f\"Tenho um {PetRace} chamado {Petname}. Sabias que {a} + {b} é igual a {a + b}?\")"
   ]
  },
  {
   "cell_type": "markdown",
   "id": "339c0a84",
   "metadata": {},
   "source": [
    "``Long Strings``"
   ]
  },
  {
   "cell_type": "code",
   "execution_count": 26,
   "id": "67377443",
   "metadata": {},
   "outputs": [],
   "source": [
    "long = '''Diz-me, será que o amor\n",
    "Ainda é uma sugestão popular\n",
    "Ou é apenas uma arte obsoleta?\n",
    "\n",
    "Perdoa-me, por perguntar,\n",
    "Esta simples questão,\n",
    "Pois não estou familiarizado com o seu coração.'''"
   ]
  },
  {
   "cell_type": "code",
   "execution_count": 27,
   "id": "d42a002f",
   "metadata": {},
   "outputs": [
    {
     "name": "stdout",
     "output_type": "stream",
     "text": [
      "Diz-me, será que o amor\n",
      "Ainda é uma sugestão popular\n",
      "Ou é apenas uma arte obsoleta?\n",
      "\n",
      "Perdoa-me, por perguntar,\n",
      "Esta simples questão,\n",
      "Pois não estou familiarizado com o seu coração.\n"
     ]
    }
   ],
   "source": [
    "print(long)"
   ]
  },
  {
   "cell_type": "markdown",
   "id": "38e83036",
   "metadata": {},
   "source": [
    "<a class='anchor' id='2.1.3.'></a>\n",
    "\n",
    "### **2.1.3. Condições e Booleans** "
   ]
  },
  {
   "cell_type": "code",
   "execution_count": 28,
   "id": "2e7b917f",
   "metadata": {},
   "outputs": [
    {
     "name": "stdout",
     "output_type": "stream",
     "text": [
      "True\n",
      "False\n",
      "False\n",
      "False\n",
      "True\n",
      "True\n"
     ]
    }
   ],
   "source": [
    "# Operadores de comparação\n",
    "x = 5\n",
    "y = 10\n",
    "\n",
    "# Menor que\n",
    "print(x < y)  # Retorna: True (5 é menor que 10)\n",
    "\n",
    "# Maior que\n",
    "print(x > y)  # Retorna: False (5 não é maior que 10)\n",
    "\n",
    "# Igual a\n",
    "print(x == y)  # Retorna: False (5 não é igual a 10)\n",
    "\n",
    "# Maior ou igual a\n",
    "print(x >= y)  # Retorna: False (5 não é maior ou igual a 10)\n",
    "\n",
    "# Menor ou igual a\n",
    "print(x <= y)  # Retorna: True (5 é menor ou igual a 10)\n",
    "\n",
    "# Diferente de\n",
    "print(x != y)  # Retorna: True (5 é diferente de 10)"
   ]
  },
  {
   "cell_type": "markdown",
   "id": "e664498c",
   "metadata": {},
   "source": [
    "<a class='anchor' id='2.2.'></a>\n",
    "\n",
    "## **2.2. Funções** "
   ]
  },
  {
   "cell_type": "markdown",
   "id": "7387e469",
   "metadata": {},
   "source": [
    "Uma **função** em Python é um bloco de código que realiza uma tarefa específica e pode ser reutilizado em diferentes partes do programa.\n",
    "\n",
    "Para definir uma função em Python, usamos a palavra-chave `def`, seguida do nome da função e parênteses. Dentro dos parênteses, podemos definir parâmetros que a função poderá receber. O código que será executado quando a função for chamada deve estar indentado logo após a definição. Para a invocar, basta invocar a função pelo seu nome.\n",
    "Exemplo de função simples:\n",
    "\n",
    "```python\n",
    "def saudacao():\n",
    "    print(\"Olá, bem-vindo ao Python!\")\n",
    "\n",
    "saudacao()\n",
    "```"
   ]
  },
  {
   "cell_type": "code",
   "execution_count": 29,
   "id": "85ce724e",
   "metadata": {},
   "outputs": [
    {
     "name": "stdout",
     "output_type": "stream",
     "text": [
      "6\n"
     ]
    }
   ],
   "source": [
    "def double(x):\n",
    "    \"\"\"\n",
    "    Returns the double of its argument\n",
    "    \"\"\"\n",
    "    return 2 * x\n",
    "\n",
    "print(double(3))"
   ]
  },
  {
   "cell_type": "code",
   "execution_count": 30,
   "id": "e0c0173f",
   "metadata": {},
   "outputs": [
    {
     "name": "stdout",
     "output_type": "stream",
     "text": [
      "\u001b[31mSignature:\u001b[39m double(x)\n",
      "\u001b[31mDocstring:\u001b[39m Returns the double of its argument\n",
      "\u001b[31mFile:\u001b[39m      c:\\users\\diogo\\appdata\\local\\temp\\ipykernel_21304\\1339562963.py\n",
      "\u001b[31mType:\u001b[39m      function"
     ]
    }
   ],
   "source": [
    "double?"
   ]
  },
  {
   "cell_type": "markdown",
   "id": "75e61b19",
   "metadata": {},
   "source": [
    "<a class='anchor' id='2.3.'></a>\n",
    "\n",
    "## **2.3. if / elif / else**\n",
    "\n",
    "Em Python, as instruções `if`, `elif` e `else` permitem que o programa tome **decisões automáticas** com base em condições que podem ser verdadeiras (`True`) ou falsas (`False`). Esta estrutura é muito útil quando queremos **executar diferentes blocos de código conforme uma ou mais condições**.\n",
    "\n",
    "- `if`: verifica uma **primeira condição**. Se for verdadeira, o bloco é executado.\n",
    "- `elif` (abreviação de *else if*): permite testar uma **nova condição**, **caso a anterior tenha sido falsa**.\n",
    "    - Podemos ter vários `elif`, que são verificados pela ordem.\n",
    "    - Assim que um `elif` for verdadeiro, os seguintes são ignorados.\n",
    "- `else`: **cai aqui apenas se todas as condições anteriores forem falsas**.\n",
    "\n",
    "**Sintaxe básica:**\n",
    "\n",
    "```python\n",
    "if condição1:\n",
    "    # Código executado se condição1 for verdadeira\n",
    "elif condição2:\n",
    "    # Código executado se condição1 for falsa e condição2 for verdadeira\n",
    "elif condição3:\n",
    "    # Código executado se todas as anteriores forem falsas e esta for verdadeira\n",
    "else:\n",
    "    # Código executado se nenhuma das condições anteriores for verdadeira\n"
   ]
  },
  {
   "cell_type": "code",
   "execution_count": 31,
   "id": "2e804a4a",
   "metadata": {},
   "outputs": [
    {
     "name": "stdout",
     "output_type": "stream",
     "text": [
      "Adulto\n"
     ]
    }
   ],
   "source": [
    "idade = 20\n",
    "\n",
    "if idade < 18:\n",
    "    print(\"Menor de idade\")\n",
    "elif idade >= 18 and idade < 65:\n",
    "    print(\"Adulto\")\n",
    "else:\n",
    "    print(\"Idoso\")"
   ]
  },
  {
   "cell_type": "code",
   "execution_count": 32,
   "id": "34c4344f",
   "metadata": {},
   "outputs": [
    {
     "name": "stdout",
     "output_type": "stream",
     "text": [
      "Palavra longa\n"
     ]
    }
   ],
   "source": [
    "palavra = \"filologia\"\n",
    "\n",
    "if len(palavra) < 5:\n",
    "    print(\"Palavra muito curta\")\n",
    "elif len(palavra) <= 8:\n",
    "    print(\"Palavra de comprimento médio\")\n",
    "else:\n",
    "    print(\"Palavra longa\")"
   ]
  },
  {
   "cell_type": "code",
   "execution_count": 33,
   "id": "12360195",
   "metadata": {},
   "outputs": [
    {
     "name": "stdout",
     "output_type": "stream",
     "text": [
      "Letra maiúscula\n"
     ]
    }
   ],
   "source": [
    "# Verifica o tipo de letra\n",
    "letra = \"A\"\n",
    "\n",
    "if letra.isupper():\n",
    "    print(\"Letra maiúscula\")\n",
    "elif letra.islower():\n",
    "    print(\"Letra minúscula\")\n",
    "else:\n",
    "    print(\"Carácter especial ou número\")"
   ]
  },
  {
   "cell_type": "code",
   "execution_count": 34,
   "id": "5e27069a",
   "metadata": {},
   "outputs": [
    {
     "data": {
      "text/plain": [
       "True"
      ]
     },
     "execution_count": 34,
     "metadata": {},
     "output_type": "execute_result"
    }
   ],
   "source": [
    "letra = \"B\"\n",
    "letra.isalpha()"
   ]
  },
  {
   "cell_type": "markdown",
   "id": "8487d130",
   "metadata": {},
   "source": [
    "<a class='anchor' id='3.'></a>\n",
    "\n",
    "# **3. Exercicios** "
   ]
  },
  {
   "cell_type": "markdown",
   "id": "d76a0da6",
   "metadata": {},
   "source": [
    "### **Exercício 1: Verificar se uma palavra está na frase**\n",
    "\n",
    "Cria uma função chamada `verificar_palavra` que recebe uma frase e uma palavra como parâmetros. A função deve verificar se a palavra aparece na frase e retornar `True` se sim, ou `False` caso contrário.\n",
    "\n",
    "**Exemplo de entrada:**\n",
    "```python\n",
    "verificar_substring(\"A Filologia é fixe\", \"Filologia\")  # True\n",
    "```"
   ]
  },
  {
   "cell_type": "code",
   "execution_count": 6,
   "id": "b8b06cf1",
   "metadata": {},
   "outputs": [
    {
     "data": {
      "text/plain": [
       "True"
      ]
     },
     "execution_count": 6,
     "metadata": {},
     "output_type": "execute_result"
    }
   ],
   "source": [
    "def verificar_substring(string, substring):\n",
    "    \"\"\"\n",
    "    Verifica se uma substring está presente em uma string.\n",
    "    \"\"\"\n",
    "    return substring.lower() in string.lower()\n",
    "\n",
    "verificar_substring(\"A Filologia é fixe\", \"Filologia\")"
   ]
  },
  {
   "cell_type": "markdown",
   "id": "5ab9d9db",
   "metadata": {},
   "source": [
    "### **Exercício 2: Contar o número de caracteres em uma string**\n",
    "\n",
    "Cria uma função chamada `contar_caracteres` que recebe uma string e retorna o número de caracteres dessa string.\n",
    "\n",
    "**Exemplo de entrada:**\n",
    "```python\n",
    "contar_caracteres(\"Python\")  # 6\n",
    "```"
   ]
  },
  {
   "cell_type": "code",
   "execution_count": 7,
   "id": "87992473",
   "metadata": {},
   "outputs": [
    {
     "data": {
      "text/plain": [
       "6"
      ]
     },
     "execution_count": 7,
     "metadata": {},
     "output_type": "execute_result"
    }
   ],
   "source": [
    "def contar_caracteres(string):\n",
    "    \"\"\"\n",
    "    Conta o número de caracteres em uma string.\n",
    "    \"\"\"\n",
    "    return len(string)\n",
    "\n",
    "contar_caracteres(\"Python\")"
   ]
  },
  {
   "cell_type": "markdown",
   "id": "378f5c18",
   "metadata": {},
   "source": [
    "### **Exercício 3: Juntar duas strings com slice**\n",
    "\n",
    "Cria uma função chamada `juntar_strings` que recebe duas strings. A função deve utilizar *slicing* para pegar até a metade da primeira string e da segunda string a partir da metade até o final. Se a palavra for ímpar, a letra do meio deve ser incluída.\n",
    "\n",
    "**Exemplo de entrada:**\n",
    "```python\n",
    "juntar_strings(\"Banana\", \"Falido\")  # (Ban)ana + Fal(ido) = Banido\n",
    "```\n",
    "\n",
    "**Nota:** \n",
    "- Para a primeira string, o slicing deve ser feito até a metade.\n",
    "- Para a segunda string, o slicing deve ser feito a partir da metade até o final.\n",
    "- Se a palavra for ímpar, deve-se incluir a letra do meio (por exemplo, \"Mundo\" → \"Mun\", \"fixe\" → \"fi\").\n",
    "\n",
    "**Dica:**\n",
    "- Utiliza a divisão inteira (`//`) para calcular a metade da palavra."
   ]
  },
  {
   "cell_type": "code",
   "execution_count": 14,
   "id": "ab404999",
   "metadata": {},
   "outputs": [
    {
     "data": {
      "text/plain": [
       "'Banido'"
      ]
     },
     "execution_count": 14,
     "metadata": {},
     "output_type": "execute_result"
    }
   ],
   "source": [
    "def juntar_strings(string1, string2):\n",
    "    if type(string1) != str or type(string2) != str:\n",
    "        raise ValueError(\"Ambos os argumentos devem ser strings.\")\n",
    "    \"\"\"\n",
    "    Junta duas strings com um espaço entre elas.\n",
    "    \"\"\"\n",
    "    return string1[:len(string1)//2] + string2[len(string2)//2:]\n",
    "\n",
    "juntar_strings(\"Banana\", \"Falido\")"
   ]
  },
  {
   "cell_type": "markdown",
   "id": "5ef644bc",
   "metadata": {},
   "source": [
    "### **Exercício 4 : Identificar o tipo de letra**\n",
    "\n",
    "Neste exercício, vais criar um programa que recebe uma letra e determina se essa caracter é:\n",
    "\n",
    "- Uma **vogal**  \n",
    "- Uma **consoante**  \n",
    "- Ou **não é uma letra** (por exemplo, números, símbolos ou espaços)\n",
    "\n",
    "**Exemplo de entrada:**\n",
    "```python\n",
    "letra = \"a\"\n",
    "\n",
    "if ...:\n",
    "    print(\"É uma vogal\")\n",
    "elif ...:\n",
    "    print(\"É uma consoante\")\n",
    "else:\n",
    "    print(\"Não é uma letra\")\n",
    "```"
   ]
  },
  {
   "cell_type": "code",
   "execution_count": 23,
   "id": "645f87a8",
   "metadata": {},
   "outputs": [
    {
     "name": "stdout",
     "output_type": "stream",
     "text": [
      "É uma vogal\n"
     ]
    }
   ],
   "source": [
    "def what_is_this(x):\n",
    "    if len(x) > 1:\n",
    "        raise ValueError(\"Só podes inserir uma letra ou número.\")\n",
    "    elif x.lower() in \"aeiou\":\n",
    "        print(\"É uma vogal\")\n",
    "    elif x.isalpha() and x.lower() not in \"aeiou\":\n",
    "        print(\"É uma consoante\")\n",
    "    else:\n",
    "        print(\"Não é uma letra\")\n",
    "\n",
    "what_is_this(\"A\")"
   ]
  }
 ],
 "metadata": {
  "kernelspec": {
   "display_name": ".venv",
   "language": "python",
   "name": "python3"
  },
  "language_info": {
   "codemirror_mode": {
    "name": "ipython",
    "version": 3
   },
   "file_extension": ".py",
   "mimetype": "text/x-python",
   "name": "python",
   "nbconvert_exporter": "python",
   "pygments_lexer": "ipython3",
   "version": "3.12.7"
  }
 },
 "nbformat": 4,
 "nbformat_minor": 5
}
