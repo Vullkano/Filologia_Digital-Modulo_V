{
 "cells": [
  {
   "cell_type": "markdown",
   "metadata": {},
   "source": [
    "<div style=\"display: flex; flex-direction: column; align-items: center; text-align: center; font-family: 'Avenir Next LT Pro', sans-serif; padding: 50px; background-color: #f4f4f4; border-radius: 12px; box-shadow: 0px 4px 12px rgba(0, 0, 0, 0.1);\">\n",
    "    <h1 style=\"font-size: 50px; font-weight: bold; color: #222; margin-bottom: 10px;\">Filologia Digital - Módulo V</h1>\n",
    "    <h3 style=\"font-size: 30px; font-weight: bold; color: #555; max-width: 80%; line-height: 1.3;\">\n",
    "        Para além da edição: <span style=\"font-weight: normal; color: #666;\">o digital na investigação linguística</span>\n",
    "    </h3>\n",
    "    <h4 style=\"font-size: 26px; font-weight: bold; color: #333; background-color: #e0e0e0; padding: 10px 20px; border-radius: 8px; margin-top: 25px;\">Sessão 2 - Conceitos básicos de Python</h4>\n",
    "    <img src=\"https://filologiadigitalcl.wordpress.com/wp-content/uploads/2024/11/figure05.png?w=1024\" \n",
    "         style=\"width: 80%; max-width: 600px; margin-top: 30px; border-radius: 10px; box-shadow: 0px 4px 12px rgba(0, 0, 0, 0.15);\">\n",
    "</div>"
   ]
  },
  {
   "cell_type": "markdown",
   "metadata": {},
   "source": [
    "<!DOCTYPE html>\n",
    "<html lang=\"en\">\n",
    "<head>\n",
    "    <meta charset=\"UTF-8\">\n",
    "    <meta name=\"viewport\" content=\"width=device-width, initial-scale=1.0\">\n",
    "    <style>\n",
    "        body {\n",
    "            font-family: Arial, sans-serif;\n",
    "            background-color: #f4f4f4;\n",
    "            color: #333;\n",
    "            margin: 0;\n",
    "            padding: 20px;\n",
    "            line-height: 1.6;\n",
    "        }\n",
    "        ol {\n",
    "            counter-reset: section;\n",
    "            list-style: none;\n",
    "            padding-left: 0;\n",
    "        }\n",
    "        /* First-level list */\n",
    "        ol > li {\n",
    "            counter-increment: section;\n",
    "            margin-bottom: 10px;\n",
    "            padding-left: 0;\n",
    "        }\n",
    "        ol > li::before {\n",
    "            content: counters(section, \".\") \" \";\n",
    "            font-weight: bold;\n",
    "        }\n",
    "        /* Second-level list */\n",
    "        ol ol {\n",
    "            counter-reset: subsection;\n",
    "            padding-left: 20px;\n",
    "            margin-top: 5px;\n",
    "        }\n",
    "        ol ol > li {\n",
    "            counter-increment: subsection;\n",
    "            margin-bottom: 5px;\n",
    "            padding-left: 10px;\n",
    "        }\n",
    "        ol ol > li::before {\n",
    "            content: counters(section, \".\") \".\" counter(subsection) \" \";\n",
    "            font-weight: bold;\n",
    "        }\n",
    "        /* Third-level list */\n",
    "        ol ol ol {\n",
    "            counter-reset: subsubsection;\n",
    "            padding-left: 40px;\n",
    "            margin-top: 5px;\n",
    "        }\n",
    "        ol ol ol > li {\n",
    "            counter-increment: subsubsection;\n",
    "            margin-bottom: 5px;\n",
    "            padding-left: 10px;\n",
    "            font-size: 0.9em; /* Make font size smaller */\n",
    "            font-weight: normal; /* Remove bold styling */\n",
    "        }\n",
    "        ol ol ol > li::before {\n",
    "            content: counters(section, \".\") \".\" counter(subsection) \".\" counter(subsubsection) \" \";\n",
    "            font-weight: bold;\n",
    "        }\n",
    "        a {\n",
    "            text-decoration: none;\n",
    "            color: #007BFF;\n",
    "            font-weight: bold;\n",
    "        }\n",
    "        a:hover {\n",
    "            color: #0056b3;\n",
    "        }\n",
    "        footer {\n",
    "            margin-top: 50px;\n",
    "        }\n",
    "    </style>\n",
    "</head>\n",
    "<body>\n",
    "\n",
    "<h2><b>Índice</b></h2>\n",
    "<ol start=\"0\">\n",
    "    <li><a href=\"#1\">Aquecimento</a></li>\n",
    "    <li><a href=\"#2\">Invocação, Recursividade e Input/Output</a></li>\n",
    "        <ol>\n",
    "            <li><a href=\"#2.1\">Exercicios</a></li>\n",
    "        </ol>\n",
    "    <li><a href=\"#3\">Variáveis e Estruturas de Controlo</a></li>\n",
    "        <ol>\n",
    "            <li><a href=\"#3.1\">Exercicios</a></li>\n",
    "        </ol>\n",
    "</ol>\n",
    "\n",
    "<footer></footer>\n",
    "\n",
    "</body>\n",
    "</html>"
   ]
  },
  {
   "cell_type": "markdown",
   "metadata": {
    "vscode": {
     "languageId": "plaintext"
    }
   },
   "source": [
    "# <a class='anchor' id='1'></a>\n",
    "\n",
    "> # **1. Aquecimento** "
   ]
  },
  {
   "cell_type": "markdown",
   "metadata": {},
   "source": [
    "### <a id=\"tp1\"></a>✨ **Exercício 1**: Obter o número de divisores de um número inteiro n. \n",
    "Esta função deverá iterar sobre os números naturais até n, contando os números que são divisores de n.\n",
    "Exemplo:\n",
    "\n",
    "```python\n",
    "        number_of_divisors(8) → 4     # (1, 2, 4, 8)\n",
    "```"
   ]
  },
  {
   "cell_type": "code",
   "execution_count": null,
   "metadata": {
    "vscode": {
     "languageId": "plaintext"
    }
   },
   "outputs": [],
   "source": []
  },
  {
   "cell_type": "markdown",
   "metadata": {
    "vscode": {
     "languageId": "plaintext"
    }
   },
   "source": [
    "### ✨ **Exercício 2**: Obter o somatório dos divisores próprios de um número inteiro n\n",
    "Note que o conjunto dos divisores próprios exclui o próprio número.\n",
    "\n",
    "Esta função deverá iterar sobre os números naturais até *n* (exclusive), acumulando os números que são divisores de *n*.\\\n",
    "Exemplo:\n",
    "\n",
    "```python\n",
    "        sum_of_divisors(6) → 6     # (1 + 2 + 3)\n",
    "```"
   ]
  },
  {
   "cell_type": "code",
   "execution_count": null,
   "metadata": {
    "vscode": {
     "languageId": "plaintext"
    }
   },
   "outputs": [],
   "source": []
  },
  {
   "cell_type": "markdown",
   "metadata": {},
   "source": [
    "# <a class='anchor' id='2'></a>\n",
    "\n",
    "> # **2. Invocação, Recursividade e Input/Output** "
   ]
  },
  {
   "cell_type": "markdown",
   "metadata": {
    "vscode": {
     "languageId": "plaintext"
    }
   },
   "source": [
    "## 🎯 **Objetivos da Aula**\n",
    "\n",
    "> ### ✅ **Definir Funções e Utilizar Recursão**\n",
    "- Experimentar a definição de funções que invocam outras funções.\n",
    "- Compreender a invocação **recursiva** de funções.\n",
    "\n",
    "> ### 🔄 **Procedimentos**\n",
    "- Definir e utilizar **procedimentos** em Python.\n",
    "\n",
    "> ### 💻 **Interação com o Utilizador**\n",
    "- Desenvolver código que receba **input** e forneça **output** interativo.\n",
    "\n",
    "> ### 🔁 **Utilização de Variáveis e Estruturas de Controlo**\n",
    "- **Iterações**: Repetir tarefas com laços.\n",
    "- **Acumulações**: Armazenar valores ao longo do tempo.\n",
    "- **Contagens**: Realizar contagens e verificações.\n",
    "- **Pesquisas**: Localizar e comparar elementos.\n",
    "\n",
    "---\n",
    "\n",
    "> ## 🔔 **Informação a Reter** 🔔\n",
    "\n",
    "#### ➕➖ **Funções e Recursão**\n",
    "| Conceito | Descrição  | Exemplo |\n",
    "|----------|-----------|---------|\n",
    "| **Função** | Definição de funções que executam tarefas específicas | `def soma(a, b): return a + b` |\n",
    "| **Recursão** | Função que chama a si mesma | `def fatorial(n): return n * fatorial(n-1)` |\n",
    "\n",
    "#### 🛠 **Procedimentos e Interação**\n",
    "| Conceito | Descrição  | Exemplo |\n",
    "|----------|-----------|---------|\n",
    "| **Procedimento** | Função sem valor de retorno | `def saudacao(): print(\"Olá!\")` |\n",
    "| **Input/Output** | Receber entrada do utilizador e fornecer saída | `nome = input(\"Qual é o teu nome?\")` |\n",
    "\n",
    "#### 🔁 **Estruturas de Controlo**\n",
    "| Conceito      | Descrição                                  | Exemplo                                                |\n",
    "|---------------|--------------------------------------------|--------------------------------------------------------|\n",
    "| **Iteração**  | Repetir ações com laços                   | `i = 0; while i < 5: print(i); i += 1`                  |\n",
    "| **Acumulação**| Somar valores ao longo do tempo           | `soma = 0; soma += 10`                                 |\n",
    "| **Contagem**  | Contar quantas vezes algo ocorre          | `contador = 0; if condição: contador += 1`             |\n",
    "| **Pesquisa**  | Localizar um elemento em uma lista        | `if valor in lista: print(\"Encontrado!\")`              |"
   ]
  },
  {
   "cell_type": "markdown",
   "metadata": {},
   "source": [
    "## <a class='anchor' id='2.1.'></a>\n",
    "\n",
    "> ## **2.1. Exercicios - Funções e Recursão** "
   ]
  },
  {
   "cell_type": "markdown",
   "metadata": {},
   "source": [
    "#### <a id=\"ex1\"></a>✨ **Exercício 1**: Defina uma função que recebe como argumento um número natural *n* e devolve verdadeiro caso *n* seja primo, ou falso caso contrário. \n",
    "Exemplo:\n",
    "\n",
    "```python\n",
    "        is_prime(6) → false\n",
    "```\n",
    "\n",
    "<p><strong>🔔 Nota:</strong> nesta função é útil invocar a função do <a href=\"#tp1\"><strong>exercício 1</strong></a> do trabalho prévio, que calcula quantos divisores tem um número. A função pode ser invocada da seguinte forma:</p>\n",
    "\n",
    "\n",
    "```python\n",
    "        n = number_of_divisors(8)\n",
    "```\n",
    "\n",
    "Após a instrução executar, a variável n tomará o valor devolvido pela invocação da função ``number_of_divisors()``."
   ]
  },
  {
   "cell_type": "code",
   "execution_count": null,
   "metadata": {},
   "outputs": [],
   "source": []
  },
  {
   "cell_type": "markdown",
   "metadata": {},
   "source": [
    "#### ✨ **Exercício 2**: Defina uma função que recebe como argumento um número natural n e devolve o número de primos até n (inclusive). \n",
    "Exemplo:\n",
    "\n",
    "```python\n",
    "        number_of_primes_up_to(11) → 5       # (2, 3, 5, 7, 11)\n",
    "```"
   ]
  },
  {
   "cell_type": "code",
   "execution_count": null,
   "metadata": {},
   "outputs": [],
   "source": []
  },
  {
   "cell_type": "markdown",
   "metadata": {},
   "source": [
    "#### ✨ **Exercício 3**: Defina uma função que recebe como argumento um número natural n e devolve o somatório dos números primos menores que n. \n",
    "Exemplo:\n",
    "\n",
    "```python\n",
    "        sum_of_primes_smaller_than(8) → 17      # (2 + 3 + 5 + 7)\n",
    "```"
   ]
  },
  {
   "cell_type": "code",
   "execution_count": null,
   "metadata": {},
   "outputs": [],
   "source": []
  },
  {
   "cell_type": "markdown",
   "metadata": {},
   "source": [
    "#### ✨ **Exercício 4**: Defina funções recursivas para calcular:\n",
    "\n",
    "##### a) o n-ésimo número de Fibonacci.\n",
    "\n",
    "$f(n)=\\begin{cases}\n",
    "0 & n=0\\\\\n",
    "1 & n=1\\\\\n",
    "f(n-1)+f(n-2) & outros\\,casos\n",
    "\\end{cases}$\n",
    "\n",
    "Exemplo:\n",
    "``` python\n",
    "        fibonacci(6) → 8\n",
    "```"
   ]
  },
  {
   "cell_type": "code",
   "execution_count": null,
   "metadata": {},
   "outputs": [],
   "source": []
  },
  {
   "cell_type": "markdown",
   "metadata": {},
   "source": [
    "##### b) o fatorial de um número.\n",
    "Exemplo:\n",
    "\n",
    "```python\n",
    "        factorial(5) → 120\n",
    "```"
   ]
  },
  {
   "cell_type": "code",
   "execution_count": null,
   "metadata": {},
   "outputs": [],
   "source": []
  },
  {
   "cell_type": "markdown",
   "metadata": {},
   "source": [
    "##### c) o máximo divisor comum entre dois números.\n",
    "Exemplo:\n",
    "\n",
    "```python\n",
    "        gcd(30, 25) → 5\n",
    "```"
   ]
  },
  {
   "cell_type": "code",
   "execution_count": null,
   "metadata": {},
   "outputs": [],
   "source": []
  },
  {
   "cell_type": "markdown",
   "metadata": {},
   "source": [
    "## <a class='anchor' id='3'></a>\n",
    "\n",
    "> ## **3 Procedimentos e Input/Output** "
   ]
  },
  {
   "cell_type": "markdown",
   "metadata": {},
   "source": [
    "### <a class='anchor' id='3.1.'></a>\n",
    "\n",
    "> ### **3.1. Trabalho Prévio** "
   ]
  },
  {
   "cell_type": "markdown",
   "metadata": {},
   "source": [
    "#### ✨ **Exercício 1**: Obter um número inteiro entre *m* e *n* introduzido pelo utilizador.\n",
    "\n",
    "Esta função deverá pedir ao utilizador para introduzir um número inteiro entre os limites dados. Caso o utilizador introduza um número inteiro fora desse intervalo, a função voltar a pedir ao utilizador para introduzir um número inteiro dentros dos limites dados.\n",
    "Exemplo:\n",
    "\n",
    "```python\n",
    "        value_between(1, 6) → 2 (o utilizador introduziu o valor 2)\n",
    "```"
   ]
  },
  {
   "cell_type": "code",
   "execution_count": null,
   "metadata": {},
   "outputs": [],
   "source": []
  },
  {
   "cell_type": "markdown",
   "metadata": {},
   "source": [
    "#### ✨ **Exercício 2**: Escrever no ecrã os número inteiros entre *m* e *n* (inclusive), por ordem crescente.\n",
    "Este procedimento deverá escrever no ecrã por ordem crescente todos os números inteiros entre os limites dados na invocação do procedimento.\n",
    "Exemplo:\n",
    "\n",
    "```python\n",
    "        print_ascending_between(1, 5)\n",
    "        1\n",
    "        2\n",
    "        3\n",
    "        4\n",
    "        5\n",
    "```"
   ]
  },
  {
   "cell_type": "code",
   "execution_count": null,
   "metadata": {},
   "outputs": [],
   "source": []
  },
  {
   "cell_type": "markdown",
   "metadata": {},
   "source": [
    "### <a class='anchor' id='3.2.'></a>\n",
    "\n",
    "> ### **3.2. Procedimentos e Input/Output - Exercicios** \n",
    "\n",
    "#### ✨ **Exercício 1**: Defina um procedimento que dado um número inteiro entre 1 e 9 o escreva em numeração romana.\n",
    "Exemplo:\n",
    "\n",
    "```python\n",
    "        print_units_in_roman(6)\n",
    "        VI\n",
    "```"
   ]
  },
  {
   "cell_type": "code",
   "execution_count": null,
   "metadata": {},
   "outputs": [],
   "source": []
  },
  {
   "cell_type": "markdown",
   "metadata": {},
   "source": [
    "#### 2. Defina um procedimento que dado um número inteiro entre 1 e 9 o escreva em numeração romana considerando que este representa dezenas.\n",
    "\n",
    "        print_tens_in_roman(6)\n",
    "        LX"
   ]
  },
  {
   "cell_type": "code",
   "execution_count": null,
   "metadata": {},
   "outputs": [],
   "source": []
  },
  {
   "cell_type": "markdown",
   "metadata": {},
   "source": [
    "#### 3. Defina um procedimento que, usando os dois anteriores, dado um número inteiro entre 1 e 99 o escreva em numeração romana.\n",
    "Exemplo:\n",
    "\n",
    "        print_in_roman(66)\n",
    "        LXVI"
   ]
  },
  {
   "cell_type": "code",
   "execution_count": null,
   "metadata": {},
   "outputs": [],
   "source": []
  },
  {
   "cell_type": "markdown",
   "metadata": {},
   "source": [
    "#### 4. Defina dois procedimentos que escrevem no ecrã os número inteiros entre *m* e *n*, por ordem decrescente. Um deve incluir os limites e o outro não deve incluir os limites."
   ]
  },
  {
   "cell_type": "code",
   "execution_count": null,
   "metadata": {},
   "outputs": [],
   "source": []
  },
  {
   "cell_type": "markdown",
   "metadata": {},
   "source": [
    "#### 5. Defina dois procedimentos que escrevem no ecrã os número inteiros entre *m* e *n* (inclusive em *m* e exclusive em *n*) de *h* em *h*. Um procedimento deve fazê-lo por ordem crescente e o outro por ordem decrescente.\n",
    "Exemplo:\n",
    "\n",
    "        print_ascending_between_in_h(6, 18, 3)\n",
    "        6\n",
    "        9\n",
    "        12\n",
    "        15"
   ]
  },
  {
   "cell_type": "code",
   "execution_count": null,
   "metadata": {},
   "outputs": [],
   "source": []
  },
  {
   "cell_type": "markdown",
   "metadata": {},
   "source": [
    "#### 6. Defina uma função que pede ao utilizador números inteiros até ser introduzido o número zero e devolve verdadeiro se os números foram introduzidos por ordem crescente."
   ]
  },
  {
   "cell_type": "code",
   "execution_count": null,
   "metadata": {},
   "outputs": [],
   "source": []
  },
  {
   "cell_type": "markdown",
   "metadata": {},
   "source": [
    "#### 7. Defina uma função que pede ao utilizador números inteiros até ser introduzido o número zero e devolve o número de números impares introduzidos."
   ]
  },
  {
   "cell_type": "code",
   "execution_count": null,
   "metadata": {},
   "outputs": [],
   "source": []
  },
  {
   "cell_type": "markdown",
   "metadata": {},
   "source": [
    "# Exercícios extra"
   ]
  },
  {
   "cell_type": "markdown",
   "metadata": {},
   "source": [
    "#### 1. Analogamente ao [exercício 1](#ex1), defina uma função que permita saber se um número é perfeito.\n",
    "Um número perfeito é tal que a soma dos seus divisores próprios é igual ao próprio número. Por exemplo, 6 é um número perfeito, dado que  os seus divisores próprios são {3, 2, 1} e 3 + 2 + 1 = 6."
   ]
  },
  {
   "cell_type": "code",
   "execution_count": null,
   "metadata": {},
   "outputs": [],
   "source": []
  },
  {
   "cell_type": "markdown",
   "metadata": {},
   "source": [
    "#### 2. Fazendo uso da alínea anterior, defina uma função que recebe como argumento um número natural n e que devolve o número de números perfeitos até n (inclusive).\n",
    "Exemplo:\n",
    "\n",
    "        number_of_perfect_numbers_up_to(30) → 2        (6, 28)"
   ]
  },
  {
   "cell_type": "code",
   "execution_count": null,
   "metadata": {},
   "outputs": [],
   "source": []
  },
  {
   "cell_type": "markdown",
   "metadata": {},
   "source": [
    "#### 3. Defina uma função que permite saber se existe algum número primo num dado intervalo (aberto). \n",
    "Exemplo:\n",
    "\n",
    "        exists_prime_between(5, 9) → true     (7 está no intervalo ]5, 9[)"
   ]
  },
  {
   "cell_type": "code",
   "execution_count": null,
   "metadata": {},
   "outputs": [],
   "source": []
  },
  {
   "cell_type": "markdown",
   "metadata": {},
   "source": [
    "#### 4. Defina uma função que recebe como argumento um número natural n e devolve a maior diferença entre dois números primos consecutivos até n.\n",
    "\n",
    "Exemplo:\n",
    "\n",
    "        larger_difference_between_primes(13) → 4     (a diferença entre 7 e 11)"
   ]
  },
  {
   "cell_type": "code",
   "execution_count": null,
   "metadata": {},
   "outputs": [],
   "source": []
  },
  {
   "cell_type": "markdown",
   "metadata": {},
   "source": [
    "#### 5. Defina uma função que pede ao utilizador números inteiros até ser introduzido o número zero e devolve o maior dos números introduzidos."
   ]
  },
  {
   "cell_type": "code",
   "execution_count": null,
   "metadata": {},
   "outputs": [],
   "source": []
  }
 ],
 "metadata": {
  "kernelspec": {
   "display_name": "Python 3",
   "language": "python",
   "name": "python3"
  },
  "language_info": {
   "codemirror_mode": {
    "name": "ipython",
    "version": 3
   },
   "file_extension": ".py",
   "mimetype": "text/x-python",
   "name": "python",
   "nbconvert_exporter": "python",
   "pygments_lexer": "ipython3",
   "version": "3.11.11"
  }
 },
 "nbformat": 4,
 "nbformat_minor": 4
}
