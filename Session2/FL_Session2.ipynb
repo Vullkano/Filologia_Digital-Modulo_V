{
 "cells": [
  {
   "cell_type": "markdown",
   "metadata": {},
   "source": [
    "<div style=\"display: flex; flex-direction: column; align-items: center; text-align: center; font-family: 'Avenir Next LT Pro', sans-serif; padding: 50px; background-color: #f4f4f4; border-radius: 12px; box-shadow: 0px 4px 12px rgba(0, 0, 0, 0.1);\">\n",
    "    <h1 style=\"font-size: 50px; font-weight: bold; color: #222; margin-bottom: 10px;\">Filologia Digital - Módulo V</h1>\n",
    "    <h3 style=\"font-size: 30px; font-weight: bold; color: #555; max-width: 80%; line-height: 1.3;\">\n",
    "        Para além da edição: <span style=\"font-weight: normal; color: #666;\">o digital na investigação linguística</span>\n",
    "    </h3>\n",
    "    <h4 style=\"font-size: 26px; font-weight: bold; color: #333; background-color: #e0e0e0; padding: 10px 20px; border-radius: 8px; margin-top: 25px;\">Sessão 2 - Estruturas Básicas em Python e Loops</h4>\n",
    "    <img src=\"https://filologiadigitalcl.wordpress.com/wp-content/uploads/2024/11/figure05.png?w=1024\" \n",
    "         style=\"width: 80%; max-width: 600px; margin-top: 30px; border-radius: 10px; box-shadow: 0px 4px 12px rgba(0, 0, 0, 0.15);\">\n",
    "</div>"
   ]
  },
  {
   "cell_type": "markdown",
   "metadata": {},
   "source": [
    "<!DOCTYPE html>\n",
    "<html lang=\"en\">\n",
    "<head>\n",
    "    <meta charset=\"UTF-8\">\n",
    "    <meta name=\"viewport\" content=\"width=device-width, initial-scale=1.0\">\n",
    "    <style>\n",
    "        body {\n",
    "            font-family: Arial, sans-serif;\n",
    "            background-color: #f4f4f4;\n",
    "            color: #333;\n",
    "            margin: 0;\n",
    "            padding: 20px;\n",
    "            line-height: 1.6;\n",
    "        }\n",
    "        ol {\n",
    "            counter-reset: section;\n",
    "            list-style: none;\n",
    "            padding-left: 0;\n",
    "        }\n",
    "        /* First-level list */\n",
    "        ol > li {\n",
    "            counter-increment: section;\n",
    "            margin-bottom: 10px;\n",
    "            padding-left: 0;\n",
    "        }\n",
    "        ol > li::before {\n",
    "            content: counters(section, \".\") \" \";\n",
    "            font-weight: bold;\n",
    "        }\n",
    "        /* Second-level list */\n",
    "        ol ol {\n",
    "            counter-reset: subsection;\n",
    "            padding-left: 20px;\n",
    "            margin-top: 5px;\n",
    "        }\n",
    "        ol ol > li {\n",
    "            counter-increment: subsection;\n",
    "            margin-bottom: 5px;\n",
    "            padding-left: 10px;\n",
    "        }\n",
    "        ol ol > li::before {\n",
    "            content: counters(section, \".\") \".\" counter(subsection) \" \";\n",
    "            font-weight: bold;\n",
    "        }\n",
    "        /* Third-level list */\n",
    "        ol ol ol {\n",
    "            counter-reset: subsubsection;\n",
    "            padding-left: 40px;\n",
    "            margin-top: 5px;\n",
    "        }\n",
    "        ol ol ol > li {\n",
    "            counter-increment: subsubsection;\n",
    "            margin-bottom: 5px;\n",
    "            padding-left: 10px;\n",
    "            font-size: 0.9em; /* Make font size smaller */\n",
    "            font-weight: normal; /* Remove bold styling */\n",
    "        }\n",
    "        ol ol ol > li::before {\n",
    "            content: counters(section, \".\") \".\" counter(subsection) \".\" counter(subsubsection) \" \";\n",
    "            font-weight: bold;\n",
    "        }\n",
    "        a {\n",
    "            text-decoration: none;\n",
    "            color: #007BFF;\n",
    "            font-weight: bold;\n",
    "        }\n",
    "        a:hover {\n",
    "            color: #0056b3;\n",
    "        }\n",
    "        footer {\n",
    "            margin-top: 50px;\n",
    "        }\n",
    "    </style>\n",
    "</head>\n",
    "<body>\n",
    "\n",
    "<b><h2>Índice</h2></b>\n",
    "<ol start=\"0\">\n",
    "    <li><a href=\"#1.\">Aquecimento</a></li>\n",
    "        <ol>\n",
    "            <li><a href=\"#tp1\">Exercício 1</a></li>\n",
    "            <li><a href=\"#tp2\">Exercício 2</a></li>\n",
    "        </ol>\n",
    "    <li><a href=\"#2.\">Estruturas e Tipos de Dados</a></li>\n",
    "        <ol>\n",
    "            <li><a href=\"#2.1.\">Listas</a></li>\n",
    "            <li><a href=\"#2.2.\">Tuplos</a></li>\n",
    "            <li><a href=\"#2.3.\">Sets</a></li>\n",
    "            <li><a href=\"#2.4.\">Dicionários</a></li>\n",
    "        </ol>\n",
    "    <li><a href=\"#3.\">Loops</a></li>\n",
    "        <ol>\n",
    "            <li><a href=\"#3.1.\">While</a></li>\n",
    "            <li><a href=\"#3.2.\">For</a></li>\n",
    "        </ol>\n",
    "    <li><a href=\"#4.\">Expressões Regulares</a></li>\n",
    "</ol>\n",
    "\n",
    "<footer></footer>\n",
    "\n",
    "</body>\n",
    "</html>"
   ]
  },
  {
   "cell_type": "markdown",
   "metadata": {
    "vscode": {
     "languageId": "plaintext"
    }
   },
   "source": [
    "<a class='anchor' id='1.'></a>\n",
    "# **1. Aquecimento** "
   ]
  },
  {
   "cell_type": "markdown",
   "metadata": {
    "vscode": {
     "languageId": "plaintext"
    }
   },
   "source": [
    "## <a id=\"tp1\"></a>✨ **Exercício 1**: Criar função para devolver a maior palavra\n",
    "Cria uma função chamada `maior_palavra` que recebe duas palavras (strings) como argumentos.  \n",
    "A função deve devolver a palavra que tem mais caracteres.  \n",
    "\n",
    "Se as duas palavras tiverem o mesmo comprimento, devolve a primeira palavra.\n",
    "\n",
    "```python\n",
    "        print(maior_palavra(\"elefante\", \"gato\"))    # Saída: elefante\n",
    "        print(maior_palavra(\"sol\", \"lua\"))          # Saída: sol\n",
    "```"
   ]
  },
  {
   "cell_type": "code",
   "execution_count": null,
   "metadata": {},
   "outputs": [],
   "source": []
  },
  {
   "cell_type": "markdown",
   "metadata": {},
   "source": [
    "## <a id=\"tp2\"></a>✨ **Exercício 2**: Extrair parte da palavra até uma letra específica usando slicing\n",
    "Cria uma função chamada `palavra_ate_letra` que recebe dois argumentos:  \n",
    "- Uma **palavra** (string)  \n",
    "- Uma **letra** (carácter)  \n",
    "\n",
    "A função deve devolver a parte da palavra desde o início até à primeira ocorrência dessa letra (incluindo a letra).  \n",
    "\n",
    "Se a letra não existir na palavra, deve devolver a palavra inteira.\n",
    "Exemplo:\n",
    "\n",
    "```python\n",
    "        print(palavra_ate_letra(\"epistemologia\", \"o\"))  # Saída: 'epistemo'\n",
    "        print(palavra_ate_letra(\"programação\", \"m\"))   # Saída: 'program'\n",
    "        print(palavra_ate_letra(\"ciência\", \"z\"))       # Saída: 'ciência' (letra não existe)\n",
    "```"
   ]
  },
  {
   "cell_type": "markdown",
   "metadata": {},
   "source": [
    "<a class='anchor' id='2.'></a>\n",
    "\n",
    "# **2. Estruturas e Tipos de Dados** "
   ]
  },
  {
   "cell_type": "markdown",
   "metadata": {
    "vscode": {
     "languageId": "plaintext"
    }
   },
   "source": [
    "Em Python, existem várias estruturas para guardar e organizar informação. As principais são:\n",
    "\n",
    "| Tipo        | Exemplo                     | Características                        |\n",
    "|-------------|-----------------------------|----------------------------------------|\n",
    "| `list`      | `[1, 2, 3]`                 | **Mutável**, permite duplicados  |\n",
    "| `tuple`     | `(1, 2, 3)`                 | **Imutável**, permite duplicados |\n",
    "| `set`       | `{1, 2, 3}`                 | **Mutável**, sem duplicados, ordenado       |\n",
    "| `dict`      | `{\"chave\": \"valor\"}`       | Coleção de pares chave-valor           |"
   ]
  },
  {
   "cell_type": "markdown",
   "metadata": {},
   "source": [
    "<a class='anchor' id='2.1.'></a>\n",
    "\n",
    "## **2.1. Listas** "
   ]
  },
  {
   "cell_type": "markdown",
   "metadata": {},
   "source": [
    "Para criar uma lista, utilizamos colchetes `[]` e colocamos os elementos separados por vírgulas:"
   ]
  },
  {
   "cell_type": "code",
   "execution_count": 146,
   "metadata": {},
   "outputs": [],
   "source": [
    "# Lista de números\n",
    "numeros = [1, 2, 3, 4, 5]\n",
    "\n",
    "# Lista de strings\n",
    "frutas = [\"maçã\", \"banana\", \"laranja\"]\n",
    "\n",
    "# Lista mista\n",
    "mista = [1, \"texto\", 3.14, True]"
   ]
  },
  {
   "cell_type": "markdown",
   "metadata": {},
   "source": [
    "**🔍 Cada elemento tem um índice, começando no 0. Para aceder a um item:**"
   ]
  },
  {
   "cell_type": "code",
   "execution_count": 147,
   "metadata": {},
   "outputs": [
    {
     "name": "stdout",
     "output_type": "stream",
     "text": [
      "maçã\n",
      "texto\n"
     ]
    }
   ],
   "source": [
    "print(frutas[0])  # \"maçã\"\n",
    "print(mista[1])  # \"texto\""
   ]
  },
  {
   "cell_type": "markdown",
   "metadata": {},
   "source": [
    "**🔍 Também podes usar índices negativos para aceder a partir do fim (começa com -1):**"
   ]
  },
  {
   "cell_type": "code",
   "execution_count": 148,
   "metadata": {},
   "outputs": [
    {
     "name": "stdout",
     "output_type": "stream",
     "text": [
      "laranja\n",
      "banana\n"
     ]
    }
   ],
   "source": [
    "print(frutas[-1])  # \"laranja\" (último elemento)\n",
    "print(frutas[-2])  # \"banana\""
   ]
  },
  {
   "cell_type": "markdown",
   "metadata": {},
   "source": [
    "**✏️ Como as listas são mutáveis, podemos alterar os valores:**"
   ]
  },
  {
   "cell_type": "code",
   "execution_count": 149,
   "metadata": {},
   "outputs": [
    {
     "name": "stdout",
     "output_type": "stream",
     "text": [
      "['morango', 'banana', 'laranja']\n"
     ]
    }
   ],
   "source": [
    "frutas[0] = \"morango\"\n",
    "print(frutas)  # ['morango', 'banana', 'laranja']"
   ]
  },
  {
   "cell_type": "markdown",
   "metadata": {},
   "source": [
    "**➕ Adicionar Elementos**"
   ]
  },
  {
   "cell_type": "code",
   "execution_count": 150,
   "metadata": {},
   "outputs": [
    {
     "name": "stdout",
     "output_type": "stream",
     "text": [
      "['morango', 'banana', 'laranja', 'kiwi']\n",
      "['morango', 'ananás', 'banana', 'laranja', 'kiwi']\n"
     ]
    }
   ],
   "source": [
    "# Adicionar ao fim da lista\n",
    "frutas.append(\"kiwi\")\n",
    "print(frutas)\n",
    "\n",
    "# Inserir numa posição específica\n",
    "frutas.insert(1, \"ananás\")\n",
    "print(frutas)"
   ]
  },
  {
   "cell_type": "markdown",
   "metadata": {},
   "source": [
    "**➖ Remover Elementos**"
   ]
  },
  {
   "cell_type": "code",
   "execution_count": 151,
   "metadata": {},
   "outputs": [
    {
     "name": "stdout",
     "output_type": "stream",
     "text": [
      "['morango', 'ananás', 'laranja', 'kiwi']\n",
      "['morango', 'ananás', 'laranja']\n",
      "['ananás', 'laranja']\n"
     ]
    }
   ],
   "source": [
    "# Remover por valor\n",
    "frutas.remove(\"banana\")\n",
    "print(frutas)\n",
    "\n",
    "# Remover o último elemento\n",
    "frutas.pop()\n",
    "print(frutas)\n",
    "\n",
    "# Remover por índice\n",
    "del frutas[0]\n",
    "print(frutas)"
   ]
  },
  {
   "cell_type": "markdown",
   "metadata": {},
   "source": [
    "🍉 Concatenar listas"
   ]
  },
  {
   "cell_type": "code",
   "execution_count": 152,
   "metadata": {},
   "outputs": [
    {
     "name": "stdout",
     "output_type": "stream",
     "text": [
      "['maçã', 'banana', 'laranja', 'pera']\n"
     ]
    }
   ],
   "source": [
    "lista1 = [\"maçã\", \"banana\"]\n",
    "lista2 = [\"laranja\", \"pera\"]\n",
    "todas_frutas = lista1 + lista2\n",
    "\n",
    "print(todas_frutas)  # ['maçã', 'banana', 'laranja', 'pera']"
   ]
  },
  {
   "cell_type": "markdown",
   "metadata": {},
   "source": [
    "📊 Ordenar lista"
   ]
  },
  {
   "cell_type": "code",
   "execution_count": 153,
   "metadata": {},
   "outputs": [
    {
     "name": "stdout",
     "output_type": "stream",
     "text": [
      "[1, 2, 5, 9]\n"
     ]
    }
   ],
   "source": [
    "numeros = [5, 2, 9, 1]\n",
    "numeros.sort()\n",
    "print(numeros)  # [1, 2, 5, 9]"
   ]
  },
  {
   "cell_type": "markdown",
   "metadata": {},
   "source": [
    "📍 Obter índice de um elemento"
   ]
  },
  {
   "cell_type": "code",
   "execution_count": 154,
   "metadata": {},
   "outputs": [
    {
     "name": "stdout",
     "output_type": "stream",
     "text": [
      "2\n"
     ]
    }
   ],
   "source": [
    "cores = [\"vermelho\", \"verde\", \"azul\"]\n",
    "pos_azul = cores.index(\"azul\")\n",
    "\n",
    "print(pos_azul)  # 2"
   ]
  },
  {
   "cell_type": "markdown",
   "metadata": {},
   "source": [
    "🔄 Inverter uma lista"
   ]
  },
  {
   "cell_type": "code",
   "execution_count": 155,
   "metadata": {},
   "outputs": [
    {
     "name": "stdout",
     "output_type": "stream",
     "text": [
      "[40, 30, 20, 10]\n",
      "[40, 30, 20, 10]\n"
     ]
    }
   ],
   "source": [
    "lista = [10, 20, 30, 40]\n",
    "\n",
    "# Inverter a lista\n",
    "lista_invertida = lista[::-1]\n",
    "print(lista_invertida)  # [40, 30, 20, 10]\n",
    "\n",
    "# ou \n",
    "lista.reverse()\n",
    "print(lista)  # [40, 30, 20, 10]"
   ]
  },
  {
   "cell_type": "markdown",
   "metadata": {},
   "source": [
    "**➖ Slicing em Listas**\n",
    "\n",
    "O *slicing* permite extrair partes de uma lista usando a notação `lista[início:fim:passo]`.\n",
    "\n",
    "- `início` é o índice onde começa a fatia (incluído).\n",
    "- `fim` é o índice onde termina a fatia (excluído).\n",
    "- `passo` é o intervalo entre elementos (opcional)."
   ]
  },
  {
   "cell_type": "code",
   "execution_count": 156,
   "metadata": {},
   "outputs": [
    {
     "name": "stdout",
     "output_type": "stream",
     "text": [
      "['Newton', 'Einstein', 'Curie']\n",
      "['Einstein', 'Curie', 'Tesla']\n",
      "['Feynman', 'Hawking']\n",
      "['Newton', 'Curie', 'Feynman']\n",
      "['Newton', 'Einstein', 'Curie', 'Tesla', 'Feynman', 'Hawking']\n"
     ]
    }
   ],
   "source": [
    "cientistas = [\"Newton\", \"Einstein\", \"Curie\", \"Tesla\", \"Feynman\", \"Hawking\"]\n",
    "\n",
    "# Extrair os 3 primeiros elementos\n",
    "print(cientistas[0:3])  \n",
    "# Saída: ['Newton', 'Einstein', 'Curie']\n",
    "\n",
    "# Extrair do 2º ao 4º elemento (índices 1 a 4, sem incluir o índice 4)\n",
    "print(cientistas[1:4])  \n",
    "# Saída: ['Einstein', 'Curie', 'Tesla']\n",
    "\n",
    "# Extrair os 2 últimos elementos\n",
    "print(cientistas[-2:])   \n",
    "# Saída: ['Feynman', 'Hawking']\n",
    "\n",
    "# Extrair elementos com passo 2 (pular um elemento)\n",
    "print(cientistas[0:6:2])  \n",
    "# Saída: ['Newton', 'Curie', 'Feynman']\n",
    "\n",
    "# Copiar a lista inteira\n",
    "copia = cientistas[:]\n",
    "print(copia)"
   ]
  },
  {
   "cell_type": "markdown",
   "metadata": {},
   "source": [
    "Uma das tarefas comuns na análise e compreensão de um texto — especialmente em áreas como a filologia ou o processamento de linguagem natural — consiste em separar uma frase ou parágrafo em palavras individuais, também conhecidas como *tokens*.\n",
    "\n",
    "Em Python, esta tarefa é bastante simples graças ao método `.split()`.\n",
    "\n",
    "O método `split()` divide uma **string** em partes, utilizando um separador. Por omissão, esse separador é o espaço (`\" \"`), o que significa que irá separar o texto em cada espaço encontrado.\n",
    "\n",
    "Exemplo:\n",
    "\n",
    "```python\n",
    "frase = \"Et in Arcadia ego\"\n",
    "palavras = frase.split()\n",
    "\n",
    "print(palavras)\n",
    "# Saída: ['Et', 'in', 'Arcadia', 'ego']\n"
   ]
  },
  {
   "cell_type": "code",
   "execution_count": 157,
   "metadata": {},
   "outputs": [
    {
     "name": "stdout",
     "output_type": "stream",
     "text": [
      "Tokens: ['In', 'principio', 'erat', 'Verbum', 'et', 'Verbum', 'erat', 'apud', 'Deum']\n",
      "Total de palavras: 9\n",
      "Palavras únicas: 7\n"
     ]
    }
   ],
   "source": [
    "texto_antigo = \"In principio erat Verbum et Verbum erat apud Deum\"\n",
    "palavras = texto_antigo.split()\n",
    "palavras_unicas = set(palavras)\n",
    "\n",
    "print(f\"Tokens: {palavras}\")\n",
    "print(f\"Total de palavras: {len(palavras)}\")\n",
    "print(f\"Palavras únicas: {len(palavras_unicas)}\")\n"
   ]
  },
  {
   "cell_type": "code",
   "execution_count": 158,
   "metadata": {},
   "outputs": [
    {
     "name": "stdout",
     "output_type": "stream",
     "text": [
      "Tokens: ['maçã', 'banana', 'laranja', 'maçã', 'pera', 'banana']\n",
      "Total de frutas: 6\n",
      "Frutas únicas: 4\n"
     ]
    }
   ],
   "source": [
    "texto_lista = \"maçã,banana,laranja,maçã,pera,banana\"\n",
    "frutas = texto_lista.split(\",\")  # Usar a vírgula como separador\n",
    "\n",
    "print(f\"Tokens: {frutas}\")\n",
    "print(f\"Total de frutas: {len(frutas)}\")\n",
    "print(f\"Frutas únicas: {len(set(frutas))}\")"
   ]
  },
  {
   "cell_type": "markdown",
   "metadata": {},
   "source": [
    "**Mini exercícios**\n",
    "\n",
    "1. Dada a lista `[\"júpiter\", \"marte\", \"venus\", \"saturno\"]`, remove **venus** e adiciona **neptuno** ao final da lista.\n",
    "\n",
    "2. Dada a lista `[\"lira\", \"harpa\", \"flauta\", \"tambor\"]`, ordena os instrumentos alfabeticamente e depois inverte a ordem.\n",
    "\n",
    "3. Dadas duas listas, cria uma nova lista que una ambas as mitologias:\n",
    "    + `mitologia_grega = [\"zeus\", \"hera\", \"poseidon\"]`  \n",
    "    + `mitologia_nórdica = [\"thor\", \"odin\", \"loki\"]`\n",
    "\n",
    "4. Dada a lista de filósofos antigos:\n",
    "\n",
    "   ```python\n",
    "   filosofos = [\"Sócrates\", \"Platão\", \"Aristóteles\", \"Epicuro\", \"Séneca\", \"Cícero\"]\n",
    "   ```\n",
    "\n",
    "   a. Mostra os **3 primeiros filósofos** da lista.  \n",
    "   b. Mostra os **2 últimos filósofos** da lista.  \n",
    "   c. Mostra os filósofos do **2º ao 4º** (inclusive).\n",
    "\n",
    "   💡 *Dica:* Utiliza a notação `lista[início:fim]`, onde o `início` está incluído e o `fim` é excluído."
   ]
  },
  {
   "cell_type": "markdown",
   "metadata": {},
   "source": [
    "<a class='anchor' id='2.2.'></a>\n",
    "\n",
    "## **2.2. Tuplos** "
   ]
  },
  {
   "cell_type": "markdown",
   "metadata": {},
   "source": [
    "Os tuplos são estruturas de dados semelhantes às listas, mas **imutáveis**, ou seja, depois de criados, não podemos alterar os seus elementos (não é possível adicionar, remover ou modificar valores).\n",
    "\n",
    "Para criar um tuplo, usamos parênteses `()` ou simplesmente uma sequência de valores separados por vírgulas."
   ]
  },
  {
   "cell_type": "code",
   "execution_count": 159,
   "metadata": {},
   "outputs": [
    {
     "name": "stdout",
     "output_type": "stream",
     "text": [
      "(1, 2, 3)\n",
      "('a', 'b', 'c')\n"
     ]
    }
   ],
   "source": [
    "# Criar tuplos\n",
    "tuplo1 = (1, 2, 3)\n",
    "tuplo2 = \"a\", \"b\", \"c\"  # também válido sem parênteses\n",
    "\n",
    "print(tuplo1)  # (1, 2, 3)\n",
    "print(tuplo2)  # ('a', 'b', 'c')"
   ]
  },
  {
   "cell_type": "code",
   "execution_count": 160,
   "metadata": {},
   "outputs": [
    {
     "name": "stdout",
     "output_type": "stream",
     "text": [
      "1\n",
      "c\n"
     ]
    }
   ],
   "source": [
    "print(tuplo1[0])  # 1\n",
    "print(tuplo2[2])  # 'c'"
   ]
  },
  {
   "cell_type": "code",
   "execution_count": 161,
   "metadata": {},
   "outputs": [
    {
     "name": "stdout",
     "output_type": "stream",
     "text": [
      "<class 'tuple'>\n",
      "<class 'int'>\n"
     ]
    }
   ],
   "source": [
    "tuplo_unico = (5,)\n",
    "print(type(tuplo_unico))  # <class 'tuple'>\n",
    "\n",
    "nao_e_tuplo = (5)\n",
    "print(type(nao_e_tuplo))  # <class 'int'>"
   ]
  },
  {
   "cell_type": "code",
   "execution_count": 162,
   "metadata": {},
   "outputs": [
    {
     "ename": "TypeError",
     "evalue": "'tuple' object does not support item assignment",
     "output_type": "error",
     "traceback": [
      "\u001b[31m---------------------------------------------------------------------------\u001b[39m",
      "\u001b[31mTypeError\u001b[39m                                 Traceback (most recent call last)",
      "\u001b[36mCell\u001b[39m\u001b[36m \u001b[39m\u001b[32mIn[162]\u001b[39m\u001b[32m, line 1\u001b[39m\n\u001b[32m----> \u001b[39m\u001b[32m1\u001b[39m \u001b[43mtuplo1\u001b[49m\u001b[43m[\u001b[49m\u001b[32;43m0\u001b[39;49m\u001b[43m]\u001b[49m = \u001b[32m10\u001b[39m  \u001b[38;5;66;03m# Isto causará um erro, pois tuplos são imutáveis\u001b[39;00m\n",
      "\u001b[31mTypeError\u001b[39m: 'tuple' object does not support item assignment"
     ]
    }
   ],
   "source": [
    "tuplo1[0] = 10  # Isto causará um erro, pois tuplos são imutáveis"
   ]
  },
  {
   "cell_type": "markdown",
   "metadata": {},
   "source": [
    "<a class='anchor' id='2.3.'></a>\n",
    "\n",
    "## **2.3. Sets**\n",
    "Um set em Python é uma estrutura de dados que armazena valores únicos e ordenados.\n",
    "Para criar um set, usa-se a função ``set()`` ou chaves ``{}`` com elementos separados por vírgulas:"
   ]
  },
  {
   "cell_type": "code",
   "execution_count": 163,
   "metadata": {},
   "outputs": [
    {
     "name": "stdout",
     "output_type": "stream",
     "text": [
      "{'cão', 'gato', 'pássaro'}\n"
     ]
    }
   ],
   "source": [
    "# Criar um set\n",
    "animais = {\"gato\", \"cão\", \"pássaro\", \"gato\"}\n",
    "print(animais)  # {'pássaro', 'gato', 'cão'} – sem duplicados!"
   ]
  },
  {
   "cell_type": "code",
   "execution_count": 164,
   "metadata": {},
   "outputs": [
    {
     "name": "stdout",
     "output_type": "stream",
     "text": [
      "{1, 2, 3, 4, 5}\n"
     ]
    }
   ],
   "source": [
    "# Criar um set com numeros\n",
    "numeros = {3, 5, 4, 2, 1}\n",
    "print(numeros)  # {1, 2, 3, 4, 5}"
   ]
  },
  {
   "cell_type": "code",
   "execution_count": 165,
   "metadata": {},
   "outputs": [
    {
     "name": "stdout",
     "output_type": "stream",
     "text": [
      "{'o', 'a', 'l', 'i', 'g', 'f'}\n"
     ]
    }
   ],
   "source": [
    "# Outra forma\n",
    "letras = set(\"filologia\")\n",
    "print(letras)  # {'a', 'b', 'n'}"
   ]
  },
  {
   "cell_type": "markdown",
   "metadata": {},
   "source": [
    "**Operações comuns**"
   ]
  },
  {
   "cell_type": "code",
   "execution_count": 166,
   "metadata": {},
   "outputs": [
    {
     "name": "stdout",
     "output_type": "stream",
     "text": [
      "{'banana', 'pera', 'maçã', 'chocolate', 'bolo'}\n",
      "{'banana'}\n",
      "{'pera', 'maçã'}\n"
     ]
    }
   ],
   "source": [
    "frutas = {\"maçã\", \"banana\", \"pera\"}\n",
    "doces = {\"banana\", \"chocolate\", \"bolo\"}\n",
    "\n",
    "# União (union) – combina elementos dos dois conjuntos\n",
    "print(frutas | doces)  # {'maçã', 'banana', 'pera', 'chocolate', 'bolo'}\n",
    "\n",
    "# Interseção (intersection) – elementos em comum\n",
    "print(frutas & doces)  # {'banana'}\n",
    "\n",
    "# Diferença (difference) – elementos que estão em 'frutas' mas não em 'doces'\n",
    "print(frutas - doces)  # {'maçã', 'pera'}\n"
   ]
  },
  {
   "cell_type": "markdown",
   "metadata": {},
   "source": [
    "**Métodos úteis**"
   ]
  },
  {
   "cell_type": "code",
   "execution_count": 167,
   "metadata": {},
   "outputs": [
    {
     "name": "stdout",
     "output_type": "stream",
     "text": [
      "{1, 2, 3, 4}\n",
      "{1, 3, 4}\n",
      "set()\n"
     ]
    }
   ],
   "source": [
    "numeros = {1, 2, 3, 2}\n",
    "\n",
    "numeros.add(4)       # Adiciona um elemento\n",
    "print(numeros)  # {1, 2, 3, 4}\n",
    "numeros.discard(2)   # Remove um elemento (sem erro se não existir)\n",
    "print(numeros)  # {1, 3, 4}\n",
    "numeros.clear()      # Remove todos os elementos\n",
    "print(numeros)  # set() – agora está vazio"
   ]
  },
  {
   "cell_type": "markdown",
   "metadata": {},
   "source": [
    "**Mini exercícios**\n",
    "1. Cria um set com as palavras da frase ``\"veni, vidi, vici, veni\"``. Quantas palavras únicas tem?\n",
    "2. Usa dois sets para encontrar as palavras em comum entre as seguintes frases:\n",
    "    + _**Lorem ipsum dolor sit amet, consectetur adipiscing elit, sed do eiusmod tempor incididunt ut labore et dolore magna aliqua.**_\n",
    "    + _**Dolor sit amet consectetur elit, sed do eiusmod tempor incididunt ut labore et dolore magna aliqua ut enim ad minim veniam.**_\n",
    "3. Dado o set ``{\"roma\", \"gália\", \"cartago\", \"egipto\", \"roma\"}``, remove a palavra **roma** e adiciona **atenas**.\n",
    "\n"
   ]
  },
  {
   "cell_type": "code",
   "execution_count": 168,
   "metadata": {},
   "outputs": [
    {
     "name": "stdout",
     "output_type": "stream",
     "text": [
      "{'ut', 'sed', 'incididunt', 'dolore', 'elit,', 'et', 'sit', 'tempor', 'consectetur', 'eiusmod', 'labore', 'magna', 'do'}\n"
     ]
    }
   ],
   "source": [
    "f1 = \"Lorem ipsum dolor sit amet, consectetur adipiscing elit, sed do eiusmod tempor incididunt ut labore et dolore magna aliqua.\"\n",
    "f2 = \"Dolor sit amet consectetur elit, sed do eiusmod tempor incididunt ut labore et dolore magna aliqua ut enim ad minim veniam.\"\n",
    "\n",
    "x = set(f1.split()) & set(f2.split())  # Interseção dos sets\n",
    "print(x)  # {'amet', 'dolor', 'sit'}"
   ]
  },
  {
   "cell_type": "markdown",
   "metadata": {},
   "source": [
    "<a class='anchor' id='2.4.'></a>\n",
    "\n",
    "## **2.4. Dicionários**\n",
    "Os **dicionários** são estruturas de dados que armazenam pares de **chave** e **valor**. São muito úteis para representar dados que têm uma relação direta entre uma chave única e um valor associado.\n",
    "\n",
    "**Como criar um dicionário**"
   ]
  },
  {
   "cell_type": "code",
   "execution_count": 169,
   "metadata": {},
   "outputs": [
    {
     "name": "stdout",
     "output_type": "stream",
     "text": [
      "{'nome': 'Ana', 'idade': 28, 'cidade': 'Lisboa'}\n"
     ]
    }
   ],
   "source": [
    "pessoa = {\n",
    "    \"nome\": \"Ana\",\n",
    "    \"idade\": 28,\n",
    "    \"cidade\": \"Lisboa\"\n",
    "}\n",
    "print(pessoa)"
   ]
  },
  {
   "cell_type": "markdown",
   "metadata": {},
   "source": [
    "**Métodos úteis**\n",
    "+ ``.keys()`` — retorna uma lista com todas as chaves\n",
    "+ ``.values()`` — retorna uma lista com todos os valores\n",
    "+ ``.items()`` — retorna uma lista de tuplos (chave, valor)"
   ]
  },
  {
   "cell_type": "code",
   "execution_count": 170,
   "metadata": {},
   "outputs": [
    {
     "name": "stdout",
     "output_type": "stream",
     "text": [
      "dict_keys(['nome', 'idade', 'cidade'])\n",
      "dict_values(['Ana', 28, 'Lisboa'])\n",
      "dict_items([('nome', 'Ana'), ('idade', 28), ('cidade', 'Lisboa')])\n"
     ]
    }
   ],
   "source": [
    "print(pessoa.keys())\n",
    "print(pessoa.values())\n",
    "print(pessoa.items())"
   ]
  },
  {
   "cell_type": "markdown",
   "metadata": {},
   "source": [
    "**Aceder a valores**\n",
    "- Para obter o valor associado a uma chave, usamos o nome do dicionário seguido da chave entre colchetes:"
   ]
  },
  {
   "cell_type": "code",
   "execution_count": 171,
   "metadata": {},
   "outputs": [
    {
     "name": "stdout",
     "output_type": "stream",
     "text": [
      "Ana\n",
      "28\n"
     ]
    }
   ],
   "source": [
    "print(pessoa[\"nome\"])  # Ana\n",
    "print(pessoa[\"idade\"]) # 28"
   ]
  },
  {
   "cell_type": "markdown",
   "metadata": {},
   "source": [
    "**Adicionar ou modificar pares**\n",
    "- Podemos adicionar ou alterar valores usando a mesma sintaxe:"
   ]
  },
  {
   "cell_type": "code",
   "execution_count": 172,
   "metadata": {},
   "outputs": [
    {
     "name": "stdout",
     "output_type": "stream",
     "text": [
      "{'nome': 'Ana', 'idade': 29, 'cidade': 'Lisboa', 'profissão': 'Engenheira'}\n"
     ]
    }
   ],
   "source": [
    "pessoa[\"profissão\"] = \"Engenheira\"\n",
    "pessoa[\"idade\"] = 29  # Atualizar idade\n",
    "print(pessoa)"
   ]
  },
  {
   "cell_type": "markdown",
   "metadata": {},
   "source": [
    "**Remover pares**\n",
    "- Para remover um par chave-valor, usamos o método ``pop()`` ou o comando ``del``:"
   ]
  },
  {
   "cell_type": "code",
   "execution_count": 173,
   "metadata": {},
   "outputs": [
    {
     "name": "stdout",
     "output_type": "stream",
     "text": [
      "{'nome': 'Ana', 'idade': 29}\n"
     ]
    }
   ],
   "source": [
    "pessoa.pop(\"cidade\")\n",
    "del pessoa[\"profissão\"]\n",
    "print(pessoa)"
   ]
  },
  {
   "cell_type": "markdown",
   "metadata": {},
   "source": [
    "**Extra - Contagem de palavras numa frase**"
   ]
  },
  {
   "cell_type": "code",
   "execution_count": 174,
   "metadata": {},
   "outputs": [
    {
     "name": "stdout",
     "output_type": "stream",
     "text": [
      "Counter({'vida': 2, 'é': 2, 'A': 1, 'bela': 1, 'e': 1, 'a': 1, 'curta': 1})\n"
     ]
    }
   ],
   "source": [
    "from collections import Counter\n",
    "\n",
    "frase = \"A vida é bela e a vida é curta\"\n",
    "palavras = frase.split()\n",
    "\n",
    "contagem = Counter(palavras)\n",
    "print(contagem)\n",
    "# Saída: Counter({'A': 1, 'vida': 2, 'é': 2, 'bela': 1, 'e': 1, 'curta': 1})"
   ]
  },
  {
   "cell_type": "markdown",
   "metadata": {},
   "source": [
    "**Mini exercícios**\n",
    "1. Cria um dicionário chamado **filme** com as chaves: *título*, *ano*, *realizador*. Preenche com dados do teu **filme** favorito.\n",
    "2. Acede ao *título* do **filme** e imprime-o.\n",
    "3. Adiciona uma nova chave *gênero* com um valor à tua escolha.\n",
    "4. Remove a chave *ano* do dicionário."
   ]
  },
  {
   "cell_type": "markdown",
   "metadata": {},
   "source": [
    "<a class='anchor' id='3.'></a>\n",
    "\n",
    "# **3. Loops** "
   ]
  },
  {
   "cell_type": "markdown",
   "metadata": {},
   "source": [
    "Em programação, **loops** permitem executar um conjunto de instruções **de forma repetida**, poupando tempo e evitando código duplicado.\n",
    "\n",
    "Python oferece **dois tipos principais de ciclos**:\n",
    "\n",
    "- `while` → Executa enquanto uma **condição for verdadeira**.\n",
    "- `for` → Itera sobre **elementos de uma sequência** (como listas, strings, ranges, etc.)."
   ]
  },
  {
   "cell_type": "markdown",
   "metadata": {},
   "source": [
    "<a class='anchor' id='3.1.'></a>\n",
    "\n",
    "## **3.1. While**\n",
    "\n",
    "O ciclo `while` executa um bloco de código **enquanto** uma condição for verdadeira. É útil quando **não sabemos à partida quantas vezes** o código deverá ser repetido."
   ]
  },
  {
   "cell_type": "code",
   "execution_count": 175,
   "metadata": {},
   "outputs": [
    {
     "name": "stdout",
     "output_type": "stream",
     "text": [
      "Contador vale: 0\n",
      "Contador vale: 1\n",
      "Contador vale: 2\n",
      "Contador vale: 3\n",
      "Contador vale: 4\n"
     ]
    }
   ],
   "source": [
    "contagem = 0\n",
    "\n",
    "while contagem < 5:\n",
    "    print(f\"Contador vale: {contagem}\")\n",
    "    contagem += 1"
   ]
  },
  {
   "cell_type": "code",
   "execution_count": 176,
   "metadata": {},
   "outputs": [
    {
     "name": "stdout",
     "output_type": "stream",
     "text": [
      "10\n",
      "9\n",
      "8\n",
      "7\n",
      "6\n"
     ]
    }
   ],
   "source": [
    "# Imprimir os números de 10 até 6\n",
    "n = 10\n",
    "while n >= 6:\n",
    "    print(n)\n",
    "    n -= 1"
   ]
  },
  {
   "cell_type": "code",
   "execution_count": 177,
   "metadata": {},
   "outputs": [
    {
     "name": "stdout",
     "output_type": "stream",
     "text": [
      "2 é par!\n"
     ]
    }
   ],
   "source": [
    "# Mostrar o primeiro número par de 1 a 9\n",
    "numero = 1\n",
    "while numero < 10:\n",
    "    if numero % 2 == 0:\n",
    "        print(f\"{numero} é par!\")\n",
    "        break\n",
    "    numero += 1\n"
   ]
  },
  {
   "cell_type": "code",
   "execution_count": 178,
   "metadata": {},
   "outputs": [
    {
     "name": "stdout",
     "output_type": "stream",
     "text": [
      "f\n",
      "i\n",
      "l\n",
      "o\n",
      "s\n",
      "o\n",
      "f\n",
      "i\n",
      "a\n"
     ]
    }
   ],
   "source": [
    "# Contar letras de uma palavra\n",
    "palavra = \"filosofia\"\n",
    "i = 0\n",
    "while i < len(palavra):\n",
    "    print(palavra[i])\n",
    "    i += 1\n"
   ]
  },
  {
   "cell_type": "markdown",
   "metadata": {},
   "source": [
    "**✨ Mini Exercícios com `while` e Estruturas de Dados**\n",
    "1. **Dada a palavra** `\"epistemologia\"`, imprime cada letra até encontrares a letra `\"o\"`.  \n",
    "   - 💡 Podes usar o comando `break` para parar o ciclo.\n",
    "\n",
    "2. **Percorre o seguinte tuplo e conta quantas vezes aparece a vogal `'a'`:**  \n",
    "   - `vogais = (\"a\", \"e\", \"i\", \"o\", \"u\", \"a\", \"i\", \"a\")`\n",
    "\n",
    "3. **Dada a seguinte lista de palavras, remove todas as palavras com menos de 4 letras:**  \n",
    "   - `palavras = [\"sol\", \"luz\", \"harmonia\", \"vida\", \"ar\", \"natureza\"]`\n",
    "\n",
    "4. **Cria uma função chamada** `remover_letra` **que recebe dois argumentos:**\n",
    "   - Uma **frase** (string)\n",
    "   - Uma **letra a remover** (carácter)\n",
    "   > A função deve devolver a frase original **sem todas as ocorrências dessa letra**.\n"
   ]
  },
  {
   "cell_type": "markdown",
   "metadata": {},
   "source": [
    "<a class='anchor' id='3.2.'></a>\n",
    "\n",
    "## **3.2. For**\n",
    "\n",
    "O loop `for` é utilizado para **percorrer elementos** de uma sequência (listas, tuplos, strings, dicionários, etc.).  \n",
    "É muito útil quando queremos **executar uma ação para cada item** de uma coleção."
   ]
  },
  {
   "cell_type": "code",
   "execution_count": 179,
   "metadata": {},
   "outputs": [
    {
     "name": "stdout",
     "output_type": "stream",
     "text": [
      "O grande pensador: Sócrates\n",
      "O grande pensador: Platão\n",
      "O grande pensador: Aristóteles\n",
      "O grande pensador: Epicuro\n"
     ]
    }
   ],
   "source": [
    "filosofos = [\"Sócrates\", \"Platão\", \"Aristóteles\", \"Epicuro\"]\n",
    "\n",
    "for nome in filosofos:\n",
    "    print(f\"O grande pensador: {nome}\")"
   ]
  },
  {
   "cell_type": "code",
   "execution_count": 180,
   "metadata": {},
   "outputs": [
    {
     "name": "stdout",
     "output_type": "stream",
     "text": [
      "Soma total: 20\n"
     ]
    }
   ],
   "source": [
    "numeros = [2, 4, 6, 8]\n",
    "soma = 0\n",
    "\n",
    "for n in numeros:\n",
    "    soma += n\n",
    "\n",
    "print(\"Soma total:\", soma)"
   ]
  },
  {
   "cell_type": "code",
   "execution_count": 181,
   "metadata": {},
   "outputs": [
    {
     "name": "stdout",
     "output_type": "stream",
     "text": [
      "s\n",
      "a\n",
      "p\n",
      "i\n",
      "e\n",
      "n\n",
      "t\n",
      "i\n",
      "a\n"
     ]
    }
   ],
   "source": [
    "frase = \"sapientia\"\n",
    "\n",
    "for letra in frase:\n",
    "    print(letra)"
   ]
  },
  {
   "cell_type": "code",
   "execution_count": 182,
   "metadata": {},
   "outputs": [
    {
     "name": "stdout",
     "output_type": "stream",
     "text": [
      "0: Mercúrio\n",
      "1: Vénus\n",
      "2: Terra\n",
      "3: Marte\n"
     ]
    }
   ],
   "source": [
    "planetas = [\"Mercúrio\", \"Vénus\", \"Terra\", \"Marte\"]\n",
    "\n",
    "for i, planeta in enumerate(planetas):\n",
    "    print(f\"{i}: {planeta}\")"
   ]
  },
  {
   "cell_type": "code",
   "execution_count": 183,
   "metadata": {},
   "outputs": [
    {
     "name": "stdout",
     "output_type": "stream",
     "text": [
      "Autor: Camões\n",
      "Obra: Os Lusíadas\n",
      "Ano: 1572\n"
     ]
    }
   ],
   "source": [
    "poema = {\n",
    "    \"autor\": \"Camões\",\n",
    "    \"obra\": \"Os Lusíadas\",\n",
    "    \"ano\": 1572\n",
    "}\n",
    "\n",
    "for chave, valor in poema.items():\n",
    "    print(f\"{chave.capitalize()}: {valor}\")"
   ]
  },
  {
   "cell_type": "markdown",
   "metadata": {},
   "source": [
    "**Mini Exercícios**\n",
    "1. Dada a frase **\"carpe diem quam minimum credula postero\"**, imprime apenas as palavras com mais de 5 letras.\n",
    "\n",
    "2. Itera sobre o dicionário abaixo e imprime uma frase com o nome e a especialidade de cada filósofo:\n",
    "\n",
    "```python\n",
    "filosofos = {\n",
    "    \"Sócrates\": \"ética\",\n",
    "    \"Platão\": \"metafísica\",\n",
    "    \"Aristóteles\": \"lógica\"\n",
    "}\n",
    "```\n",
    "\n",
    "3. Constrói uma nova lista apenas com as palavras que terminam com a letra \"a\":\n",
    "    - palavras = [\"aurora\", \"sol\", \"beleza\", \"paz\", \"harmonia\"]\n",
    "\n",
    "4. Dada uma lista de frases latinas antigas, imprime todas as palavras que aparecem **mais de uma vez** no conjunto total:\n",
    "   - frases = [\n",
    "    \"in vino veritas\",\n",
    "    \"amor vincit omnia\",\n",
    "    \"veritas vos liberabit\",\n",
    "    \"omnia vincit amor\",\n",
    "    \"alea iacta est\",\n",
    "    \"carpe diem\",\n",
    "    \"veni vidi vici\",\n",
    "    \"mens sana in corpore sano\",\n",
    "    \"tempus fugit\",\n",
    "    \"amor est vitae essentia\",\n",
    "    \"scientia potentia est\",\n",
    "    \"veritas lux mea\"\n",
    "]\n",
    "\n",
    "\n",
    "   > Dica: extrai todas as palavras, converte para minúsculas, e conta a frequência com um dicionário.\n"
   ]
  },
  {
   "cell_type": "markdown",
   "metadata": {},
   "source": [
    "<a class='anchor' id='4.'></a>\n",
    "\n",
    "# **4. Expressões Regulares**\n",
    "\n",
    "**O que são Expressões Regulares?**\n",
    "+ Expressões regulares (ou regex) são sequências de caracteres que formam um padrão de pesquisa, utilizado para encontrar, validar, extrair ou substituir texto dentro de strings. São extremamente úteis para manipulação avançada de texto, especialmente quando se pretende identificar padrões complexos que não são facilmente localizáveis com métodos simples."
   ]
  },
  {
   "cell_type": "markdown",
   "metadata": {},
   "source": [
    "O módulo `re` em Python permite trabalhar com **expressões regulares**, que são padrões usados para procurar ou manipular texto.\n",
    "\n",
    "| Método                        | Descrição                                                                 |\n",
    "|------------------------------|---------------------------------------------------------------------------|\n",
    "| `re.search(padrão, texto)`   | Procura a **primeira ocorrência** do padrão no texto.                     |\n",
    "| `re.findall(padrão, texto)`  | Devolve **todas as correspondências** do padrão como uma lista.           |\n",
    "| `re.match(padrão, texto)`    | Verifica se o padrão ocorre **no início** do texto.                       |\n",
    "| `re.sub(padrão, sub, texto)` | Substitui todas as ocorrências do padrão por outra string.               |\n",
    "| `re.finditer(padrão, texto)` | Retorna um **iterador** de todos os objetos `match` com mais informações. |"
   ]
  },
  {
   "cell_type": "code",
   "execution_count": 184,
   "metadata": {},
   "outputs": [],
   "source": [
    "import re\n",
    "\n",
    "# Texto base\n",
    "texto = \"Hoje o gato dorme no sofá.\""
   ]
  },
  {
   "cell_type": "code",
   "execution_count": 185,
   "metadata": {},
   "outputs": [
    {
     "name": "stdout",
     "output_type": "stream",
     "text": [
      "gato\n"
     ]
    }
   ],
   "source": [
    "resultado = re.search(\"gato\", texto)\n",
    "print(resultado.group())  # gato"
   ]
  },
  {
   "cell_type": "code",
   "execution_count": 186,
   "metadata": {},
   "outputs": [
    {
     "name": "stdout",
     "output_type": "stream",
     "text": [
      "['o', 'o', 'o', 'o', 'o', 'o']\n"
     ]
    }
   ],
   "source": [
    "resultado = re.findall(\"o\", texto)\n",
    "print(resultado)  # ['o', 'o', 'o', 'o']"
   ]
  },
  {
   "cell_type": "code",
   "execution_count": 187,
   "metadata": {},
   "outputs": [
    {
     "name": "stdout",
     "output_type": "stream",
     "text": [
      "True\n"
     ]
    }
   ],
   "source": [
    "resultado = re.match(\"Hoje\", texto)\n",
    "print(bool(resultado))  # True"
   ]
  },
  {
   "cell_type": "code",
   "execution_count": 188,
   "metadata": {},
   "outputs": [
    {
     "name": "stdout",
     "output_type": "stream",
     "text": [
      "Hoje o cão dorme no sofá.\n"
     ]
    }
   ],
   "source": [
    "novo = re.sub(\"gato\", \"cão\", texto)\n",
    "print(novo)  # Hoje o cão dorme no sofá."
   ]
  },
  {
   "cell_type": "code",
   "execution_count": 189,
   "metadata": {},
   "outputs": [
    {
     "name": "stdout",
     "output_type": "stream",
     "text": [
      "gato → posição (7, 11)\n"
     ]
    }
   ],
   "source": [
    "for m in re.finditer(\"gato\", texto):\n",
    "    print(f\"{m.group()} → posição {m.span()}\")\n",
    "# gato → posição (2, 6)"
   ]
  },
  {
   "cell_type": "code",
   "execution_count": 190,
   "metadata": {},
   "outputs": [],
   "source": [
    "import re\n",
    "from typing import Union\n",
    "\n",
    "def destacar_ocorrencias(entrada: Union[str, list], padrao: str, ignore_case=False):\n",
    "    \"\"\"\n",
    "    Destaca todas as ocorrências que correspondem ao padrão.\n",
    "    Funciona com uma string longa ou com uma lista de palavras.\n",
    "    \"\"\"\n",
    "    # Estilo ANSI:\n",
    "    # \\033[1m  → Negrito\n",
    "    # \\033[4m  → Sublinhado\n",
    "    # \\033[30m → Texto preto\n",
    "    # \\033[43m → Fundo amarelo\n",
    "    # \\033[0m  → Reset\n",
    "    INICIO = \"\\033[1m\\033[4m\\033[30m\\033[43m\"\n",
    "    FIM = \"\\033[0m\"\n",
    "\n",
    "    flags = re.IGNORECASE if ignore_case else 0\n",
    "\n",
    "    if isinstance(entrada, str):\n",
    "        # String longa: marcar posições com span\n",
    "        matches = list(re.finditer(padrao, entrada, flags=flags))\n",
    "\n",
    "        if not matches:\n",
    "            return \"⚠️ Nenhuma ocorrência encontrada.\"\n",
    "\n",
    "        resultado = \"\"\n",
    "        last_end = 0\n",
    "\n",
    "        for match in matches:\n",
    "            start, end = match.span()\n",
    "            resultado += entrada[last_end:start]\n",
    "            resultado += f\"{INICIO}{entrada[start:end]}{FIM}\"\n",
    "            last_end = end\n",
    "\n",
    "        resultado += entrada[last_end:]\n",
    "        return resultado\n",
    "\n",
    "    elif isinstance(entrada, list):\n",
    "        # Lista de palavras: marcar palavras inteiras\n",
    "        resultado = []\n",
    "        for palavra in entrada:\n",
    "            if re.search(padrao, palavra, flags=flags):\n",
    "                resultado.append(f\"{INICIO}{palavra}{FIM}\")\n",
    "            else:\n",
    "                resultado.append(palavra)\n",
    "\n",
    "        return \" | \".join(resultado)\n",
    "\n",
    "    else:\n",
    "        raise TypeError(\"Entrada deve ser uma string ou uma lista de strings.\")"
   ]
  },
  {
   "cell_type": "markdown",
   "metadata": {},
   "source": [
    "<a class='anchor' id='4.1.'></a>\n",
    "\n",
    "## **4.1. Expressões Regulares: Símbolos Básicos (Parte 1)**\n",
    "\n",
    "| Símbolo | Significado                         | Exemplo                  |\n",
    "|---------|-----------------------------------|--------------------------|\n",
    "| .       | Qualquer caractere (exceto nova linha) | `a.b` (apanha \"acb\", \"a1b\") |\n",
    "| ^       | Início da string                  | `^a` (string começa com 'a')  |\n",
    "| $       | Fim da string                    | `a$` (string termina com 'a') |"
   ]
  },
  {
   "cell_type": "markdown",
   "metadata": {},
   "source": [
    "1. $ \\text{Qualquer caráctere} \\rightarrow \\bullet $"
   ]
  },
  {
   "cell_type": "code",
   "execution_count": 191,
   "metadata": {},
   "outputs": [
    {
     "name": "stdout",
     "output_type": "stream",
     "text": [
      "['gat', 'gat', 'gat']\n"
     ]
    }
   ],
   "source": [
    "texto = \"gato gato, gato.\"\n",
    "\n",
    "# Procura qualquer letra 'g', seguida de qualquer caractere, seguida de 't'\n",
    "padrao = r\"g.t\"\n",
    "\n",
    "resultados = re.findall(padrao, texto)\n",
    "print(resultados)"
   ]
  },
  {
   "cell_type": "code",
   "execution_count": 192,
   "metadata": {},
   "outputs": [
    {
     "name": "stdout",
     "output_type": "stream",
     "text": [
      "\u001b[1m\u001b[4m\u001b[30m\u001b[43mgat\u001b[0mo \u001b[1m\u001b[4m\u001b[30m\u001b[43mgat\u001b[0mo, \u001b[1m\u001b[4m\u001b[30m\u001b[43mgat\u001b[0mo.\n"
     ]
    }
   ],
   "source": [
    "print(destacar_ocorrencias(texto, padrao, ignore_case=True))"
   ]
  },
  {
   "cell_type": "markdown",
   "metadata": {},
   "source": [
    "2. $\\text{Inicio da String} \\rightarrow$ ^"
   ]
  },
  {
   "cell_type": "code",
   "execution_count": 193,
   "metadata": {},
   "outputs": [
    {
     "name": "stdout",
     "output_type": "stream",
     "text": [
      "Lingüística\n",
      "linguagens\n",
      "Linguagem\n",
      "Linguiça\n"
     ]
    }
   ],
   "source": [
    "palavras = [\n",
    "    \"Lingüística\",\n",
    "    \"linguagens\",\n",
    "    \"Linguagem\",\n",
    "    \"Linguiça\",\n",
    "    \"Lindo\",\n",
    "    \"filologia\",\n",
    "    \"digital\"\n",
    "]\n",
    "\n",
    "padrao = r\"^Ling\"  # Começa por 'Ling', sensível a maiúsculas/minúsculas\n",
    "\n",
    "# Para ignorar case, podes usar re.IGNORECASE\n",
    "for palavra in palavras:\n",
    "    if re.match(padrao, palavra, flags=re.IGNORECASE):\n",
    "        print(palavra)\n",
    "\n",
    "# ou\n",
    "# resultados = [p for p in palavras if re.match(padrao, p, flags=re.IGNORECASE)]\n",
    "# print(resultados)\n"
   ]
  },
  {
   "cell_type": "code",
   "execution_count": 194,
   "metadata": {},
   "outputs": [
    {
     "name": "stdout",
     "output_type": "stream",
     "text": [
      "\u001b[1m\u001b[4m\u001b[30m\u001b[43mLingüística\u001b[0m | \u001b[1m\u001b[4m\u001b[30m\u001b[43mlinguagens\u001b[0m | \u001b[1m\u001b[4m\u001b[30m\u001b[43mLinguagem\u001b[0m | \u001b[1m\u001b[4m\u001b[30m\u001b[43mLinguiça\u001b[0m | Lindo | filologia | digital\n"
     ]
    }
   ],
   "source": [
    "print(destacar_ocorrencias(palavras, padrao, ignore_case=True))"
   ]
  },
  {
   "cell_type": "markdown",
   "metadata": {},
   "source": [
    "3. $\\text{Fim da String} \\rightarrow$ $"
   ]
  },
  {
   "cell_type": "code",
   "execution_count": 195,
   "metadata": {},
   "outputs": [
    {
     "name": "stdout",
     "output_type": "stream",
     "text": [
      "fim\n",
      "confim\n"
     ]
    }
   ],
   "source": [
    "import re\n",
    "\n",
    "palavras = [\"começo\", \"meio\", \"fim\", \"confim\", \"final\"]\n",
    "\n",
    "# Expressão regular para verificar se a palavra termina com 'fim'\n",
    "padrao = r\"fim$\"\n",
    "\n",
    "for palavra in palavras:\n",
    "    if re.search(padrao, palavra):\n",
    "        print(palavra)"
   ]
  },
  {
   "cell_type": "code",
   "execution_count": 196,
   "metadata": {},
   "outputs": [
    {
     "name": "stdout",
     "output_type": "stream",
     "text": [
      "começo | meio | \u001b[1m\u001b[4m\u001b[30m\u001b[43mfim\u001b[0m | \u001b[1m\u001b[4m\u001b[30m\u001b[43mconfim\u001b[0m | final\n"
     ]
    }
   ],
   "source": [
    "print(destacar_ocorrencias(palavras, padrao, ignore_case=True))"
   ]
  },
  {
   "cell_type": "markdown",
   "metadata": {},
   "source": [
    "<a class='anchor' id='4.2.'></a>\n",
    "\n",
    "## **4.2. Expressões Regulares: Quantificadores (Parte 2)**\n",
    "\n",
    "| Símbolo | Significado                         | Exemplo                  |\n",
    "|---------|-----------------------------------|--------------------------|\n",
    "| *       | Zero ou mais repetições            | `a*` (zero ou mais 'a's) |\n",
    "| +       | Uma ou mais repetições             | `a+` (uma ou mais 'a's)  |\n",
    "| ?       | Zero ou uma repetição (opcional)  | `a?` ('a' opcional)      |\n",
    "| {n}     | Exatamente n repetições            | `a{3}` (exatamente 'aaa')|\n",
    "| {n,}    | Pelo menos n repetições            | `a{2,}` (duas ou mais 'a's) |\n",
    "| {n,m}   | Entre n e m repetições             | `a{2,4}` (entre 2 e 4 'a's) |"
   ]
  },
  {
   "cell_type": "markdown",
   "metadata": {},
   "source": [
    "1. $\\text{Zero ou mais repetições} \\rightarrow$ $*$"
   ]
  },
  {
   "cell_type": "code",
   "execution_count": 197,
   "metadata": {},
   "outputs": [
    {
     "name": "stdout",
     "output_type": "stream",
     "text": [
      "['a', '', 'aa', '', 'aaa', '', 'aaaa', '']\n"
     ]
    }
   ],
   "source": [
    "texto = \"a aa aaa aaaa\"\n",
    "padrao = r\"a*\"\n",
    "\n",
    "# Encontra todas as ocorrências de zero ou mais 'a' seguidas\n",
    "print(re.findall(padrao, texto))"
   ]
  },
  {
   "cell_type": "markdown",
   "metadata": {},
   "source": [
    "2. $\\text{Uma ou mais repetições} \\rightarrow$ $+$"
   ]
  },
  {
   "cell_type": "code",
   "execution_count": 198,
   "metadata": {},
   "outputs": [
    {
     "name": "stdout",
     "output_type": "stream",
     "text": [
      "['a', 'aa', 'aaa', 'aaaa']\n"
     ]
    }
   ],
   "source": [
    "texto = \"a aa aaa aaaa\"\n",
    "padrao = r\"a+\"\n",
    "\n",
    "# Encontra grupos de uma ou mais letras 'a'\n",
    "print(re.findall(padrao, texto))"
   ]
  },
  {
   "cell_type": "code",
   "execution_count": 199,
   "metadata": {},
   "outputs": [
    {
     "name": "stdout",
     "output_type": "stream",
     "text": [
      "\u001b[1m\u001b[4m\u001b[30m\u001b[43ma\u001b[0m \u001b[1m\u001b[4m\u001b[30m\u001b[43maa\u001b[0m \u001b[1m\u001b[4m\u001b[30m\u001b[43maaa\u001b[0m \u001b[1m\u001b[4m\u001b[30m\u001b[43maaaa\u001b[0m\n"
     ]
    }
   ],
   "source": [
    "print(destacar_ocorrencias(texto, padrao, ignore_case=True))"
   ]
  },
  {
   "cell_type": "markdown",
   "metadata": {},
   "source": [
    "3. $\\text{Zero ou uma repetição (carácter opcional)} \\rightarrow$ $?$"
   ]
  },
  {
   "cell_type": "code",
   "execution_count": 200,
   "metadata": {},
   "outputs": [
    {
     "name": "stdout",
     "output_type": "stream",
     "text": [
      "['cor', 'cora', 'cora', 'cora']\n"
     ]
    }
   ],
   "source": [
    "texto = \"cor cora coração corais\"\n",
    "padrao = r\"cora?\"\n",
    "\n",
    "# Encontra \"cor\" seguido ou não de um 'a'\n",
    "print(re.findall(padrao, texto))"
   ]
  },
  {
   "cell_type": "code",
   "execution_count": 201,
   "metadata": {},
   "outputs": [
    {
     "name": "stdout",
     "output_type": "stream",
     "text": [
      "\u001b[1m\u001b[4m\u001b[30m\u001b[43mcor\u001b[0m \u001b[1m\u001b[4m\u001b[30m\u001b[43mcora\u001b[0m \u001b[1m\u001b[4m\u001b[30m\u001b[43mcora\u001b[0mção \u001b[1m\u001b[4m\u001b[30m\u001b[43mcora\u001b[0mis\n"
     ]
    }
   ],
   "source": [
    "print(destacar_ocorrencias(texto, padrao, ignore_case=True))"
   ]
  },
  {
   "cell_type": "markdown",
   "metadata": {},
   "source": [
    "4. $\\text{Exatamente} \\ n \\ \\text{repetições} \\rightarrow$ {$n$}"
   ]
  },
  {
   "cell_type": "code",
   "execution_count": 202,
   "metadata": {},
   "outputs": [
    {
     "name": "stdout",
     "output_type": "stream",
     "text": [
      "['aaa', 'aaa', 'aaa']\n"
     ]
    }
   ],
   "source": [
    "texto = \"a aa aaa aaaa aaaaa\"\n",
    "padrao = r\"a{3}\"\n",
    "\n",
    "# Encontra exatamente 3 letras 'a' seguidas\n",
    "print(re.findall(padrao, texto))"
   ]
  },
  {
   "cell_type": "code",
   "execution_count": 203,
   "metadata": {},
   "outputs": [
    {
     "name": "stdout",
     "output_type": "stream",
     "text": [
      "a aa \u001b[1m\u001b[4m\u001b[30m\u001b[43maaa\u001b[0m \u001b[1m\u001b[4m\u001b[30m\u001b[43maaa\u001b[0ma \u001b[1m\u001b[4m\u001b[30m\u001b[43maaa\u001b[0maa\n"
     ]
    }
   ],
   "source": [
    "print(destacar_ocorrencias(texto, padrao, ignore_case=True))"
   ]
  },
  {
   "cell_type": "markdown",
   "metadata": {},
   "source": [
    "5. $\\text{Pelo menos} \\ n \\ \\text{repetições} \\rightarrow$ {$n$, }"
   ]
  },
  {
   "cell_type": "code",
   "execution_count": 204,
   "metadata": {},
   "outputs": [
    {
     "name": "stdout",
     "output_type": "stream",
     "text": [
      "['aa', 'aaa', 'aaaa', 'aaaaa']\n"
     ]
    }
   ],
   "source": [
    "texto = \"a aa aaa aaaa aaaaa\"\n",
    "padrao = r\"a{2,}\"\n",
    "\n",
    "# Encontra todas as sequências com pelo menos 2 letras 'a'\n",
    "print(re.findall(padrao, texto))"
   ]
  },
  {
   "cell_type": "code",
   "execution_count": 205,
   "metadata": {},
   "outputs": [
    {
     "name": "stdout",
     "output_type": "stream",
     "text": [
      "a \u001b[1m\u001b[4m\u001b[30m\u001b[43maa\u001b[0m \u001b[1m\u001b[4m\u001b[30m\u001b[43maaa\u001b[0m \u001b[1m\u001b[4m\u001b[30m\u001b[43maaaa\u001b[0m \u001b[1m\u001b[4m\u001b[30m\u001b[43maaaaa\u001b[0m\n"
     ]
    }
   ],
   "source": [
    "print(destacar_ocorrencias(texto, padrao, ignore_case=True))"
   ]
  },
  {
   "cell_type": "markdown",
   "metadata": {},
   "source": [
    "6. $\\text{Entre} \\ n \\ \\text{e} \\ m \\ \\text{repetições} \\rightarrow$ {$n$, $m$}"
   ]
  },
  {
   "cell_type": "code",
   "execution_count": 206,
   "metadata": {},
   "outputs": [
    {
     "name": "stdout",
     "output_type": "stream",
     "text": [
      "['aaaa', 'aaaaa', 'aaaaa']\n"
     ]
    }
   ],
   "source": [
    "texto = \"a aa aaa aaaa aaaaa aaaaaa\"\n",
    "padrao = r\"a{4,5}\"\n",
    "\n",
    "# Encontra grupos com 2 a 4 letras 'a'\n",
    "print(re.findall(padrao, texto))"
   ]
  },
  {
   "cell_type": "code",
   "execution_count": 207,
   "metadata": {},
   "outputs": [
    {
     "name": "stdout",
     "output_type": "stream",
     "text": [
      "a aa aaa \u001b[1m\u001b[4m\u001b[30m\u001b[43maaaa\u001b[0m \u001b[1m\u001b[4m\u001b[30m\u001b[43maaaaa\u001b[0m \u001b[1m\u001b[4m\u001b[30m\u001b[43maaaaa\u001b[0ma\n"
     ]
    }
   ],
   "source": [
    "print(destacar_ocorrencias(texto, padrao, ignore_case=True))"
   ]
  },
  {
   "cell_type": "markdown",
   "metadata": {},
   "source": [
    "<a class='anchor' id='4.3.'></a>\n",
    "\n",
    "## **4.3. Expressões Regulares: Conjuntos e Classes (Parte 3)**\n",
    "\n",
    "| Símbolo   | Significado                         | Exemplo                  |\n",
    "|-----------|-----------------------------------|--------------------------|\n",
    "| []        | Conjunto de caracteres             | `[aeiou]` (uma vogal)    |\n",
    "| [^ ]      | Negação de conjunto                | `[^aeiou]` (não vogal)   |\n",
    "| \\d        | Dígito (0-9)                      | `\\d`                     |\n",
    "| \\D        | Não dígito                       | `\\D`                     |\n",
    "| \\w        | Letra, dígito ou underscore       | `\\w`                     |\n",
    "| \\W        | Não letra, dígito ou underscore   | `\\W`                     |\n",
    "| \\s        | Espaço em branco (espaço, tab, nova linha) | `\\s`              |\n",
    "| \\S        | Não espaço em branco               | `\\S`                     |\n"
   ]
  },
  {
   "cell_type": "code",
   "execution_count": 208,
   "metadata": {},
   "outputs": [
    {
     "name": "stdout",
     "output_type": "stream",
     "text": [
      "O manuscrito 𝔐123 contém variações!  \n",
      "Ver pág. 42, linha_5.\n"
     ]
    }
   ],
   "source": [
    "texto = \"O manuscrito 𝔐123 contém variações!  \\nVer pág. 42, linha_5.\"\n",
    "print(texto)"
   ]
  },
  {
   "cell_type": "markdown",
   "metadata": {},
   "source": [
    "1. $\\text{Conjunto de Caracteres} \\rightarrow$ []"
   ]
  },
  {
   "cell_type": "code",
   "execution_count": 209,
   "metadata": {},
   "outputs": [
    {
     "name": "stdout",
     "output_type": "stream",
     "text": [
      "['a', 'u', 'i', 'o', 'o', 'a', 'i', 'a', 'e', 'e', 'i', 'a']\n"
     ]
    }
   ],
   "source": [
    "padrao = r\"[aeiou]\" # [] – Encontra todas as vogais\n",
    "print(re.findall(padrao, texto))"
   ]
  },
  {
   "cell_type": "code",
   "execution_count": 210,
   "metadata": {},
   "outputs": [
    {
     "name": "stdout",
     "output_type": "stream",
     "text": [
      "\u001b[1m\u001b[4m\u001b[30m\u001b[43mO\u001b[0m m\u001b[1m\u001b[4m\u001b[30m\u001b[43ma\u001b[0mn\u001b[1m\u001b[4m\u001b[30m\u001b[43mu\u001b[0mscr\u001b[1m\u001b[4m\u001b[30m\u001b[43mi\u001b[0mt\u001b[1m\u001b[4m\u001b[30m\u001b[43mo\u001b[0m 𝔐123 c\u001b[1m\u001b[4m\u001b[30m\u001b[43mo\u001b[0mntém v\u001b[1m\u001b[4m\u001b[30m\u001b[43ma\u001b[0mr\u001b[1m\u001b[4m\u001b[30m\u001b[43mi\u001b[0m\u001b[1m\u001b[4m\u001b[30m\u001b[43ma\u001b[0mçõ\u001b[1m\u001b[4m\u001b[30m\u001b[43me\u001b[0ms!  \n",
      "V\u001b[1m\u001b[4m\u001b[30m\u001b[43me\u001b[0mr pág. 42, l\u001b[1m\u001b[4m\u001b[30m\u001b[43mi\u001b[0mnh\u001b[1m\u001b[4m\u001b[30m\u001b[43ma\u001b[0m_5.\n"
     ]
    }
   ],
   "source": [
    "print(destacar_ocorrencias(texto, padrao, ignore_case=True))"
   ]
  },
  {
   "cell_type": "markdown",
   "metadata": {},
   "source": [
    "2. $\\text{Negação de conjunto} \\rightarrow$ [^ ]"
   ]
  },
  {
   "cell_type": "code",
   "execution_count": 211,
   "metadata": {},
   "outputs": [
    {
     "name": "stdout",
     "output_type": "stream",
     "text": [
      "['O', ' ', 'm', 'n', 's', 'c', 'r', 't', ' ', '𝔐', '1', '2', '3', ' ', 'c', 'n', 't', 'é', 'm', ' ', 'v', 'r', 'ç', 'õ', 's', '!', ' ', ' ', '\\n', 'V', 'r', ' ', 'p', 'á', 'g', '.', ' ', '4', '2', ',', ' ', 'l', 'n', 'h', '_', '5', '.']\n"
     ]
    }
   ],
   "source": [
    "padrao = r\"[^aeiou]\" # [^ ] – Tudo exceto vogais\n",
    "print(re.findall(padrao, texto))"
   ]
  },
  {
   "cell_type": "code",
   "execution_count": 212,
   "metadata": {},
   "outputs": [
    {
     "name": "stdout",
     "output_type": "stream",
     "text": [
      "O\u001b[1m\u001b[4m\u001b[30m\u001b[43m \u001b[0m\u001b[1m\u001b[4m\u001b[30m\u001b[43mm\u001b[0ma\u001b[1m\u001b[4m\u001b[30m\u001b[43mn\u001b[0mu\u001b[1m\u001b[4m\u001b[30m\u001b[43ms\u001b[0m\u001b[1m\u001b[4m\u001b[30m\u001b[43mc\u001b[0m\u001b[1m\u001b[4m\u001b[30m\u001b[43mr\u001b[0mi\u001b[1m\u001b[4m\u001b[30m\u001b[43mt\u001b[0mo\u001b[1m\u001b[4m\u001b[30m\u001b[43m \u001b[0m\u001b[1m\u001b[4m\u001b[30m\u001b[43m𝔐\u001b[0m\u001b[1m\u001b[4m\u001b[30m\u001b[43m1\u001b[0m\u001b[1m\u001b[4m\u001b[30m\u001b[43m2\u001b[0m\u001b[1m\u001b[4m\u001b[30m\u001b[43m3\u001b[0m\u001b[1m\u001b[4m\u001b[30m\u001b[43m \u001b[0m\u001b[1m\u001b[4m\u001b[30m\u001b[43mc\u001b[0mo\u001b[1m\u001b[4m\u001b[30m\u001b[43mn\u001b[0m\u001b[1m\u001b[4m\u001b[30m\u001b[43mt\u001b[0m\u001b[1m\u001b[4m\u001b[30m\u001b[43mé\u001b[0m\u001b[1m\u001b[4m\u001b[30m\u001b[43mm\u001b[0m\u001b[1m\u001b[4m\u001b[30m\u001b[43m \u001b[0m\u001b[1m\u001b[4m\u001b[30m\u001b[43mv\u001b[0ma\u001b[1m\u001b[4m\u001b[30m\u001b[43mr\u001b[0mia\u001b[1m\u001b[4m\u001b[30m\u001b[43mç\u001b[0m\u001b[1m\u001b[4m\u001b[30m\u001b[43mõ\u001b[0me\u001b[1m\u001b[4m\u001b[30m\u001b[43ms\u001b[0m\u001b[1m\u001b[4m\u001b[30m\u001b[43m!\u001b[0m\u001b[1m\u001b[4m\u001b[30m\u001b[43m \u001b[0m\u001b[1m\u001b[4m\u001b[30m\u001b[43m \u001b[0m\u001b[1m\u001b[4m\u001b[30m\u001b[43m\n",
      "\u001b[0m\u001b[1m\u001b[4m\u001b[30m\u001b[43mV\u001b[0me\u001b[1m\u001b[4m\u001b[30m\u001b[43mr\u001b[0m\u001b[1m\u001b[4m\u001b[30m\u001b[43m \u001b[0m\u001b[1m\u001b[4m\u001b[30m\u001b[43mp\u001b[0m\u001b[1m\u001b[4m\u001b[30m\u001b[43má\u001b[0m\u001b[1m\u001b[4m\u001b[30m\u001b[43mg\u001b[0m\u001b[1m\u001b[4m\u001b[30m\u001b[43m.\u001b[0m\u001b[1m\u001b[4m\u001b[30m\u001b[43m \u001b[0m\u001b[1m\u001b[4m\u001b[30m\u001b[43m4\u001b[0m\u001b[1m\u001b[4m\u001b[30m\u001b[43m2\u001b[0m\u001b[1m\u001b[4m\u001b[30m\u001b[43m,\u001b[0m\u001b[1m\u001b[4m\u001b[30m\u001b[43m \u001b[0m\u001b[1m\u001b[4m\u001b[30m\u001b[43ml\u001b[0mi\u001b[1m\u001b[4m\u001b[30m\u001b[43mn\u001b[0m\u001b[1m\u001b[4m\u001b[30m\u001b[43mh\u001b[0ma\u001b[1m\u001b[4m\u001b[30m\u001b[43m_\u001b[0m\u001b[1m\u001b[4m\u001b[30m\u001b[43m5\u001b[0m\u001b[1m\u001b[4m\u001b[30m\u001b[43m.\u001b[0m\n"
     ]
    }
   ],
   "source": [
    "print(destacar_ocorrencias(texto, padrao, ignore_case=True))"
   ]
  },
  {
   "cell_type": "markdown",
   "metadata": {},
   "source": [
    "3. $\\text{Digitos} \\rightarrow$ \\d"
   ]
  },
  {
   "cell_type": "code",
   "execution_count": 213,
   "metadata": {},
   "outputs": [
    {
     "name": "stdout",
     "output_type": "stream",
     "text": [
      "['1', '2', '3', '4', '2', '5']\n"
     ]
    }
   ],
   "source": [
    "padrao = r\"\\d\" # \\d – Dígitos\n",
    "print(re.findall(padrao, texto))"
   ]
  },
  {
   "cell_type": "code",
   "execution_count": 214,
   "metadata": {},
   "outputs": [
    {
     "name": "stdout",
     "output_type": "stream",
     "text": [
      "O manuscrito 𝔐\u001b[1m\u001b[4m\u001b[30m\u001b[43m1\u001b[0m\u001b[1m\u001b[4m\u001b[30m\u001b[43m2\u001b[0m\u001b[1m\u001b[4m\u001b[30m\u001b[43m3\u001b[0m contém variações!  \n",
      "Ver pág. \u001b[1m\u001b[4m\u001b[30m\u001b[43m4\u001b[0m\u001b[1m\u001b[4m\u001b[30m\u001b[43m2\u001b[0m, linha_\u001b[1m\u001b[4m\u001b[30m\u001b[43m5\u001b[0m.\n"
     ]
    }
   ],
   "source": [
    "print(destacar_ocorrencias(texto, padrao, ignore_case=True))"
   ]
  },
  {
   "cell_type": "markdown",
   "metadata": {},
   "source": [
    "4. $\\text{Não Digitos} \\rightarrow$ \\D"
   ]
  },
  {
   "cell_type": "code",
   "execution_count": 215,
   "metadata": {},
   "outputs": [
    {
     "name": "stdout",
     "output_type": "stream",
     "text": [
      "['O', ' ', 'm', 'a', 'n', 'u', 's', 'c', 'r', 'i', 't', 'o', ' ', '𝔐', ' ', 'c', 'o', 'n', 't', 'é', 'm', ' ', 'v', 'a', 'r', 'i', 'a', 'ç', 'õ', 'e', 's', '!', ' ', ' ', '\\n', 'V', 'e', 'r', ' ', 'p', 'á', 'g', '.', ' ', ',', ' ', 'l', 'i', 'n', 'h', 'a', '_', '.']\n"
     ]
    }
   ],
   "source": [
    "padrao = r\"\\D\" # \\d – Dígitos\n",
    "print(re.findall(padrao, texto))"
   ]
  },
  {
   "cell_type": "code",
   "execution_count": 216,
   "metadata": {},
   "outputs": [
    {
     "name": "stdout",
     "output_type": "stream",
     "text": [
      "\u001b[1m\u001b[4m\u001b[30m\u001b[43mO\u001b[0m\u001b[1m\u001b[4m\u001b[30m\u001b[43m \u001b[0m\u001b[1m\u001b[4m\u001b[30m\u001b[43mm\u001b[0m\u001b[1m\u001b[4m\u001b[30m\u001b[43ma\u001b[0m\u001b[1m\u001b[4m\u001b[30m\u001b[43mn\u001b[0m\u001b[1m\u001b[4m\u001b[30m\u001b[43mu\u001b[0m\u001b[1m\u001b[4m\u001b[30m\u001b[43ms\u001b[0m\u001b[1m\u001b[4m\u001b[30m\u001b[43mc\u001b[0m\u001b[1m\u001b[4m\u001b[30m\u001b[43mr\u001b[0m\u001b[1m\u001b[4m\u001b[30m\u001b[43mi\u001b[0m\u001b[1m\u001b[4m\u001b[30m\u001b[43mt\u001b[0m\u001b[1m\u001b[4m\u001b[30m\u001b[43mo\u001b[0m\u001b[1m\u001b[4m\u001b[30m\u001b[43m \u001b[0m\u001b[1m\u001b[4m\u001b[30m\u001b[43m𝔐\u001b[0m123\u001b[1m\u001b[4m\u001b[30m\u001b[43m \u001b[0m\u001b[1m\u001b[4m\u001b[30m\u001b[43mc\u001b[0m\u001b[1m\u001b[4m\u001b[30m\u001b[43mo\u001b[0m\u001b[1m\u001b[4m\u001b[30m\u001b[43mn\u001b[0m\u001b[1m\u001b[4m\u001b[30m\u001b[43mt\u001b[0m\u001b[1m\u001b[4m\u001b[30m\u001b[43mé\u001b[0m\u001b[1m\u001b[4m\u001b[30m\u001b[43mm\u001b[0m\u001b[1m\u001b[4m\u001b[30m\u001b[43m \u001b[0m\u001b[1m\u001b[4m\u001b[30m\u001b[43mv\u001b[0m\u001b[1m\u001b[4m\u001b[30m\u001b[43ma\u001b[0m\u001b[1m\u001b[4m\u001b[30m\u001b[43mr\u001b[0m\u001b[1m\u001b[4m\u001b[30m\u001b[43mi\u001b[0m\u001b[1m\u001b[4m\u001b[30m\u001b[43ma\u001b[0m\u001b[1m\u001b[4m\u001b[30m\u001b[43mç\u001b[0m\u001b[1m\u001b[4m\u001b[30m\u001b[43mõ\u001b[0m\u001b[1m\u001b[4m\u001b[30m\u001b[43me\u001b[0m\u001b[1m\u001b[4m\u001b[30m\u001b[43ms\u001b[0m\u001b[1m\u001b[4m\u001b[30m\u001b[43m!\u001b[0m\u001b[1m\u001b[4m\u001b[30m\u001b[43m \u001b[0m\u001b[1m\u001b[4m\u001b[30m\u001b[43m \u001b[0m\u001b[1m\u001b[4m\u001b[30m\u001b[43m\n",
      "\u001b[0m\u001b[1m\u001b[4m\u001b[30m\u001b[43mV\u001b[0m\u001b[1m\u001b[4m\u001b[30m\u001b[43me\u001b[0m\u001b[1m\u001b[4m\u001b[30m\u001b[43mr\u001b[0m\u001b[1m\u001b[4m\u001b[30m\u001b[43m \u001b[0m\u001b[1m\u001b[4m\u001b[30m\u001b[43mp\u001b[0m\u001b[1m\u001b[4m\u001b[30m\u001b[43má\u001b[0m\u001b[1m\u001b[4m\u001b[30m\u001b[43mg\u001b[0m\u001b[1m\u001b[4m\u001b[30m\u001b[43m.\u001b[0m\u001b[1m\u001b[4m\u001b[30m\u001b[43m \u001b[0m42\u001b[1m\u001b[4m\u001b[30m\u001b[43m,\u001b[0m\u001b[1m\u001b[4m\u001b[30m\u001b[43m \u001b[0m\u001b[1m\u001b[4m\u001b[30m\u001b[43ml\u001b[0m\u001b[1m\u001b[4m\u001b[30m\u001b[43mi\u001b[0m\u001b[1m\u001b[4m\u001b[30m\u001b[43mn\u001b[0m\u001b[1m\u001b[4m\u001b[30m\u001b[43mh\u001b[0m\u001b[1m\u001b[4m\u001b[30m\u001b[43ma\u001b[0m\u001b[1m\u001b[4m\u001b[30m\u001b[43m_\u001b[0m5\u001b[1m\u001b[4m\u001b[30m\u001b[43m.\u001b[0m\n"
     ]
    }
   ],
   "source": [
    "print(destacar_ocorrencias(texto, padrao, ignore_case=True))"
   ]
  },
  {
   "cell_type": "markdown",
   "metadata": {},
   "source": [
    "5. $\\text{Letras, dígitos ou underscore} \\rightarrow$ \\w"
   ]
  },
  {
   "cell_type": "code",
   "execution_count": 217,
   "metadata": {},
   "outputs": [
    {
     "name": "stdout",
     "output_type": "stream",
     "text": [
      "['O', 'm', 'a', 'n', 'u', 's', 'c', 'r', 'i', 't', 'o', '𝔐', '1', '2', '3', 'c', 'o', 'n', 't', 'é', 'm', 'v', 'a', 'r', 'i', 'a', 'ç', 'õ', 'e', 's', 'V', 'e', 'r', 'p', 'á', 'g', '4', '2', 'l', 'i', 'n', 'h', 'a', '_', '5']\n"
     ]
    }
   ],
   "source": [
    "padrao = r\"\\w\"  # \\w – Letras, dígitos ou underscore (útil para tokens ou palavras)\n",
    "print(re.findall(padrao, texto))"
   ]
  },
  {
   "cell_type": "code",
   "execution_count": 218,
   "metadata": {},
   "outputs": [
    {
     "name": "stdout",
     "output_type": "stream",
     "text": [
      "\u001b[1m\u001b[4m\u001b[30m\u001b[43mO\u001b[0m \u001b[1m\u001b[4m\u001b[30m\u001b[43mm\u001b[0m\u001b[1m\u001b[4m\u001b[30m\u001b[43ma\u001b[0m\u001b[1m\u001b[4m\u001b[30m\u001b[43mn\u001b[0m\u001b[1m\u001b[4m\u001b[30m\u001b[43mu\u001b[0m\u001b[1m\u001b[4m\u001b[30m\u001b[43ms\u001b[0m\u001b[1m\u001b[4m\u001b[30m\u001b[43mc\u001b[0m\u001b[1m\u001b[4m\u001b[30m\u001b[43mr\u001b[0m\u001b[1m\u001b[4m\u001b[30m\u001b[43mi\u001b[0m\u001b[1m\u001b[4m\u001b[30m\u001b[43mt\u001b[0m\u001b[1m\u001b[4m\u001b[30m\u001b[43mo\u001b[0m \u001b[1m\u001b[4m\u001b[30m\u001b[43m𝔐\u001b[0m\u001b[1m\u001b[4m\u001b[30m\u001b[43m1\u001b[0m\u001b[1m\u001b[4m\u001b[30m\u001b[43m2\u001b[0m\u001b[1m\u001b[4m\u001b[30m\u001b[43m3\u001b[0m \u001b[1m\u001b[4m\u001b[30m\u001b[43mc\u001b[0m\u001b[1m\u001b[4m\u001b[30m\u001b[43mo\u001b[0m\u001b[1m\u001b[4m\u001b[30m\u001b[43mn\u001b[0m\u001b[1m\u001b[4m\u001b[30m\u001b[43mt\u001b[0m\u001b[1m\u001b[4m\u001b[30m\u001b[43mé\u001b[0m\u001b[1m\u001b[4m\u001b[30m\u001b[43mm\u001b[0m \u001b[1m\u001b[4m\u001b[30m\u001b[43mv\u001b[0m\u001b[1m\u001b[4m\u001b[30m\u001b[43ma\u001b[0m\u001b[1m\u001b[4m\u001b[30m\u001b[43mr\u001b[0m\u001b[1m\u001b[4m\u001b[30m\u001b[43mi\u001b[0m\u001b[1m\u001b[4m\u001b[30m\u001b[43ma\u001b[0m\u001b[1m\u001b[4m\u001b[30m\u001b[43mç\u001b[0m\u001b[1m\u001b[4m\u001b[30m\u001b[43mõ\u001b[0m\u001b[1m\u001b[4m\u001b[30m\u001b[43me\u001b[0m\u001b[1m\u001b[4m\u001b[30m\u001b[43ms\u001b[0m!  \n",
      "\u001b[1m\u001b[4m\u001b[30m\u001b[43mV\u001b[0m\u001b[1m\u001b[4m\u001b[30m\u001b[43me\u001b[0m\u001b[1m\u001b[4m\u001b[30m\u001b[43mr\u001b[0m \u001b[1m\u001b[4m\u001b[30m\u001b[43mp\u001b[0m\u001b[1m\u001b[4m\u001b[30m\u001b[43má\u001b[0m\u001b[1m\u001b[4m\u001b[30m\u001b[43mg\u001b[0m. \u001b[1m\u001b[4m\u001b[30m\u001b[43m4\u001b[0m\u001b[1m\u001b[4m\u001b[30m\u001b[43m2\u001b[0m, \u001b[1m\u001b[4m\u001b[30m\u001b[43ml\u001b[0m\u001b[1m\u001b[4m\u001b[30m\u001b[43mi\u001b[0m\u001b[1m\u001b[4m\u001b[30m\u001b[43mn\u001b[0m\u001b[1m\u001b[4m\u001b[30m\u001b[43mh\u001b[0m\u001b[1m\u001b[4m\u001b[30m\u001b[43ma\u001b[0m\u001b[1m\u001b[4m\u001b[30m\u001b[43m_\u001b[0m\u001b[1m\u001b[4m\u001b[30m\u001b[43m5\u001b[0m.\n"
     ]
    }
   ],
   "source": [
    "print(destacar_ocorrencias(texto, padrao, ignore_case=True))"
   ]
  },
  {
   "cell_type": "markdown",
   "metadata": {},
   "source": [
    "6. $\\text{Tudo o que não é letra, número ou underscore} \\rightarrow$ \\W"
   ]
  },
  {
   "cell_type": "code",
   "execution_count": 219,
   "metadata": {},
   "outputs": [
    {
     "name": "stdout",
     "output_type": "stream",
     "text": [
      "[' ', ' ', ' ', ' ', '!', ' ', ' ', '\\n', ' ', '.', ' ', ',', ' ', '.']\n"
     ]
    }
   ],
   "source": [
    "padrao = r\"\\W\"  # \\w – Letras, dígitos ou underscore (útil para tokens ou palavras)\n",
    "print(re.findall(padrao, texto))"
   ]
  },
  {
   "cell_type": "code",
   "execution_count": 220,
   "metadata": {},
   "outputs": [
    {
     "name": "stdout",
     "output_type": "stream",
     "text": [
      "O\u001b[1m\u001b[4m\u001b[30m\u001b[43m \u001b[0mmanuscrito\u001b[1m\u001b[4m\u001b[30m\u001b[43m \u001b[0m𝔐123\u001b[1m\u001b[4m\u001b[30m\u001b[43m \u001b[0mcontém\u001b[1m\u001b[4m\u001b[30m\u001b[43m \u001b[0mvariações\u001b[1m\u001b[4m\u001b[30m\u001b[43m!\u001b[0m\u001b[1m\u001b[4m\u001b[30m\u001b[43m \u001b[0m\u001b[1m\u001b[4m\u001b[30m\u001b[43m \u001b[0m\u001b[1m\u001b[4m\u001b[30m\u001b[43m\n",
      "\u001b[0mVer\u001b[1m\u001b[4m\u001b[30m\u001b[43m \u001b[0mpág\u001b[1m\u001b[4m\u001b[30m\u001b[43m.\u001b[0m\u001b[1m\u001b[4m\u001b[30m\u001b[43m \u001b[0m42\u001b[1m\u001b[4m\u001b[30m\u001b[43m,\u001b[0m\u001b[1m\u001b[4m\u001b[30m\u001b[43m \u001b[0mlinha_5\u001b[1m\u001b[4m\u001b[30m\u001b[43m.\u001b[0m\n"
     ]
    }
   ],
   "source": [
    "print(destacar_ocorrencias(texto, padrao, ignore_case=True))"
   ]
  },
  {
   "cell_type": "markdown",
   "metadata": {},
   "source": [
    "7. $\\text{Espaços em branco} \\rightarrow$ \\s"
   ]
  },
  {
   "cell_type": "code",
   "execution_count": 221,
   "metadata": {},
   "outputs": [
    {
     "name": "stdout",
     "output_type": "stream",
     "text": [
      "[' ', ' ', ' ', ' ', ' ', ' ', '\\n', ' ', ' ', ' ']\n"
     ]
    }
   ],
   "source": [
    "padrao = r\"\\s\" # \\s – Espaços em branco (inclui tabulações e quebras de linha)\n",
    "print(re.findall(padrao, texto))"
   ]
  },
  {
   "cell_type": "code",
   "execution_count": 222,
   "metadata": {},
   "outputs": [
    {
     "name": "stdout",
     "output_type": "stream",
     "text": [
      "O\u001b[1m\u001b[4m\u001b[30m\u001b[43m \u001b[0mmanuscrito\u001b[1m\u001b[4m\u001b[30m\u001b[43m \u001b[0m𝔐123\u001b[1m\u001b[4m\u001b[30m\u001b[43m \u001b[0mcontém\u001b[1m\u001b[4m\u001b[30m\u001b[43m \u001b[0mvariações!\u001b[1m\u001b[4m\u001b[30m\u001b[43m \u001b[0m\u001b[1m\u001b[4m\u001b[30m\u001b[43m \u001b[0m\u001b[1m\u001b[4m\u001b[30m\u001b[43m\n",
      "\u001b[0mVer\u001b[1m\u001b[4m\u001b[30m\u001b[43m \u001b[0mpág.\u001b[1m\u001b[4m\u001b[30m\u001b[43m \u001b[0m42,\u001b[1m\u001b[4m\u001b[30m\u001b[43m \u001b[0mlinha_5.\n"
     ]
    }
   ],
   "source": [
    "print(destacar_ocorrencias(texto, padrao, ignore_case=True))"
   ]
  },
  {
   "cell_type": "markdown",
   "metadata": {},
   "source": [
    "7. $\\text{Caracteres que não são espaços} \\rightarrow$ \\S"
   ]
  },
  {
   "cell_type": "code",
   "execution_count": 223,
   "metadata": {},
   "outputs": [
    {
     "name": "stdout",
     "output_type": "stream",
     "text": [
      "['O', 'm', 'a', 'n', 'u', 's', 'c', 'r', 'i', 't', 'o', '𝔐', '1', '2', '3', 'c', 'o', 'n', 't', 'é', 'm', 'v', 'a', 'r', 'i', 'a', 'ç', 'õ', 'e', 's', '!', 'V', 'e', 'r', 'p', 'á', 'g', '.', '4', '2', ',', 'l', 'i', 'n', 'h', 'a', '_', '5', '.']\n"
     ]
    }
   ],
   "source": [
    "padrao = r\"\\S\" # \\S – Caracteres que **não são** espaços\n",
    "print(re.findall(padrao, texto))"
   ]
  },
  {
   "cell_type": "code",
   "execution_count": 224,
   "metadata": {},
   "outputs": [
    {
     "name": "stdout",
     "output_type": "stream",
     "text": [
      "\u001b[1m\u001b[4m\u001b[30m\u001b[43mO\u001b[0m \u001b[1m\u001b[4m\u001b[30m\u001b[43mm\u001b[0m\u001b[1m\u001b[4m\u001b[30m\u001b[43ma\u001b[0m\u001b[1m\u001b[4m\u001b[30m\u001b[43mn\u001b[0m\u001b[1m\u001b[4m\u001b[30m\u001b[43mu\u001b[0m\u001b[1m\u001b[4m\u001b[30m\u001b[43ms\u001b[0m\u001b[1m\u001b[4m\u001b[30m\u001b[43mc\u001b[0m\u001b[1m\u001b[4m\u001b[30m\u001b[43mr\u001b[0m\u001b[1m\u001b[4m\u001b[30m\u001b[43mi\u001b[0m\u001b[1m\u001b[4m\u001b[30m\u001b[43mt\u001b[0m\u001b[1m\u001b[4m\u001b[30m\u001b[43mo\u001b[0m \u001b[1m\u001b[4m\u001b[30m\u001b[43m𝔐\u001b[0m\u001b[1m\u001b[4m\u001b[30m\u001b[43m1\u001b[0m\u001b[1m\u001b[4m\u001b[30m\u001b[43m2\u001b[0m\u001b[1m\u001b[4m\u001b[30m\u001b[43m3\u001b[0m \u001b[1m\u001b[4m\u001b[30m\u001b[43mc\u001b[0m\u001b[1m\u001b[4m\u001b[30m\u001b[43mo\u001b[0m\u001b[1m\u001b[4m\u001b[30m\u001b[43mn\u001b[0m\u001b[1m\u001b[4m\u001b[30m\u001b[43mt\u001b[0m\u001b[1m\u001b[4m\u001b[30m\u001b[43mé\u001b[0m\u001b[1m\u001b[4m\u001b[30m\u001b[43mm\u001b[0m \u001b[1m\u001b[4m\u001b[30m\u001b[43mv\u001b[0m\u001b[1m\u001b[4m\u001b[30m\u001b[43ma\u001b[0m\u001b[1m\u001b[4m\u001b[30m\u001b[43mr\u001b[0m\u001b[1m\u001b[4m\u001b[30m\u001b[43mi\u001b[0m\u001b[1m\u001b[4m\u001b[30m\u001b[43ma\u001b[0m\u001b[1m\u001b[4m\u001b[30m\u001b[43mç\u001b[0m\u001b[1m\u001b[4m\u001b[30m\u001b[43mõ\u001b[0m\u001b[1m\u001b[4m\u001b[30m\u001b[43me\u001b[0m\u001b[1m\u001b[4m\u001b[30m\u001b[43ms\u001b[0m\u001b[1m\u001b[4m\u001b[30m\u001b[43m!\u001b[0m  \n",
      "\u001b[1m\u001b[4m\u001b[30m\u001b[43mV\u001b[0m\u001b[1m\u001b[4m\u001b[30m\u001b[43me\u001b[0m\u001b[1m\u001b[4m\u001b[30m\u001b[43mr\u001b[0m \u001b[1m\u001b[4m\u001b[30m\u001b[43mp\u001b[0m\u001b[1m\u001b[4m\u001b[30m\u001b[43má\u001b[0m\u001b[1m\u001b[4m\u001b[30m\u001b[43mg\u001b[0m\u001b[1m\u001b[4m\u001b[30m\u001b[43m.\u001b[0m \u001b[1m\u001b[4m\u001b[30m\u001b[43m4\u001b[0m\u001b[1m\u001b[4m\u001b[30m\u001b[43m2\u001b[0m\u001b[1m\u001b[4m\u001b[30m\u001b[43m,\u001b[0m \u001b[1m\u001b[4m\u001b[30m\u001b[43ml\u001b[0m\u001b[1m\u001b[4m\u001b[30m\u001b[43mi\u001b[0m\u001b[1m\u001b[4m\u001b[30m\u001b[43mn\u001b[0m\u001b[1m\u001b[4m\u001b[30m\u001b[43mh\u001b[0m\u001b[1m\u001b[4m\u001b[30m\u001b[43ma\u001b[0m\u001b[1m\u001b[4m\u001b[30m\u001b[43m_\u001b[0m\u001b[1m\u001b[4m\u001b[30m\u001b[43m5\u001b[0m\u001b[1m\u001b[4m\u001b[30m\u001b[43m.\u001b[0m\n"
     ]
    }
   ],
   "source": [
    "print(destacar_ocorrencias(texto, padrao, ignore_case=True))"
   ]
  },
  {
   "cell_type": "markdown",
   "metadata": {},
   "source": [
    "<a class='anchor' id='4.4.'></a>\n",
    "\n",
    "## **4.4. Expressões Regulares: Âncoras e Grupos (Parte 4)**\n",
    "\n",
    "| Símbolo   | Significado                         | Exemplo                  |\n",
    "|-----------|-----------------------------------|--------------------------|\n",
    "| \\b        | Limite de palavra (word boundary) | `\\bcat\\b` (palavra \"cat\")|\n",
    "| ( )       | Agrupamento                       | `(ab)+` (uma ou mais \"ab\")|\n",
    "| \\|        | OU (alternância)                  | `cat|dog` (cat ou dog)   |\n",
    "| ?=        | Lookahead positivo                | `a(?=b)` (a seguido de b)|\n",
    "| ?!        | Lookahead negativo                | `a(?!b)` (a não seguido de b) |"
   ]
  },
  {
   "cell_type": "markdown",
   "metadata": {},
   "source": [
    "1. $\\text{Limite de palavra} \\rightarrow$ \\b"
   ]
  },
  {
   "cell_type": "code",
   "execution_count": 225,
   "metadata": {},
   "outputs": [
    {
     "name": "stdout",
     "output_type": "stream",
     "text": [
      "['gato']\n"
     ]
    }
   ],
   "source": [
    "texto = \"A palavra gato está aqui, mas 'gatão' não deve contar.\"\n",
    "padrao = r\"\\bgato\\b\"  # \\b – Limites de palavra (para encontrar \"gato\" como palavra inteira)\n",
    "\n",
    "print(re.findall(padrao, texto))"
   ]
  },
  {
   "cell_type": "code",
   "execution_count": 226,
   "metadata": {},
   "outputs": [
    {
     "name": "stdout",
     "output_type": "stream",
     "text": [
      "A palavra \u001b[1m\u001b[4m\u001b[30m\u001b[43mgato\u001b[0m está aqui, mas 'gatão' não deve contar.\n"
     ]
    }
   ],
   "source": [
    "print(destacar_ocorrencias(texto, padrao, ignore_case=True))"
   ]
  },
  {
   "cell_type": "markdown",
   "metadata": {},
   "source": [
    "2. $\\text{Agrupamento} \\rightarrow$ $()$"
   ]
  },
  {
   "cell_type": "code",
   "execution_count": 227,
   "metadata": {},
   "outputs": [
    {
     "name": "stdout",
     "output_type": "stream",
     "text": [
      "['ab', 'ab', 'ab']\n"
     ]
    }
   ],
   "source": [
    "texto = \"ababab abc abababab\"\n",
    "padrao = r\"(ab)+\"  # ( ) – Agrupamento, + – Um ou mais\n",
    "\n",
    "print(re.findall(padrao, texto))"
   ]
  },
  {
   "cell_type": "code",
   "execution_count": 228,
   "metadata": {},
   "outputs": [
    {
     "name": "stdout",
     "output_type": "stream",
     "text": [
      "\u001b[1m\u001b[4m\u001b[30m\u001b[43mababab\u001b[0m \u001b[1m\u001b[4m\u001b[30m\u001b[43mab\u001b[0mc \u001b[1m\u001b[4m\u001b[30m\u001b[43mabababab\u001b[0m\n"
     ]
    }
   ],
   "source": [
    "print(destacar_ocorrencias(texto, padrao, ignore_case=True))"
   ]
  },
  {
   "cell_type": "markdown",
   "metadata": {},
   "source": [
    "Repara que existe diferença entre ``[]`` e ``()``."
   ]
  },
  {
   "cell_type": "code",
   "execution_count": 229,
   "metadata": {},
   "outputs": [
    {
     "name": "stdout",
     "output_type": "stream",
     "text": [
      "['ababab', 'ab', 'abababab']\n"
     ]
    }
   ],
   "source": [
    "padrao = r\"[ab]+\"  # [ ] – Qualquer letra 'a' ou 'b', + – Um ou mais\n",
    "print(re.findall(padrao, texto))"
   ]
  },
  {
   "cell_type": "code",
   "execution_count": 230,
   "metadata": {},
   "outputs": [
    {
     "name": "stdout",
     "output_type": "stream",
     "text": [
      "\u001b[1m\u001b[4m\u001b[30m\u001b[43mababab\u001b[0m \u001b[1m\u001b[4m\u001b[30m\u001b[43mab\u001b[0mc \u001b[1m\u001b[4m\u001b[30m\u001b[43mabababab\u001b[0m\n"
     ]
    }
   ],
   "source": [
    "print(destacar_ocorrencias(texto, padrao, ignore_case=True))"
   ]
  },
  {
   "cell_type": "markdown",
   "metadata": {},
   "source": [
    "3. $\\text{OU (alternância)} \\rightarrow$ $|$"
   ]
  },
  {
   "cell_type": "code",
   "execution_count": 231,
   "metadata": {},
   "outputs": [
    {
     "name": "stdout",
     "output_type": "stream",
     "text": [
      "['gato', 'pato']\n"
     ]
    }
   ],
   "source": [
    "texto = \"gato, cão, cavalo, pato\"\n",
    "padrao = r\"gato|pato\"  # | – Ou\n",
    "\n",
    "print(re.findall(padrao, texto))"
   ]
  },
  {
   "cell_type": "code",
   "execution_count": 232,
   "metadata": {},
   "outputs": [
    {
     "name": "stdout",
     "output_type": "stream",
     "text": [
      "\u001b[1m\u001b[4m\u001b[30m\u001b[43mgato\u001b[0m, cão, cavalo, \u001b[1m\u001b[4m\u001b[30m\u001b[43mpato\u001b[0m\n"
     ]
    }
   ],
   "source": [
    "print(destacar_ocorrencias(texto, padrao, ignore_case=True))"
   ]
  },
  {
   "cell_type": "markdown",
   "metadata": {},
   "source": [
    "4. $\\text{Lookahead Positivo} \\rightarrow$ $(?=...)$"
   ]
  },
  {
   "cell_type": "code",
   "execution_count": 233,
   "metadata": {},
   "outputs": [
    {
     "name": "stdout",
     "output_type": "stream",
     "text": [
      "['Lingüística', 'Gramática']\n"
     ]
    }
   ],
   "source": [
    "texto = \"Lingüística é fascinante. Gramática é importante. Texto relevante.\"\n",
    "\n",
    "# Encontra palavras que são seguidas de \"é\"\n",
    "padrao = r\"\\w+(?=\\sé)\"\n",
    "\n",
    "print(re.findall(padrao, texto))  # ['Lingüística', 'Gramática']\n"
   ]
  },
  {
   "cell_type": "code",
   "execution_count": 234,
   "metadata": {},
   "outputs": [
    {
     "name": "stdout",
     "output_type": "stream",
     "text": [
      "\u001b[1m\u001b[4m\u001b[30m\u001b[43mLingüística\u001b[0m é fascinante. \u001b[1m\u001b[4m\u001b[30m\u001b[43mGramática\u001b[0m é importante. Texto relevante.\n"
     ]
    }
   ],
   "source": [
    "print(destacar_ocorrencias(texto, padrao, ignore_case=True))"
   ]
  },
  {
   "cell_type": "markdown",
   "metadata": {},
   "source": [
    "5. $\\text{Lookahead Negativo} \\rightarrow$ $(?!...)$"
   ]
  },
  {
   "cell_type": "code",
   "execution_count": 235,
   "metadata": {},
   "outputs": [
    {
     "name": "stdout",
     "output_type": "stream",
     "text": [
      "['é', 'fascinante', 'é', 'importante', 'Texto', 'relevante']\n"
     ]
    }
   ],
   "source": [
    "texto = \"Lingüística é fascinante. Gramática é importante. Texto relevante.\"\n",
    "\n",
    "# Palavras que não são seguidas de \"é\"\n",
    "padrao = r\"\\b\\w+(?!\\sé)\\b\"\n",
    "\n",
    "print(re.findall(padrao, texto, flags=re.UNICODE))"
   ]
  },
  {
   "cell_type": "code",
   "execution_count": 236,
   "metadata": {},
   "outputs": [
    {
     "name": "stdout",
     "output_type": "stream",
     "text": [
      "Lingüística \u001b[1m\u001b[4m\u001b[30m\u001b[43mé\u001b[0m \u001b[1m\u001b[4m\u001b[30m\u001b[43mfascinante\u001b[0m. Gramática \u001b[1m\u001b[4m\u001b[30m\u001b[43mé\u001b[0m \u001b[1m\u001b[4m\u001b[30m\u001b[43mimportante\u001b[0m. \u001b[1m\u001b[4m\u001b[30m\u001b[43mTexto\u001b[0m \u001b[1m\u001b[4m\u001b[30m\u001b[43mrelevante\u001b[0m.\n"
     ]
    }
   ],
   "source": [
    "print(destacar_ocorrencias(texto, padrao, ignore_case=True))"
   ]
  },
  {
   "cell_type": "markdown",
   "metadata": {},
   "source": [
    "<a class='anchor' id='4.5.'></a>\n",
    "\n",
    "## **4.5. Mini Exercicios**\n",
    "- Todos os exercícios pressupõem o uso de apenas expressões regulares."
   ]
  },
  {
   "cell_type": "code",
   "execution_count": 237,
   "metadata": {},
   "outputs": [],
   "source": [
    "import re"
   ]
  },
  {
   "cell_type": "markdown",
   "metadata": {},
   "source": [
    "**Exercicio 1. Palavras com prefixo específico**\n",
    "\n",
    "> **Objetivo:** Identificar todas as palavras que começam com o prefixo `des` (como \"desligar\", \"descobrir\", \"desporto\")."
   ]
  },
  {
   "cell_type": "code",
   "execution_count": 238,
   "metadata": {},
   "outputs": [],
   "source": [
    "texto = \"Desligar o computador é diferente de desligar-se da realidade. Descobrir novas ideias é importante.\"\n",
    "# Solução: ['Desligar', 'desligar-se', 'Descobrir']"
   ]
  },
  {
   "cell_type": "markdown",
   "metadata": {},
   "source": [
    "**Exercicio 2. Palavras com sufixo específico**\n",
    "\n",
    "> **Objetivo:** Encontrar todas as palavras que terminam com `ção` (como \"informação\", \"comunicação\")."
   ]
  },
  {
   "cell_type": "code",
   "execution_count": 239,
   "metadata": {},
   "outputs": [],
   "source": [
    "texto = \"A comunicação e a informação são pilares da educação e inovação.\"\n",
    "# Solução: ['comunicação', 'informação', 'educação', 'inovação']"
   ]
  },
  {
   "cell_type": "markdown",
   "metadata": {},
   "source": [
    "**Exercicio 3. Palavras com letras duplicadas**\n",
    "\n",
    "> **Objetivo:** Identificar palavras que tenham **letras consecutivas repetidas** (ex: \"correr\", \"occipital\", \"app\")."
   ]
  },
  {
   "cell_type": "code",
   "execution_count": 240,
   "metadata": {},
   "outputs": [],
   "source": [
    "texto = \"A occipital e a parassimpática são palavras com letras repetidas como correr ou app.\"\n",
    "# Solução: ['occipital', 'parassimpática', 'correr', 'app']"
   ]
  },
  {
   "cell_type": "markdown",
   "metadata": {},
   "source": [
    "**Exercicio 4. Números de telefone nacionais simples**\n",
    "\n",
    "> **Objetivo:** Encontrar números de telefone com o formato `9xxxxxxxx`."
   ]
  },
  {
   "cell_type": "code",
   "execution_count": 241,
   "metadata": {},
   "outputs": [],
   "source": [
    "texto = \"Podes contactar-me através do 913456789 ou 967123456.\"\n",
    "# Solução: ['913456789', '967123456']"
   ]
  },
  {
   "cell_type": "markdown",
   "metadata": {},
   "source": [
    "**Exercicio 5. E-mails válidos num texto**\n",
    "\n",
    "> **Objetivo:** Extrair e-mails de um texto."
   ]
  },
  {
   "cell_type": "code",
   "execution_count": 242,
   "metadata": {},
   "outputs": [],
   "source": [
    "texto = \"Os contactos são: maria.silva@gmail.com, joao23@hotmail.com e o errado joao@@gmail..com\"\n",
    "# Solução: ['maria.silva@gmail.com', 'joao23@hotmail.com']"
   ]
  },
  {
   "cell_type": "markdown",
   "metadata": {},
   "source": [
    "**Exercicio 6. Frases que terminam com ponto de interrogação**\n",
    "\n",
    "> **Objetivo:** Identificar perguntas num texto."
   ]
  },
  {
   "cell_type": "code",
   "execution_count": 243,
   "metadata": {},
   "outputs": [],
   "source": [
    "texto = \"Como te chamas? Eu sou o João. Queres ir ao cinema? Talvez mais tarde.\"\n",
    "# Solução: ['Como te chamas?', 'Queres ir ao cinema?']"
   ]
  },
  {
   "cell_type": "markdown",
   "metadata": {},
   "source": [
    "**Exercicio 7. Palavras com exatamente 5 letras**\n",
    "\n",
    "> **Objetivo:** Extrair palavras com exatamente 5 letras."
   ]
  },
  {
   "cell_type": "code",
   "execution_count": 244,
   "metadata": {},
   "outputs": [],
   "source": [
    "texto = \"Hoje vamos falar sobre regex, texto, dados, limpar e python.\"\n",
    "# Solução: ['regex', 'texto', 'dados', 'limpar']~"
   ]
  },
  {
   "cell_type": "markdown",
   "metadata": {},
   "source": [
    "**Exercicio 8. Detetar palavras com acentos (diacríticos)**\n",
    "\n",
    "> **Objetivo:** Encontrar palavras que tenham caracteres acentuados (como \"é\", \"ç\", \"õ\", etc.)\n",
    "\n",
    "> 💡 Dica: usa o intervalo `[À-ÿ]` para incluir letras acentuadas da tabela Unicode padrão."
   ]
  },
  {
   "cell_type": "code",
   "execution_count": 245,
   "metadata": {},
   "outputs": [],
   "source": [
    "texto = \"É crucial compreender a lógica da computação, programação e análise.\"\n",
    "# Solução: ['É', 'computação', 'programação', 'análise']"
   ]
  },
  {
   "cell_type": "markdown",
   "metadata": {},
   "source": [
    "**Exercicio 9. Palavras que contenham dois ou mais hífens**\n",
    "\n",
    "> **Objetivo:** Detetar palavras como `auto-estima-baixa`, `não-linear-dinâmico`."
   ]
  },
  {
   "cell_type": "code",
   "execution_count": 246,
   "metadata": {},
   "outputs": [],
   "source": [
    "texto = \"Este é um teste com auto-estima-baixa, não-linear-dinâmico e também semi-consciente.\"\n",
    "# Solução: ['auto-estima-baixa', 'não-linear-dinâmico']"
   ]
  },
  {
   "cell_type": "markdown",
   "metadata": {},
   "source": [
    "**Exercicio 10. Palavras que terminem com uma letra específica (ex: 'r')**\n",
    "\n",
    "> **Objetivo:** Encontrar verbos no infinitivo (ex: \"comer\", \"sair\", \"estudar\")"
   ]
  },
  {
   "cell_type": "code",
   "execution_count": 247,
   "metadata": {},
   "outputs": [],
   "source": [
    "texto = \"Comer, beber, estudar e dormir são essenciais.\"\n",
    "# Solução: ['Comer', 'beber', 'estudar', 'dormir']"
   ]
  },
  {
   "cell_type": "markdown",
   "metadata": {},
   "source": [
    "<a class='anchor' id='5.'></a>\n",
    "\n",
    "# **5. Exercícios Finais**"
   ]
  },
  {
   "cell_type": "markdown",
   "metadata": {},
   "source": [
    "## **Exercicio 1**\n",
    "Nesta secção, vamos aplicar os conhecimentos adquiridos — desde estruturas de controlo, expressões regulares, manipulação de strings e listas — a um excerto real de um documento jurídico medieval: a **Notícia de Torto**.  \n",
    "O texto completo está disponível em: [Notícia de Torto — Wikisource](https://gl.wikisource.org/wiki/Not%C3%ADcia_de_torto)\n",
    "\n",
    "Utilizaremos um **excerto selecionado** desse documento, mantendo a ortografia arcaica, o que representa um desafio realista e típico no contexto das Humanidades Digitais."
   ]
  },
  {
   "cell_type": "code",
   "execution_count": 248,
   "metadata": {},
   "outputs": [],
   "source": [
    "texto = \"\"\"\n",
    "De noticia de torto que fecerũ a Laurẽcius Fernãdiz por plazo qve fece Gõçauo\n",
    "Ramiriz antre suos filios e Lourẽzo Ferrnãdiz quale podedes saber: e oue auer, de erdade\n",
    "e dauer, tãto quome uno de suos filios, daquãto podesẽ auer de bona de seuo pater; e fiolios seu\n",
    "pater e sua mater. E depois fecerũ plazo nouo e cõuẽ uos a saber quale; in ille seem\n",
    "taes firmamentos quales podedes saber Ramiro Gõcaluiz e Gõcaluo Gõcaluiz e\n",
    "Eluira Gõcaluiz forũ fiadores de sua irmana...\n",
    "\"\"\""
   ]
  },
  {
   "cell_type": "markdown",
   "metadata": {},
   "source": [
    "### **A) Top 10 palavras mais frequentes**"
   ]
  },
  {
   "cell_type": "code",
   "execution_count": null,
   "metadata": {},
   "outputs": [],
   "source": []
  },
  {
   "cell_type": "markdown",
   "metadata": {},
   "source": [
    "### **B) Top 10 palavras menos frequentes**"
   ]
  },
  {
   "cell_type": "code",
   "execution_count": null,
   "metadata": {},
   "outputs": [],
   "source": []
  },
  {
   "cell_type": "markdown",
   "metadata": {},
   "source": [
    "### **C) Identificação de nomes próprios**\n",
    "- Usar regex para extrair nomes com base em padrões como:\n",
    "  - Início com maiúscula.\n",
    "  - Terminações como `-iz`, `-diz`, `-z`."
   ]
  },
  {
   "cell_type": "code",
   "execution_count": null,
   "metadata": {},
   "outputs": [],
   "source": []
  },
  {
   "cell_type": "markdown",
   "metadata": {},
   "source": [
    "### **D) Mapeamento de grafias arcaicas para modernas**\n",
    "- Criar uma função em Python que receba uma palavra e aplique um conjunto de transformações ortográficas para a converter numa forma mais moderna.\n",
    "\n",
    "| Grafia arcaica          | Forma moderna                | Exemplo                                          |\n",
    "|------------------------|-----------------------------|-------------------------------------------------|\n",
    "| `qve`                  | `que`                       | `qve` → `que`                                   |\n",
    "| `ẽ`                    | `em` ou nasalização (`e`)   | `ẽste` → `este`, `ẽn` → `em`                    |\n",
    "| `ũ`                    | `um` / `am` (plural verbal) | `fecerũ` → `fizeram`, `derũ` → `deram`          |\n",
    "| `õ`                    | `ão` / `om`                 | `irmãõ` → `irmão`, `nõ` → `não`                 |\n",
    "| `ph`                   | `f`                         | `phazer` → `fazer`, `philosophia` → `filosofia` |\n",
    "| `ç`                    | `ç`, `ss`, ou `s`           | `paço` → `paço`, `ça` → `sa`                    |\n",
    "| `vv`                   | `v`                         | `vvindo` → `vindo`                              |\n",
    "| `ll`                   | `l`                         | `tello` → `telo`, `caballo` → `cavalo`         |\n",
    "| `i` antes de vogal     | `j`                         | `iuro` → `juro`, `iustiça` → `justiça`          |\n",
    "| `u` antes de vogal     | `v`                         | `uera` → `vera`, `uenho` → `venho`              |\n",
    "| `ss` ou `s` entre vogais | `s` ou `z`                | `casa` → `casa`, `coze` → `coze`                |\n",
    "| `e` final mudo         | omitido ou mantido           | `grand` → `grande`, `bond` → `bonde`             |\n",
    "| `ae`, `oe`             | `é`, `ó` (em alguns casos)  | `taes` → `tés`, `poente` → `ponte`               |\n",
    "| `-iz`, `-diz` (patronímicos) | `-es` ou `-ves`       | `Fernãdiz` → `Fernandes`, `Gonçaldiz` → `Gonçalves` |\n",
    "\n",
    "> ⚠️ Algumas transformações são **contextuais** e não têm correspondência direta (e.g., `fecerũ` → `fizeram`)."
   ]
  },
  {
   "cell_type": "code",
   "execution_count": null,
   "metadata": {},
   "outputs": [],
   "source": []
  }
 ],
 "metadata": {
  "kernelspec": {
   "display_name": ".venv",
   "language": "python",
   "name": "python3"
  },
  "language_info": {
   "codemirror_mode": {
    "name": "ipython",
    "version": 3
   },
   "file_extension": ".py",
   "mimetype": "text/x-python",
   "name": "python",
   "nbconvert_exporter": "python",
   "pygments_lexer": "ipython3",
   "version": "3.12.7"
  }
 },
 "nbformat": 4,
 "nbformat_minor": 4
}
