{
 "cells": [
  {
   "cell_type": "markdown",
   "metadata": {},
   "source": [
    "<div style=\"display: flex; flex-direction: column; align-items: center; text-align: center; font-family: 'Avenir Next LT Pro', sans-serif; padding: 50px; background-color: #f4f4f4; border-radius: 12px; box-shadow: 0px 4px 12px rgba(0, 0, 0, 0.1);\">\n",
    "    <h1 style=\"font-size: 50px; font-weight: bold; color: #222; margin-bottom: 10px;\">Filologia Digital - Módulo V</h1>\n",
    "    <h3 style=\"font-size: 30px; font-weight: bold; color: #555; max-width: 80%; line-height: 1.3;\">\n",
    "        Para além da edição: <span style=\"font-weight: normal; color: #666;\">o digital na investigação linguística</span>\n",
    "    </h3>\n",
    "    <h4 style=\"font-size: 26px; font-weight: bold; color: #333; background-color: #e0e0e0; padding: 10px 20px; border-radius: 8px; margin-top: 25px;\">Sessão 2 - Estruturas Básicas em Python e Loops</h4>\n",
    "    <img src=\"https://filologiadigitalcl.wordpress.com/wp-content/uploads/2024/11/figure05.png?w=1024\" \n",
    "         style=\"width: 80%; max-width: 600px; margin-top: 30px; border-radius: 10px; box-shadow: 0px 4px 12px rgba(0, 0, 0, 0.15);\">\n",
    "</div>"
   ]
  },
  {
   "cell_type": "markdown",
   "metadata": {},
   "source": [
    "<!DOCTYPE html>\n",
    "<html lang=\"en\">\n",
    "<head>\n",
    "    <meta charset=\"UTF-8\">\n",
    "    <meta name=\"viewport\" content=\"width=device-width, initial-scale=1.0\">\n",
    "    <style>\n",
    "        body {\n",
    "            font-family: Arial, sans-serif;\n",
    "            background-color: #f4f4f4;\n",
    "            color: #333;\n",
    "            margin: 0;\n",
    "            padding: 20px;\n",
    "            line-height: 1.6;\n",
    "        }\n",
    "        ol {\n",
    "            counter-reset: section;\n",
    "            list-style: none;\n",
    "            padding-left: 0;\n",
    "        }\n",
    "        /* First-level list */\n",
    "        ol > li {\n",
    "            counter-increment: section;\n",
    "            margin-bottom: 10px;\n",
    "            padding-left: 0;\n",
    "        }\n",
    "        ol > li::before {\n",
    "            content: counters(section, \".\") \" \";\n",
    "            font-weight: bold;\n",
    "        }\n",
    "        /* Second-level list */\n",
    "        ol ol {\n",
    "            counter-reset: subsection;\n",
    "            padding-left: 20px;\n",
    "            margin-top: 5px;\n",
    "        }\n",
    "        ol ol > li {\n",
    "            counter-increment: subsection;\n",
    "            margin-bottom: 5px;\n",
    "            padding-left: 10px;\n",
    "        }\n",
    "        ol ol > li::before {\n",
    "            content: counters(section, \".\") \".\" counter(subsection) \" \";\n",
    "            font-weight: bold;\n",
    "        }\n",
    "        /* Third-level list */\n",
    "        ol ol ol {\n",
    "            counter-reset: subsubsection;\n",
    "            padding-left: 40px;\n",
    "            margin-top: 5px;\n",
    "        }\n",
    "        ol ol ol > li {\n",
    "            counter-increment: subsubsection;\n",
    "            margin-bottom: 5px;\n",
    "            padding-left: 10px;\n",
    "            font-size: 0.9em; /* Make font size smaller */\n",
    "            font-weight: normal; /* Remove bold styling */\n",
    "        }\n",
    "        ol ol ol > li::before {\n",
    "            content: counters(section, \".\") \".\" counter(subsection) \".\" counter(subsubsection) \" \";\n",
    "            font-weight: bold;\n",
    "        }\n",
    "        a {\n",
    "            text-decoration: none;\n",
    "            color: #007BFF;\n",
    "            font-weight: bold;\n",
    "        }\n",
    "        a:hover {\n",
    "            color: #0056b3;\n",
    "        }\n",
    "        footer {\n",
    "            margin-top: 50px;\n",
    "        }\n",
    "    </style>\n",
    "</head>\n",
    "<body>\n",
    "\n",
    "<b><h2>Índice</h2></b>\n",
    "<ol start=\"0\">\n",
    "    <li><a href=\"#1.\">Aquecimento</a></li>\n",
    "        <ol>\n",
    "            <li><a href=\"#tp1\">Exercício 1</a></li>\n",
    "            <li><a href=\"#tp2\">Exercício 2</a></li>\n",
    "        </ol>\n",
    "    <li><a href=\"#2.\">Estruturas e Tipos de Dados</a></li>\n",
    "        <ol>\n",
    "            <li><a href=\"#2.1.\">Listas</a></li>\n",
    "            <li><a href=\"#2.2.\">Tuplos</a></li>\n",
    "            <li><a href=\"#2.3.\">Sets</a></li>\n",
    "            <li><a href=\"#2.4.\">Dicionários</a></li>\n",
    "        </ol>\n",
    "    <li><a href=\"#3.\">Loops</a></li>\n",
    "        <ol>\n",
    "            <li><a href=\"#3.1.\">While</a></li>\n",
    "            <li><a href=\"#3.2.\">For</a></li>\n",
    "        </ol>\n",
    "</ol>\n",
    "\n",
    "<footer></footer>\n",
    "\n",
    "</body>\n",
    "</html>"
   ]
  },
  {
   "cell_type": "markdown",
   "metadata": {
    "vscode": {
     "languageId": "plaintext"
    }
   },
   "source": [
    "<a class='anchor' id='1.'></a>\n",
    "# **1. Aquecimento** "
   ]
  },
  {
   "cell_type": "markdown",
   "metadata": {
    "vscode": {
     "languageId": "plaintext"
    }
   },
   "source": [
    "## <a id=\"tp1\"></a>✨ **Exercício 1**: Criar função para devolver a maior palavra\n",
    "Cria uma função chamada `maior_palavra` que recebe duas palavras (strings) como argumentos.  \n",
    "A função deve devolver a palavra que tem mais caracteres.  \n",
    "\n",
    "Se as duas palavras tiverem o mesmo comprimento, devolve a primeira palavra.\n",
    "\n",
    "```python\n",
    "        print(maior_palavra(\"elefante\", \"gato\"))    # Saída: elefante\n",
    "        print(maior_palavra(\"sol\", \"lua\"))          # Saída: sol\n",
    "```"
   ]
  },
  {
   "cell_type": "code",
   "execution_count": null,
   "metadata": {},
   "outputs": [],
   "source": []
  },
  {
   "cell_type": "markdown",
   "metadata": {},
   "source": [
    "## <a id=\"tp2\"></a>✨ **Exercício 2**: Extrair parte da palavra até uma letra específica usando slicing\n",
    "Cria uma função chamada `palavra_ate_letra` que recebe dois argumentos:  \n",
    "- Uma **palavra** (string)  \n",
    "- Uma **letra** (carácter)  \n",
    "\n",
    "A função deve devolver a parte da palavra desde o início até à primeira ocorrência dessa letra (incluindo a letra).  \n",
    "\n",
    "Se a letra não existir na palavra, deve devolver a palavra inteira.\n",
    "Exemplo:\n",
    "\n",
    "```python\n",
    "        print(palavra_ate_letra(\"epistemologia\", \"o\"))  # Saída: 'epistemo'\n",
    "        print(palavra_ate_letra(\"programação\", \"m\"))   # Saída: 'program'\n",
    "        print(palavra_ate_letra(\"ciência\", \"z\"))       # Saída: 'ciência' (letra não existe)\n",
    "```"
   ]
  },
  {
   "cell_type": "code",
   "execution_count": null,
   "metadata": {},
   "outputs": [],
   "source": []
  },
  {
   "cell_type": "markdown",
   "metadata": {},
   "source": [
    "<a class='anchor' id='2.'></a>\n",
    "\n",
    "# **2. Estruturas e Tipos de Dados** "
   ]
  },
  {
   "cell_type": "markdown",
   "metadata": {
    "vscode": {
     "languageId": "plaintext"
    }
   },
   "source": [
    "Em Python, existem várias estruturas para guardar e organizar informação. As principais são:\n",
    "\n",
    "| Tipo        | Exemplo                     | Características                        |\n",
    "|-------------|-----------------------------|----------------------------------------|\n",
    "| `list`      | `[1, 2, 3]`                 | **Mutável**, permite duplicados  |\n",
    "| `tuple`     | `(1, 2, 3)`                 | **Imutável**, permite duplicados |\n",
    "| `set`       | `{1, 2, 3}`                 | **Mutável**, sem duplicados, ordenado       |\n",
    "| `dict`      | `{\"chave\": \"valor\"}`       | Coleção de pares chave-valor           |"
   ]
  },
  {
   "cell_type": "markdown",
   "metadata": {},
   "source": [
    "<a class='anchor' id='2.1.'></a>\n",
    "\n",
    "## **2.1. Listas** "
   ]
  },
  {
   "cell_type": "markdown",
   "metadata": {},
   "source": [
    "Para criar uma lista, utilizamos colchetes `[]` e colocamos os elementos separados por vírgulas:"
   ]
  },
  {
   "cell_type": "code",
   "execution_count": 12,
   "metadata": {},
   "outputs": [],
   "source": [
    "# Lista de números\n",
    "numeros = [1, 2, 3, 4, 5]\n",
    "\n",
    "# Lista de strings\n",
    "frutas = [\"maçã\", \"banana\", \"laranja\"]\n",
    "\n",
    "# Lista mista\n",
    "mista = [1, \"texto\", 3.14, True]"
   ]
  },
  {
   "cell_type": "markdown",
   "metadata": {},
   "source": [
    "**🔍 Cada elemento tem um índice, começando no 0. Para aceder a um item:**"
   ]
  },
  {
   "cell_type": "code",
   "execution_count": 13,
   "metadata": {},
   "outputs": [
    {
     "name": "stdout",
     "output_type": "stream",
     "text": [
      "maçã\n",
      "texto\n"
     ]
    }
   ],
   "source": [
    "print(frutas[0])  # \"maçã\"\n",
    "print(mista[1])  # \"texto\""
   ]
  },
  {
   "cell_type": "markdown",
   "metadata": {},
   "source": [
    "**🔍 Também podes usar índices negativos para aceder a partir do fim (começa com -1):**"
   ]
  },
  {
   "cell_type": "code",
   "execution_count": 14,
   "metadata": {},
   "outputs": [
    {
     "name": "stdout",
     "output_type": "stream",
     "text": [
      "laranja\n",
      "banana\n"
     ]
    }
   ],
   "source": [
    "print(frutas[-1])  # \"laranja\" (último elemento)\n",
    "print(frutas[-2])  # \"banana\""
   ]
  },
  {
   "cell_type": "markdown",
   "metadata": {},
   "source": [
    "**✏️ Como as listas são mutáveis, podemos alterar os valores:**"
   ]
  },
  {
   "cell_type": "code",
   "execution_count": 15,
   "metadata": {},
   "outputs": [
    {
     "name": "stdout",
     "output_type": "stream",
     "text": [
      "['morango', 'banana', 'laranja']\n"
     ]
    }
   ],
   "source": [
    "frutas[0] = \"morango\"\n",
    "print(frutas)  # ['morango', 'banana', 'laranja']"
   ]
  },
  {
   "cell_type": "markdown",
   "metadata": {},
   "source": [
    "**➕ Adicionar Elementos**"
   ]
  },
  {
   "cell_type": "code",
   "execution_count": 16,
   "metadata": {},
   "outputs": [
    {
     "name": "stdout",
     "output_type": "stream",
     "text": [
      "['morango', 'banana', 'laranja', 'kiwi']\n",
      "['morango', 'ananás', 'banana', 'laranja', 'kiwi']\n"
     ]
    }
   ],
   "source": [
    "# Adicionar ao fim da lista\n",
    "frutas.append(\"kiwi\")\n",
    "print(frutas)\n",
    "\n",
    "# Inserir numa posição específica\n",
    "frutas.insert(1, \"ananás\")\n",
    "print(frutas)"
   ]
  },
  {
   "cell_type": "markdown",
   "metadata": {},
   "source": [
    "**➖ Remover Elementos**"
   ]
  },
  {
   "cell_type": "code",
   "execution_count": 17,
   "metadata": {},
   "outputs": [
    {
     "name": "stdout",
     "output_type": "stream",
     "text": [
      "['morango', 'ananás', 'laranja', 'kiwi']\n",
      "['morango', 'ananás', 'laranja']\n",
      "['ananás', 'laranja']\n"
     ]
    }
   ],
   "source": [
    "# Remover por valor\n",
    "frutas.remove(\"banana\")\n",
    "print(frutas)\n",
    "\n",
    "# Remover o último elemento\n",
    "frutas.pop()\n",
    "print(frutas)\n",
    "\n",
    "# Remover por índice\n",
    "del frutas[0]\n",
    "print(frutas)"
   ]
  },
  {
   "cell_type": "markdown",
   "metadata": {},
   "source": [
    "🍉 Concatenar listas"
   ]
  },
  {
   "cell_type": "code",
   "execution_count": 18,
   "metadata": {},
   "outputs": [
    {
     "name": "stdout",
     "output_type": "stream",
     "text": [
      "['maçã', 'banana', 'laranja', 'pera']\n"
     ]
    }
   ],
   "source": [
    "lista1 = [\"maçã\", \"banana\"]\n",
    "lista2 = [\"laranja\", \"pera\"]\n",
    "todas_frutas = lista1 + lista2\n",
    "\n",
    "print(todas_frutas)  # ['maçã', 'banana', 'laranja', 'pera']"
   ]
  },
  {
   "cell_type": "markdown",
   "metadata": {},
   "source": [
    "📊 Ordenar lista"
   ]
  },
  {
   "cell_type": "code",
   "execution_count": 19,
   "metadata": {},
   "outputs": [
    {
     "name": "stdout",
     "output_type": "stream",
     "text": [
      "[1, 2, 5, 9]\n"
     ]
    }
   ],
   "source": [
    "numeros = [5, 2, 9, 1]\n",
    "numeros.sort()\n",
    "print(numeros)  # [1, 2, 5, 9]"
   ]
  },
  {
   "cell_type": "markdown",
   "metadata": {},
   "source": [
    "📍 Obter índice de um elemento"
   ]
  },
  {
   "cell_type": "code",
   "execution_count": 20,
   "metadata": {},
   "outputs": [
    {
     "name": "stdout",
     "output_type": "stream",
     "text": [
      "2\n"
     ]
    }
   ],
   "source": [
    "cores = [\"vermelho\", \"verde\", \"azul\"]\n",
    "pos_azul = cores.index(\"azul\")\n",
    "\n",
    "print(pos_azul)  # 2"
   ]
  },
  {
   "cell_type": "markdown",
   "metadata": {},
   "source": [
    "🔄 Inverter uma lista"
   ]
  },
  {
   "cell_type": "code",
   "execution_count": 21,
   "metadata": {},
   "outputs": [
    {
     "name": "stdout",
     "output_type": "stream",
     "text": [
      "[40, 30, 20, 10]\n",
      "[40, 30, 20, 10]\n"
     ]
    }
   ],
   "source": [
    "lista = [10, 20, 30, 40]\n",
    "\n",
    "# Inverter a lista\n",
    "lista_invertida = lista[::-1]\n",
    "print(lista_invertida)  # [40, 30, 20, 10]\n",
    "\n",
    "# ou \n",
    "lista.reverse()\n",
    "print(lista)  # [40, 30, 20, 10]"
   ]
  },
  {
   "cell_type": "markdown",
   "metadata": {},
   "source": [
    "**➖ Slicing em Listas**\n",
    "\n",
    "O *slicing* permite extrair partes de uma lista usando a notação `lista[início:fim:passo]`.\n",
    "\n",
    "- `início` é o índice onde começa a fatia (incluído).\n",
    "- `fim` é o índice onde termina a fatia (excluído).\n",
    "- `passo` é o intervalo entre elementos (opcional)."
   ]
  },
  {
   "cell_type": "code",
   "execution_count": 22,
   "metadata": {},
   "outputs": [
    {
     "name": "stdout",
     "output_type": "stream",
     "text": [
      "['Newton', 'Einstein', 'Curie']\n",
      "['Einstein', 'Curie', 'Tesla']\n",
      "['Feynman', 'Hawking']\n",
      "['Newton', 'Curie', 'Feynman']\n",
      "['Newton', 'Einstein', 'Curie', 'Tesla', 'Feynman', 'Hawking']\n"
     ]
    }
   ],
   "source": [
    "cientistas = [\"Newton\", \"Einstein\", \"Curie\", \"Tesla\", \"Feynman\", \"Hawking\"]\n",
    "\n",
    "# Extrair os 3 primeiros elementos\n",
    "print(cientistas[0:3])  \n",
    "# Saída: ['Newton', 'Einstein', 'Curie']\n",
    "\n",
    "# Extrair do 2º ao 4º elemento (índices 1 a 4, sem incluir o índice 4)\n",
    "print(cientistas[1:4])  \n",
    "# Saída: ['Einstein', 'Curie', 'Tesla']\n",
    "\n",
    "# Extrair os 2 últimos elementos\n",
    "print(cientistas[-2:])   \n",
    "# Saída: ['Feynman', 'Hawking']\n",
    "\n",
    "# Extrair elementos com passo 2 (pular um elemento)\n",
    "print(cientistas[0:6:2])  \n",
    "# Saída: ['Newton', 'Curie', 'Feynman']\n",
    "\n",
    "# Copiar a lista inteira\n",
    "copia = cientistas[:]\n",
    "print(copia)"
   ]
  },
  {
   "cell_type": "markdown",
   "metadata": {},
   "source": [
    "Uma das tarefas comuns na análise e compreensão de um texto — especialmente em áreas como a filologia ou o processamento de linguagem natural — consiste em separar uma frase ou parágrafo em palavras individuais, também conhecidas como *tokens*.\n",
    "\n",
    "Em Python, esta tarefa é bastante simples graças ao método `.split()`.\n",
    "\n",
    "O método `split()` divide uma **string** em partes, utilizando um separador. Por omissão, esse separador é o espaço (`\" \"`), o que significa que irá separar o texto em cada espaço encontrado.\n",
    "\n",
    "Exemplo:\n",
    "\n",
    "```python\n",
    "frase = \"Et in Arcadia ego\"\n",
    "palavras = frase.split()\n",
    "\n",
    "print(palavras)\n",
    "# Saída: ['Et', 'in', 'Arcadia', 'ego']\n"
   ]
  },
  {
   "cell_type": "code",
   "execution_count": 23,
   "metadata": {},
   "outputs": [
    {
     "name": "stdout",
     "output_type": "stream",
     "text": [
      "Tokens: ['In', 'principio', 'erat', 'Verbum', 'et', 'Verbum', 'erat', 'apud', 'Deum']\n",
      "Total de palavras: 9\n",
      "Palavras únicas: 7\n"
     ]
    }
   ],
   "source": [
    "texto_antigo = \"In principio erat Verbum et Verbum erat apud Deum\"\n",
    "palavras = texto_antigo.split()\n",
    "palavras_unicas = set(palavras)\n",
    "\n",
    "print(f\"Tokens: {palavras}\")\n",
    "print(f\"Total de palavras: {len(palavras)}\")\n",
    "print(f\"Palavras únicas: {len(palavras_unicas)}\")\n"
   ]
  },
  {
   "cell_type": "code",
   "execution_count": 24,
   "metadata": {},
   "outputs": [
    {
     "name": "stdout",
     "output_type": "stream",
     "text": [
      "Tokens: ['maçã', 'banana', 'laranja', 'maçã', 'pera', 'banana']\n",
      "Total de frutas: 6\n",
      "Frutas únicas: 4\n"
     ]
    }
   ],
   "source": [
    "texto_lista = \"maçã,banana,laranja,maçã,pera,banana\"\n",
    "frutas = texto_lista.split(\",\")  # Usar a vírgula como separador\n",
    "\n",
    "print(f\"Tokens: {frutas}\")\n",
    "print(f\"Total de frutas: {len(frutas)}\")\n",
    "print(f\"Frutas únicas: {len(set(frutas))}\")"
   ]
  },
  {
   "cell_type": "markdown",
   "metadata": {},
   "source": [
    "**Mini exercícios**\n",
    "\n",
    "1. Dada a lista `[\"júpiter\", \"marte\", \"venus\", \"saturno\"]`, remove **venus** e adiciona **neptuno** ao final da lista.\n",
    "\n",
    "2. Dada a lista `[\"lira\", \"harpa\", \"flauta\", \"tambor\"]`, ordena os instrumentos alfabeticamente e depois inverte a ordem.\n",
    "\n",
    "3. Dadas duas listas, cria uma nova lista que una ambas as mitologias:\n",
    "    + `mitologia_grega = [\"zeus\", \"hera\", \"poseidon\"]`  \n",
    "    + `mitologia_nórdica = [\"thor\", \"odin\", \"loki\"]`\n",
    "\n",
    "4. Dada a lista de filósofos antigos:\n",
    "\n",
    "   ```python\n",
    "   filosofos = [\"Sócrates\", \"Platão\", \"Aristóteles\", \"Epicuro\", \"Séneca\", \"Cícero\"]\n",
    "   ```\n",
    "\n",
    "   a. Mostra os **3 primeiros filósofos** da lista.  \n",
    "   b. Mostra os **2 últimos filósofos** da lista.  \n",
    "   c. Mostra os filósofos do **2º ao 4º** (inclusive).\n",
    "\n",
    "   💡 *Dica:* Utiliza a notação `lista[início:fim]`, onde o `início` está incluído e o `fim` é excluído."
   ]
  },
  {
   "cell_type": "markdown",
   "metadata": {},
   "source": [
    "<a class='anchor' id='2.2.'></a>\n",
    "\n",
    "## **2.2. Tuplos** "
   ]
  },
  {
   "cell_type": "markdown",
   "metadata": {},
   "source": [
    "Os tuplos são estruturas de dados semelhantes às listas, mas **imutáveis**, ou seja, depois de criados, não podemos alterar os seus elementos (não é possível adicionar, remover ou modificar valores).\n",
    "\n",
    "Para criar um tuplo, usamos parênteses `()` ou simplesmente uma sequência de valores separados por vírgulas."
   ]
  },
  {
   "cell_type": "code",
   "execution_count": 25,
   "metadata": {},
   "outputs": [
    {
     "name": "stdout",
     "output_type": "stream",
     "text": [
      "(1, 2, 3)\n",
      "('a', 'b', 'c')\n"
     ]
    }
   ],
   "source": [
    "# Criar tuplos\n",
    "tuplo1 = (1, 2, 3)\n",
    "tuplo2 = \"a\", \"b\", \"c\"  # também válido sem parênteses\n",
    "\n",
    "print(tuplo1)  # (1, 2, 3)\n",
    "print(tuplo2)  # ('a', 'b', 'c')"
   ]
  },
  {
   "cell_type": "code",
   "execution_count": 26,
   "metadata": {},
   "outputs": [
    {
     "name": "stdout",
     "output_type": "stream",
     "text": [
      "1\n",
      "c\n"
     ]
    }
   ],
   "source": [
    "print(tuplo1[0])  # 1\n",
    "print(tuplo2[2])  # 'c'"
   ]
  },
  {
   "cell_type": "code",
   "execution_count": 27,
   "metadata": {},
   "outputs": [
    {
     "name": "stdout",
     "output_type": "stream",
     "text": [
      "<class 'tuple'>\n",
      "<class 'int'>\n"
     ]
    }
   ],
   "source": [
    "tuplo_unico = (5,)\n",
    "print(type(tuplo_unico))  # <class 'tuple'>\n",
    "\n",
    "nao_e_tuplo = (5)\n",
    "print(type(nao_e_tuplo))  # <class 'int'>"
   ]
  },
  {
   "cell_type": "code",
   "execution_count": 28,
   "metadata": {},
   "outputs": [
    {
     "ename": "TypeError",
     "evalue": "'tuple' object does not support item assignment",
     "output_type": "error",
     "traceback": [
      "\u001b[31m---------------------------------------------------------------------------\u001b[39m",
      "\u001b[31mTypeError\u001b[39m                                 Traceback (most recent call last)",
      "\u001b[36mCell\u001b[39m\u001b[36m \u001b[39m\u001b[32mIn[28]\u001b[39m\u001b[32m, line 1\u001b[39m\n\u001b[32m----> \u001b[39m\u001b[32m1\u001b[39m \u001b[43mtuplo1\u001b[49m\u001b[43m[\u001b[49m\u001b[32;43m0\u001b[39;49m\u001b[43m]\u001b[49m = \u001b[32m10\u001b[39m  \u001b[38;5;66;03m# Isto causará um erro, pois tuplos são imutáveis\u001b[39;00m\n",
      "\u001b[31mTypeError\u001b[39m: 'tuple' object does not support item assignment"
     ]
    }
   ],
   "source": [
    "tuplo1[0] = 10  # Isto causará um erro, pois tuplos são imutáveis"
   ]
  },
  {
   "cell_type": "markdown",
   "metadata": {},
   "source": [
    "<a class='anchor' id='2.3.'></a>\n",
    "\n",
    "## **2.3. Sets**\n",
    "Um set em Python é uma estrutura de dados que armazena valores únicos e ordenados.\n",
    "Para criar um set, usa-se a função ``set()`` ou chaves ``{}`` com elementos separados por vírgulas:"
   ]
  },
  {
   "cell_type": "code",
   "execution_count": 29,
   "metadata": {},
   "outputs": [
    {
     "name": "stdout",
     "output_type": "stream",
     "text": [
      "{'gato', 'cão', 'pássaro'}\n"
     ]
    }
   ],
   "source": [
    "# Criar um set\n",
    "animais = {\"gato\", \"cão\", \"pássaro\", \"gato\"}\n",
    "print(animais)  # {'pássaro', 'gato', 'cão'} – sem duplicados!"
   ]
  },
  {
   "cell_type": "code",
   "execution_count": 30,
   "metadata": {},
   "outputs": [
    {
     "name": "stdout",
     "output_type": "stream",
     "text": [
      "{1, 2, 3, 4, 5}\n"
     ]
    }
   ],
   "source": [
    "# Criar um set com numeros\n",
    "numeros = {3, 5, 4, 2, 1}\n",
    "print(numeros)  # {1, 2, 3, 4, 5}"
   ]
  },
  {
   "cell_type": "code",
   "execution_count": 31,
   "metadata": {},
   "outputs": [
    {
     "name": "stdout",
     "output_type": "stream",
     "text": [
      "{'f', 'o', 'i', 'g', 'l', 'a'}\n"
     ]
    }
   ],
   "source": [
    "# Outra forma\n",
    "letras = set(\"filologia\")\n",
    "print(letras)  # {'a', 'b', 'n'}"
   ]
  },
  {
   "cell_type": "markdown",
   "metadata": {},
   "source": [
    "**Operações comuns**"
   ]
  },
  {
   "cell_type": "code",
   "execution_count": 32,
   "metadata": {},
   "outputs": [
    {
     "name": "stdout",
     "output_type": "stream",
     "text": [
      "{'banana', 'pera', 'bolo', 'chocolate', 'maçã'}\n",
      "{'banana'}\n",
      "{'pera', 'maçã'}\n"
     ]
    }
   ],
   "source": [
    "frutas = {\"maçã\", \"banana\", \"pera\"}\n",
    "doces = {\"banana\", \"chocolate\", \"bolo\"}\n",
    "\n",
    "# União (union) – combina elementos dos dois conjuntos\n",
    "print(frutas | doces)  # {'maçã', 'banana', 'pera', 'chocolate', 'bolo'}\n",
    "\n",
    "# Interseção (intersection) – elementos em comum\n",
    "print(frutas & doces)  # {'banana'}\n",
    "\n",
    "# Diferença (difference) – elementos que estão em 'frutas' mas não em 'doces'\n",
    "print(frutas - doces)  # {'maçã', 'pera'}\n"
   ]
  },
  {
   "cell_type": "markdown",
   "metadata": {},
   "source": [
    "**Métodos úteis**"
   ]
  },
  {
   "cell_type": "code",
   "execution_count": 33,
   "metadata": {},
   "outputs": [
    {
     "name": "stdout",
     "output_type": "stream",
     "text": [
      "{1, 2, 3, 4}\n",
      "{1, 3, 4}\n",
      "set()\n"
     ]
    }
   ],
   "source": [
    "numeros = {1, 2, 3, 2}\n",
    "\n",
    "numeros.add(4)       # Adiciona um elemento\n",
    "print(numeros)  # {1, 2, 3, 4}\n",
    "numeros.discard(2)   # Remove um elemento (sem erro se não existir)\n",
    "print(numeros)  # {1, 3, 4}\n",
    "numeros.clear()      # Remove todos os elementos\n",
    "print(numeros)  # set() – agora está vazio"
   ]
  },
  {
   "cell_type": "markdown",
   "metadata": {},
   "source": [
    "**Mini exercícios**\n",
    "1. Cria um set com as palavras da frase ``\"veni, vidi, vici, veni\"``. Quantas palavras únicas tem?\n",
    "2. Usa dois sets para encontrar as palavras em comum entre as seguintes frases:\n",
    "    + _**Lorem ipsum dolor sit amet, consectetur adipiscing elit, sed do eiusmod tempor incididunt ut labore et dolore magna aliqua.**_\n",
    "    + _**Dolor sit amet consectetur elit, sed do eiusmod tempor incididunt ut labore et dolore magna aliqua ut enim ad minim veniam.**_\n",
    "3. Dado o set ``{\"roma\", \"gália\", \"cartago\", \"egipto\", \"roma\"}``, remove a palavra **roma** e adiciona **atenas**.\n",
    "\n"
   ]
  },
  {
   "cell_type": "code",
   "execution_count": 34,
   "metadata": {},
   "outputs": [
    {
     "name": "stdout",
     "output_type": "stream",
     "text": [
      "{'ut', 'elit,', 'eiusmod', 'labore', 'tempor', 'sed', 'sit', 'incididunt', 'do', 'consectetur', 'magna', 'dolore', 'et'}\n"
     ]
    }
   ],
   "source": [
    "f1 = \"Lorem ipsum dolor sit amet, consectetur adipiscing elit, sed do eiusmod tempor incididunt ut labore et dolore magna aliqua.\"\n",
    "f2 = \"Dolor sit amet consectetur elit, sed do eiusmod tempor incididunt ut labore et dolore magna aliqua ut enim ad minim veniam.\"\n",
    "\n",
    "x = set(f1.split()) & set(f2.split())  # Interseção dos sets\n",
    "print(x)  # {'amet', 'dolor', 'sit'}"
   ]
  },
  {
   "cell_type": "markdown",
   "metadata": {},
   "source": [
    "<a class='anchor' id='2.4.'></a>\n",
    "\n",
    "## **2.4. Dicionários**\n",
    "Os **dicionários** são estruturas de dados que armazenam pares de **chave** e **valor**. São muito úteis para representar dados que têm uma relação direta entre uma chave única e um valor associado.\n",
    "\n",
    "**Como criar um dicionário**"
   ]
  },
  {
   "cell_type": "code",
   "execution_count": 35,
   "metadata": {},
   "outputs": [
    {
     "name": "stdout",
     "output_type": "stream",
     "text": [
      "{'nome': 'Ana', 'idade': 28, 'cidade': 'Lisboa'}\n"
     ]
    }
   ],
   "source": [
    "pessoa = {\n",
    "    \"nome\": \"Ana\",\n",
    "    \"idade\": 28,\n",
    "    \"cidade\": \"Lisboa\"\n",
    "}\n",
    "print(pessoa)"
   ]
  },
  {
   "cell_type": "markdown",
   "metadata": {},
   "source": [
    "**Métodos úteis**\n",
    "+ ``.keys()`` — retorna uma lista com todas as chaves\n",
    "+ ``.values()`` — retorna uma lista com todos os valores\n",
    "+ ``.items()`` — retorna uma lista de tuplos (chave, valor)"
   ]
  },
  {
   "cell_type": "code",
   "execution_count": 36,
   "metadata": {},
   "outputs": [
    {
     "name": "stdout",
     "output_type": "stream",
     "text": [
      "dict_keys(['nome', 'idade', 'cidade'])\n",
      "dict_values(['Ana', 28, 'Lisboa'])\n",
      "dict_items([('nome', 'Ana'), ('idade', 28), ('cidade', 'Lisboa')])\n"
     ]
    }
   ],
   "source": [
    "print(pessoa.keys())\n",
    "print(pessoa.values())\n",
    "print(pessoa.items())"
   ]
  },
  {
   "cell_type": "markdown",
   "metadata": {},
   "source": [
    "**Aceder a valores**\n",
    "- Para obter o valor associado a uma chave, usamos o nome do dicionário seguido da chave entre colchetes:"
   ]
  },
  {
   "cell_type": "code",
   "execution_count": 37,
   "metadata": {},
   "outputs": [
    {
     "name": "stdout",
     "output_type": "stream",
     "text": [
      "Ana\n",
      "28\n"
     ]
    }
   ],
   "source": [
    "print(pessoa[\"nome\"])  # Ana\n",
    "print(pessoa[\"idade\"]) # 28"
   ]
  },
  {
   "cell_type": "markdown",
   "metadata": {},
   "source": [
    "**Adicionar ou modificar pares**\n",
    "- Podemos adicionar ou alterar valores usando a mesma sintaxe:"
   ]
  },
  {
   "cell_type": "code",
   "execution_count": 38,
   "metadata": {},
   "outputs": [
    {
     "name": "stdout",
     "output_type": "stream",
     "text": [
      "{'nome': 'Ana', 'idade': 29, 'cidade': 'Lisboa', 'profissão': 'Engenheira'}\n"
     ]
    }
   ],
   "source": [
    "pessoa[\"profissão\"] = \"Engenheira\"\n",
    "pessoa[\"idade\"] = 29  # Atualizar idade\n",
    "print(pessoa)"
   ]
  },
  {
   "cell_type": "markdown",
   "metadata": {},
   "source": [
    "**Remover pares**\n",
    "- Para remover um par chave-valor, usamos o método ``pop()`` ou o comando ``del``:"
   ]
  },
  {
   "cell_type": "code",
   "execution_count": 39,
   "metadata": {},
   "outputs": [
    {
     "name": "stdout",
     "output_type": "stream",
     "text": [
      "{'nome': 'Ana', 'idade': 29}\n"
     ]
    }
   ],
   "source": [
    "pessoa.pop(\"cidade\")\n",
    "del pessoa[\"profissão\"]\n",
    "print(pessoa)"
   ]
  },
  {
   "cell_type": "markdown",
   "metadata": {},
   "source": [
    "**Extra - Contagem de palavras numa frase**"
   ]
  },
  {
   "cell_type": "code",
   "execution_count": 40,
   "metadata": {},
   "outputs": [
    {
     "name": "stdout",
     "output_type": "stream",
     "text": [
      "Counter({'vida': 2, 'é': 2, 'A': 1, 'bela': 1, 'e': 1, 'a': 1, 'curta': 1})\n"
     ]
    }
   ],
   "source": [
    "from collections import Counter\n",
    "\n",
    "frase = \"A vida é bela e a vida é curta\"\n",
    "palavras = frase.split()\n",
    "\n",
    "contagem = Counter(palavras)\n",
    "print(contagem)\n",
    "# Saída: Counter({'A': 1, 'vida': 2, 'é': 2, 'bela': 1, 'e': 1, 'curta': 1})"
   ]
  },
  {
   "cell_type": "markdown",
   "metadata": {},
   "source": [
    "**Mini exercícios**\n",
    "1. Cria um dicionário chamado **filme** com as chaves: *título*, *ano*, *realizador*. Preenche com dados do teu **filme** favorito.\n",
    "2. Acede ao *título* do **filme** e imprime-o.\n",
    "3. Adiciona uma nova chave *gênero* com um valor à tua escolha.\n",
    "4. Remove a chave *ano* do dicionário."
   ]
  },
  {
   "cell_type": "markdown",
   "metadata": {},
   "source": [
    "<a class='anchor' id='3.'></a>\n",
    "\n",
    "# **3. Loops** "
   ]
  },
  {
   "cell_type": "markdown",
   "metadata": {},
   "source": [
    "Em programação, **loops** permitem executar um conjunto de instruções **de forma repetida**, poupando tempo e evitando código duplicado.\n",
    "\n",
    "Python oferece **dois tipos principais de ciclos**:\n",
    "\n",
    "- `while` → Executa enquanto uma **condição for verdadeira**.\n",
    "- `for` → Itera sobre **elementos de uma sequência** (como listas, strings, ranges, etc.)."
   ]
  },
  {
   "cell_type": "markdown",
   "metadata": {},
   "source": [
    "<a class='anchor' id='3.1.'></a>\n",
    "\n",
    "## **3.1. While**\n",
    "\n",
    "O ciclo `while` executa um bloco de código **enquanto** uma condição for verdadeira. É útil quando **não sabemos à partida quantas vezes** o código deverá ser repetido."
   ]
  },
  {
   "cell_type": "code",
   "execution_count": 41,
   "metadata": {},
   "outputs": [
    {
     "name": "stdout",
     "output_type": "stream",
     "text": [
      "Contador vale: 0\n",
      "Contador vale: 1\n",
      "Contador vale: 2\n",
      "Contador vale: 3\n",
      "Contador vale: 4\n"
     ]
    }
   ],
   "source": [
    "contagem = 0\n",
    "\n",
    "while contagem < 5:\n",
    "    print(f\"Contador vale: {contagem}\")\n",
    "    contagem += 1"
   ]
  },
  {
   "cell_type": "code",
   "execution_count": 42,
   "metadata": {},
   "outputs": [
    {
     "name": "stdout",
     "output_type": "stream",
     "text": [
      "10\n",
      "9\n",
      "8\n",
      "7\n",
      "6\n"
     ]
    }
   ],
   "source": [
    "# Imprimir os números de 10 até 6\n",
    "n = 10\n",
    "while n >= 6:\n",
    "    print(n)\n",
    "    n -= 1"
   ]
  },
  {
   "cell_type": "code",
   "execution_count": 43,
   "metadata": {},
   "outputs": [
    {
     "name": "stdout",
     "output_type": "stream",
     "text": [
      "2 é par!\n"
     ]
    }
   ],
   "source": [
    "# Mostrar o primeiro número par de 1 a 9\n",
    "numero = 1\n",
    "while numero < 10:\n",
    "    if numero % 2 == 0:\n",
    "        print(f\"{numero} é par!\")\n",
    "        break\n",
    "    numero += 1\n"
   ]
  },
  {
   "cell_type": "code",
   "execution_count": 44,
   "metadata": {},
   "outputs": [
    {
     "name": "stdout",
     "output_type": "stream",
     "text": [
      "f\n",
      "i\n",
      "l\n",
      "o\n",
      "s\n",
      "o\n",
      "f\n",
      "i\n",
      "a\n"
     ]
    }
   ],
   "source": [
    "# Contar letras de uma palavra\n",
    "palavra = \"filosofia\"\n",
    "i = 0\n",
    "while i < len(palavra):\n",
    "    print(palavra[i])\n",
    "    i += 1\n"
   ]
  },
  {
   "cell_type": "markdown",
   "metadata": {},
   "source": [
    "**✨ Mini Exercícios com `while` e Estruturas de Dados**\n",
    "1. **Dada a palavra** `\"epistemologia\"`, imprime cada letra até encontrares a letra `\"o\"`.  \n",
    "   - 💡 Podes usar o comando `break` para parar o ciclo.\n",
    "\n",
    "2. **Percorre o seguinte tuplo e conta quantas vezes aparece a vogal `'a'`:**  \n",
    "   - `vogais = (\"a\", \"e\", \"i\", \"o\", \"u\", \"a\", \"i\", \"a\")`\n",
    "\n",
    "3. **Dada a seguinte lista de palavras, remove todas as palavras com menos de 4 letras:**  \n",
    "   - `palavras = [\"sol\", \"luz\", \"harmonia\", \"vida\", \"ar\", \"natureza\"]`\n",
    "\n",
    "4. **Cria uma função chamada** `remover_letra` **que recebe dois argumentos:**\n",
    "   - Uma **frase** (string)\n",
    "   - Uma **letra a remover** (carácter)\n",
    "   > A função deve devolver a frase original **sem todas as ocorrências dessa letra**.\n"
   ]
  },
  {
   "cell_type": "markdown",
   "metadata": {},
   "source": [
    "<a class='anchor' id='3.2.'></a>\n",
    "\n",
    "## **3.2. For**\n",
    "\n",
    "O loop `for` é utilizado para **percorrer elementos** de uma sequência (listas, tuplos, strings, dicionários, etc.).  \n",
    "É muito útil quando queremos **executar uma ação para cada item** de uma coleção."
   ]
  },
  {
   "cell_type": "code",
   "execution_count": 45,
   "metadata": {},
   "outputs": [
    {
     "name": "stdout",
     "output_type": "stream",
     "text": [
      "O grande pensador: Sócrates\n",
      "O grande pensador: Platão\n",
      "O grande pensador: Aristóteles\n",
      "O grande pensador: Epicuro\n"
     ]
    }
   ],
   "source": [
    "filosofos = [\"Sócrates\", \"Platão\", \"Aristóteles\", \"Epicuro\"]\n",
    "\n",
    "for nome in filosofos:\n",
    "    print(f\"O grande pensador: {nome}\")"
   ]
  },
  {
   "cell_type": "code",
   "execution_count": 46,
   "metadata": {},
   "outputs": [
    {
     "name": "stdout",
     "output_type": "stream",
     "text": [
      "Soma total: 20\n"
     ]
    }
   ],
   "source": [
    "numeros = [2, 4, 6, 8]\n",
    "soma = 0\n",
    "\n",
    "for n in numeros:\n",
    "    soma += n\n",
    "\n",
    "print(\"Soma total:\", soma)"
   ]
  },
  {
   "cell_type": "code",
   "execution_count": 47,
   "metadata": {},
   "outputs": [
    {
     "name": "stdout",
     "output_type": "stream",
     "text": [
      "s\n",
      "a\n",
      "p\n",
      "i\n",
      "e\n",
      "n\n",
      "t\n",
      "i\n",
      "a\n"
     ]
    }
   ],
   "source": [
    "frase = \"sapientia\"\n",
    "\n",
    "for letra in frase:\n",
    "    print(letra)"
   ]
  },
  {
   "cell_type": "code",
   "execution_count": 48,
   "metadata": {},
   "outputs": [
    {
     "name": "stdout",
     "output_type": "stream",
     "text": [
      "0: Mercúrio\n",
      "1: Vénus\n",
      "2: Terra\n",
      "3: Marte\n"
     ]
    }
   ],
   "source": [
    "planetas = [\"Mercúrio\", \"Vénus\", \"Terra\", \"Marte\"]\n",
    "\n",
    "for i, planeta in enumerate(planetas):\n",
    "    print(f\"{i}: {planeta}\")"
   ]
  },
  {
   "cell_type": "code",
   "execution_count": 49,
   "metadata": {},
   "outputs": [
    {
     "name": "stdout",
     "output_type": "stream",
     "text": [
      "Autor: Camões\n",
      "Obra: Os Lusíadas\n",
      "Ano: 1572\n"
     ]
    }
   ],
   "source": [
    "poema = {\n",
    "    \"autor\": \"Camões\",\n",
    "    \"obra\": \"Os Lusíadas\",\n",
    "    \"ano\": 1572\n",
    "}\n",
    "\n",
    "for chave, valor in poema.items():\n",
    "    print(f\"{chave.capitalize()}: {valor}\")"
   ]
  },
  {
   "cell_type": "markdown",
   "metadata": {},
   "source": [
    "**Mini Exercícios**\n",
    "1. Dada a frase **\"carpe diem quam minimum credula postero\"**, imprime apenas as palavras com mais de 5 letras.\n",
    "\n",
    "2. Itera sobre o dicionário abaixo e imprime uma frase com o nome e a especialidade de cada filósofo:\n",
    "\n",
    "```python\n",
    "filosofos = {\n",
    "    \"Sócrates\": \"ética\",\n",
    "    \"Platão\": \"metafísica\",\n",
    "    \"Aristóteles\": \"lógica\"\n",
    "}\n",
    "```\n",
    "\n",
    "3. Constrói uma nova lista apenas com as palavras que terminam com a letra \"a\":\n",
    "    - palavras = [\"aurora\", \"sol\", \"beleza\", \"paz\", \"harmonia\"]\n",
    "\n",
    "4. Dada uma lista de frases latinas antigas, imprime todas as palavras que aparecem **mais de uma vez** no conjunto total:\n",
    "   - frases = [\n",
    "    \"in vino veritas\",\n",
    "    \"amor vincit omnia\",\n",
    "    \"veritas vos liberabit\",\n",
    "    \"omnia vincit amor\",\n",
    "    \"alea iacta est\",\n",
    "    \"carpe diem\",\n",
    "    \"veni vidi vici\",\n",
    "    \"mens sana in corpore sano\",\n",
    "    \"tempus fugit\",\n",
    "    \"amor est vitae essentia\",\n",
    "    \"scientia potentia est\",\n",
    "    \"veritas lux mea\"\n",
    "]\n",
    "\n",
    "\n",
    "   > Dica: extrai todas as palavras, converte para minúsculas, e conta a frequência com um dicionário.\n"
   ]
  },
  {
   "cell_type": "markdown",
   "metadata": {},
   "source": [
    "- - -"
   ]
  },
  {
   "cell_type": "markdown",
   "metadata": {},
   "source": [
    "# TPC. Defina os procedimentos e as funções necessárias para jogar o jogo do enforcado. \n",
    "No jogo do enforcado, o jogador tem de adivinhar uma palavra que desconhece perguntado em cada jogada se uma dada letra existe na palavra. Sempre que a letra pedida existe na palavra é mostrada a palavra com todas as letras que pedidas que estavam correctas. Sempre que a letra não existe é contabilizada uma tentativa errada. O jogador tem um determinado número de tentativas erradas para adivinhar a palavras. Se ultrapassar esse número de tentativas, perde. Para jogar o jogo deve invocar o procedimento `play_hangman()` como abaixo.\n",
    "\n",
    "        play_hangman('Programming', 5)\n",
    "        \n",
    "        Adivinhe a palavra: ___________\n",
    "        Letra:  a\n",
    "        Adivinhe a palavra: _____a_____\n",
    "        Letra:  m\n",
    "        Adivinhe a palavra: _____amm___\n",
    "        Letra:  p\n",
    "        Errou, já só faltam 4 tentativas\n",
    "        Adivinhe a palavra: _____amm___"
   ]
  },
  {
   "cell_type": "code",
   "execution_count": null,
   "metadata": {},
   "outputs": [],
   "source": []
  }
 ],
 "metadata": {
  "kernelspec": {
   "display_name": ".venv",
   "language": "python",
   "name": "python3"
  },
  "language_info": {
   "codemirror_mode": {
    "name": "ipython",
    "version": 3
   },
   "file_extension": ".py",
   "mimetype": "text/x-python",
   "name": "python",
   "nbconvert_exporter": "python",
   "pygments_lexer": "ipython3",
   "version": "3.12.7"
  }
 },
 "nbformat": 4,
 "nbformat_minor": 4
}
