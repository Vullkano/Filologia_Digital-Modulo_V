{
 "cells": [
  {
   "cell_type": "markdown",
   "metadata": {},
   "source": [
    "# Aula Prática 3 - Invocação, Recursividade e Input/Output\n",
    "\n",
    "O objetivo desta aula é experimentar a definição de funções que invocam outras funções, bem como a definição de funções recursivas. Esta aula tem também dois objetivos adicionais: experimentar a definição de procedimentos e o desenvolvimento de código com input e output com o utilizador. Após a realização da prática, deverá ter sido adquirida uma noção básica dos seguintes conceitos:\n",
    "\n",
    "- Invocação de função\n",
    "- Invocação recursiva de função\n",
    "- Utilização de variáveis e estruturas de controlo para efetuar:\n",
    "    - Iterações\n",
    "    - Acumulações\n",
    "    - Contagens\n",
    "    - Pesquisas\n",
    "- Utilização de *input* e *output*\n",
    "\n",
    "# Invocação e Recursividade\n",
    "\n",
    "## Trabalho prévio\n",
    "\n",
    "Desenvolva um módulo com funções que permitam:\n",
    "\n",
    "#### <a id=\"tp1\"></a>1. Obter o número de divisores de um número inteiro n. \n",
    "Esta função deverá iterar sobre os números naturais até n, contando os números que são divisores de n.\n",
    "Exemplo:\n",
    "\n",
    "        number_of_divisors(8) → 4     (1, 2, 4, 8)"
   ]
  },
  {
   "cell_type": "code",
   "execution_count": null,
   "metadata": {},
   "outputs": [],
   "source": []
  },
  {
   "cell_type": "markdown",
   "metadata": {},
   "source": [
    "#### 2. Obter o somatório dos divisores próprios de um número inteiro n\n",
    "Note que o conjunto dos divisores próprios exclui o próprio número.\n",
    "\n",
    "Esta função deverá iterar sobre os números naturais até *n* (exclusive), acumulando os números que são divisores de *n*.\\\n",
    "Exemplo:\n",
    "\n",
    "        sum_of_divisors(6) → 6     (1 + 2 + 3)"
   ]
  },
  {
   "cell_type": "code",
   "execution_count": null,
   "metadata": {},
   "outputs": [],
   "source": []
  },
  {
   "cell_type": "markdown",
   "metadata": {},
   "source": [
    "## Exercícios\n",
    "\n",
    "#### <a id=\"ex1\"></a>1. Defina uma função que recebe como argumento um número natural *n* e devolve verdadeiro caso *n* seja primo, ou falso caso contrário. \n",
    "Exemplo:\n",
    "\n",
    "        is_prime(6) → false\n",
    "\n",
    "Nota: nesta função é útil invocar a função do [exercício 1](#tp1) do trabalho prévio, que calcula quantos divisores tem um número. A função pode ser invocada da seguinte forma:\n",
    "\n",
    "        n = number_of_divisors(8)\n",
    "\n",
    "Após a instrução executar, a variável n tomará o valor devolvido pela invocação da função number_of_divisors()."
   ]
  },
  {
   "cell_type": "code",
   "execution_count": null,
   "metadata": {},
   "outputs": [],
   "source": []
  },
  {
   "cell_type": "markdown",
   "metadata": {},
   "source": [
    "#### 2. Defina uma função que recebe como argumento um número natural n e devolve o número de primos até n (inclusive). \n",
    "Exemplo:\n",
    "\n",
    "        number_of_primes_up_to(11) → 5       (2, 3, 5, 7, 11)"
   ]
  },
  {
   "cell_type": "code",
   "execution_count": null,
   "metadata": {},
   "outputs": [],
   "source": []
  },
  {
   "cell_type": "markdown",
   "metadata": {},
   "source": [
    "#### 3. Defina uma função que recebe como argumento um número natural n e devolve o somatório dos números primos menores que n. \n",
    "Exemplo:\n",
    "\n",
    "        sum_of_primes_smaller_than(8) → 17      (2 + 3 + 5 + 7)"
   ]
  },
  {
   "cell_type": "code",
   "execution_count": null,
   "metadata": {},
   "outputs": [],
   "source": []
  },
  {
   "cell_type": "markdown",
   "metadata": {},
   "source": [
    "#### 4. Defina funções recursivas para calcular:\n",
    "\n",
    "##### (a) o n-ésimo número de Fibonacci.\n",
    "\n",
    "$f(n)=\\begin{cases}\n",
    "0 & n=0\\\\\n",
    "1 & n=1\\\\\n",
    "f(n-1)+f(n-2) & outros\\,casos\n",
    "\\end{cases}$\n",
    "\n",
    "Exemplo:\n",
    "\n",
    "        fibonacci(6) → 8"
   ]
  },
  {
   "cell_type": "code",
   "execution_count": null,
   "metadata": {},
   "outputs": [],
   "source": []
  },
  {
   "cell_type": "markdown",
   "metadata": {},
   "source": [
    "##### (b) o fatorial de um número.\n",
    "Exemplo:\n",
    "\n",
    "        factorial(5) → 120"
   ]
  },
  {
   "cell_type": "code",
   "execution_count": null,
   "metadata": {},
   "outputs": [],
   "source": []
  },
  {
   "cell_type": "markdown",
   "metadata": {},
   "source": [
    "##### (c) o máximo divisor comum entre dois números.\n",
    "Exemplo:\n",
    "\n",
    "        gcd(30, 25) → 5"
   ]
  },
  {
   "cell_type": "code",
   "execution_count": null,
   "metadata": {},
   "outputs": [],
   "source": []
  },
  {
   "cell_type": "markdown",
   "metadata": {},
   "source": [
    "# Procedimentos e Input/Output\n",
    "\n",
    "## Trabalho prévio\n",
    "\n",
    "Desenvolva um módulo com funções e procedimentos que permitam:\n",
    "\n",
    "#### 1. Obter um número inteiro entre *m* e *n* introduzido pelo utilizador. \n",
    "Esta função deverá pedir ao utilizador para introduzir um número inteiro entre os limites dados. Caso o utilizador introduza um número inteiro fora desse intervalo, a função voltar a pedir ao utilizador para introduzir um número inteiro dentros dos limites dados.\n",
    "Exemplo:\n",
    "\n",
    "        value_between(1, 6) → 2 (o utilizador introduziu o valor 2)"
   ]
  },
  {
   "cell_type": "code",
   "execution_count": null,
   "metadata": {},
   "outputs": [],
   "source": []
  },
  {
   "cell_type": "markdown",
   "metadata": {},
   "source": [
    "#### 2. Escrever no ecrã os número inteiros entre *m* e *n* (inclusive), por ordem crescente.\n",
    "Este procedimento deverá escrever no ecrã por ordem crescente todos os números inteiros entre os limites dados na invocação do procedimento.\n",
    "Exemplo:\n",
    "\n",
    "        print_ascending_between(1, 5)\n",
    "        1\n",
    "        2\n",
    "        3\n",
    "        4\n",
    "        5"
   ]
  },
  {
   "cell_type": "code",
   "execution_count": null,
   "metadata": {},
   "outputs": [],
   "source": []
  },
  {
   "cell_type": "markdown",
   "metadata": {},
   "source": [
    "## Exercícios\n",
    "\n",
    "#### 1. Defina um procedimento que dado um número inteiro entre 1 e 9 o escreva em numeração romana.\n",
    "Exemplo:\n",
    "\n",
    "        print_units_in_roman(6)\n",
    "        VI"
   ]
  },
  {
   "cell_type": "code",
   "execution_count": null,
   "metadata": {},
   "outputs": [],
   "source": []
  },
  {
   "cell_type": "markdown",
   "metadata": {},
   "source": [
    "#### 2. Defina um procedimento que dado um número inteiro entre 1 e 9 o escreva em numeração romana considerando que este representa dezenas.\n",
    "\n",
    "        print_tens_in_roman(6)\n",
    "        LX"
   ]
  },
  {
   "cell_type": "code",
   "execution_count": null,
   "metadata": {},
   "outputs": [],
   "source": []
  },
  {
   "cell_type": "markdown",
   "metadata": {},
   "source": [
    "#### 3. Defina um procedimento que, usando os dois anteriores, dado um número inteiro entre 1 e 99 o escreva em numeração romana.\n",
    "Exemplo:\n",
    "\n",
    "        print_in_roman(66)\n",
    "        LXVI"
   ]
  },
  {
   "cell_type": "code",
   "execution_count": null,
   "metadata": {},
   "outputs": [],
   "source": []
  },
  {
   "cell_type": "markdown",
   "metadata": {},
   "source": [
    "#### 4. Defina dois procedimentos que escrevem no ecrã os número inteiros entre *m* e *n*, por ordem decrescente. Um deve incluir os limites e o outro não deve incluir os limites."
   ]
  },
  {
   "cell_type": "code",
   "execution_count": null,
   "metadata": {},
   "outputs": [],
   "source": []
  },
  {
   "cell_type": "markdown",
   "metadata": {},
   "source": [
    "#### 5. Defina dois procedimentos que escrevem no ecrã os número inteiros entre *m* e *n* (inclusive em *m* e exclusive em *n*) de *h* em *h*. Um procedimento deve fazê-lo por ordem crescente e o outro por ordem decrescente.\n",
    "Exemplo:\n",
    "\n",
    "        print_ascending_between_in_h(6, 18, 3)\n",
    "        6\n",
    "        9\n",
    "        12\n",
    "        15"
   ]
  },
  {
   "cell_type": "code",
   "execution_count": null,
   "metadata": {},
   "outputs": [],
   "source": []
  },
  {
   "cell_type": "markdown",
   "metadata": {},
   "source": [
    "#### 6. Defina uma função que pede ao utilizador números inteiros até ser introduzido o número zero e devolve verdadeiro se os números foram introduzidos por ordem crescente."
   ]
  },
  {
   "cell_type": "code",
   "execution_count": null,
   "metadata": {},
   "outputs": [],
   "source": []
  },
  {
   "cell_type": "markdown",
   "metadata": {},
   "source": [
    "#### 7. Defina uma função que pede ao utilizador números inteiros até ser introduzido o número zero e devolve o número de números impares introduzidos."
   ]
  },
  {
   "cell_type": "code",
   "execution_count": null,
   "metadata": {},
   "outputs": [],
   "source": []
  },
  {
   "cell_type": "markdown",
   "metadata": {},
   "source": [
    "# Exercícios extra"
   ]
  },
  {
   "cell_type": "markdown",
   "metadata": {},
   "source": [
    "#### 1. Analogamente ao [exercício 1](#ex1), defina uma função que permita saber se um número é perfeito.\n",
    "Um número perfeito é tal que a soma dos seus divisores próprios é igual ao próprio número. Por exemplo, 6 é um número perfeito, dado que  os seus divisores próprios são {3, 2, 1} e 3 + 2 + 1 = 6."
   ]
  },
  {
   "cell_type": "code",
   "execution_count": null,
   "metadata": {},
   "outputs": [],
   "source": []
  },
  {
   "cell_type": "markdown",
   "metadata": {},
   "source": [
    "#### 2. Fazendo uso da alínea anterior, defina uma função que recebe como argumento um número natural n e que devolve o número de números perfeitos até n (inclusive).\n",
    "Exemplo:\n",
    "\n",
    "        number_of_perfect_numbers_up_to(30) → 2        (6, 28)"
   ]
  },
  {
   "cell_type": "code",
   "execution_count": null,
   "metadata": {},
   "outputs": [],
   "source": []
  },
  {
   "cell_type": "markdown",
   "metadata": {},
   "source": [
    "#### 3. Defina uma função que permite saber se existe algum número primo num dado intervalo (aberto). \n",
    "Exemplo:\n",
    "\n",
    "        exists_prime_between(5, 9) → true     (7 está no intervalo ]5, 9[)"
   ]
  },
  {
   "cell_type": "code",
   "execution_count": null,
   "metadata": {},
   "outputs": [],
   "source": []
  },
  {
   "cell_type": "markdown",
   "metadata": {},
   "source": [
    "#### 4. Defina uma função que recebe como argumento um número natural n e devolve a maior diferença entre dois números primos consecutivos até n.\n",
    "\n",
    "Exemplo:\n",
    "\n",
    "        larger_difference_between_primes(13) → 4     (a diferença entre 7 e 11)"
   ]
  },
  {
   "cell_type": "code",
   "execution_count": null,
   "metadata": {},
   "outputs": [],
   "source": []
  },
  {
   "cell_type": "markdown",
   "metadata": {},
   "source": [
    "#### 5. Defina uma função que pede ao utilizador números inteiros até ser introduzido o número zero e devolve o maior dos números introduzidos."
   ]
  },
  {
   "cell_type": "code",
   "execution_count": null,
   "metadata": {},
   "outputs": [],
   "source": []
  }
 ],
 "metadata": {
  "kernelspec": {
   "display_name": "Python 3 (ipykernel)",
   "language": "python",
   "name": "python3"
  },
  "language_info": {
   "codemirror_mode": {
    "name": "ipython",
    "version": 3
   },
   "file_extension": ".py",
   "mimetype": "text/x-python",
   "name": "python",
   "nbconvert_exporter": "python",
   "pygments_lexer": "ipython3",
   "version": "3.9.7"
  }
 },
 "nbformat": 4,
 "nbformat_minor": 4
}
