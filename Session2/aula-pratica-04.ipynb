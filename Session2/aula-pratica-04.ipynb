{
 "cells": [
  {
   "cell_type": "markdown",
   "metadata": {},
   "source": [
    "# Aula Prática 4 — Objetos\n",
    "\n",
    "Esta aula tem como objetivo experimentar a criação e manipulação de objetos. Após a realização da prática, deverá ter sido adquirida uma noção básica dos seguintes conceitos:\n",
    "\n",
    "- Objeto\n",
    "- Construção de um objeto\n",
    "- Operações de um objeto (funções e procedimentos)\n",
    "- Estado de um objeto\n",
    "- Tipo de um objeto\n",
    "\n",
    "## Trabalho prévio\n",
    "\n",
    "Desenvolva um módulo com funções e procedimentos que permitam:\n",
    "\n",
    "#### 1. Escrever no ecrã uma cadeia de caracteres de forma a que cada carácter apareça numa linha.\n",
    "\n",
    "        print_one_letter_per_line('HAL')\n",
    "        H\n",
    "        A\n",
    "        L"
   ]
  },
  {
   "cell_type": "markdown",
   "metadata": {},
   "source": [
    "#### 2. Devolver o módulo de um número complexo.\n",
    "O módulo de um número complexo obtém-se fazendo a raiz quadrada da soma do quadrado da parte real com o quadrado da parte imaginária.\n",
    "Exemplo:\n",
    "\n",
    "        modulus(2 + 3j) ➝ 3,6"
   ]
  },
  {
   "cell_type": "code",
   "execution_count": null,
   "metadata": {},
   "outputs": [],
   "source": []
  },
  {
   "cell_type": "markdown",
   "metadata": {},
   "source": [
    "## Exercícios\n",
    "\n",
    "#### 1. Defina um procedimento que dada uma cadeia de caracteres escreve no ecrã essa cadeia de caracteres de forma a que cada carácter apareça numa linha, por ordem inversa.\n",
    "Exemplo:\n",
    "\n",
    "        print_one_letter_per_line_inverted('GOD')\n",
    "        D\n",
    "        O\n",
    "        G"
   ]
  },
  {
   "cell_type": "code",
   "execution_count": null,
   "metadata": {},
   "outputs": [],
   "source": []
  },
  {
   "cell_type": "markdown",
   "metadata": {},
   "source": [
    "#### 2. Defina uma função que dada uma cadeia de caracteres devolva o número de letras maiúsculas que esta contém.\n",
    "O tipo cadeia de caracteres (`str`) tem uma função que devolve verdadeiro caso todos os caracteres de uma cadeia de caracteres sejam maiúsculas — `isupper()`."
   ]
  },
  {
   "cell_type": "code",
   "execution_count": null,
   "metadata": {},
   "outputs": [],
   "source": []
  },
  {
   "cell_type": "markdown",
   "metadata": {},
   "source": [
    "#### 3. Defina os procedimentos e as funções necessárias para jogar o jogo do enforcado. \n",
    "No jogo do enforcado, o jogador tem de adivinhar uma palavra que desconhece perguntado em cada jogada se uma dada letra existe na palavra. Sempre que a letra pedida existe na palavra é mostrada a palavra com todas as letras que pedidas que estavam correctas. Sempre que a letra não existe é contabilizada uma tentativa errada. O jogador tem um determinado número de tentativas erradas para adivinhar a palavras. Se ultrapassar esse número de tentativas, perde. Para jogar o jogo deve invocar o procedimento `play_hangman()` como abaixo.\n",
    "\n",
    "        play_hangman('Programming', 5)\n",
    "        \n",
    "        Adivinhe a palavra: ___________\n",
    "        Letra:  a\n",
    "        Adivinhe a palavra: _____a_____\n",
    "        Letra:  m\n",
    "        Adivinhe a palavra: _____amm___\n",
    "        Letra:  p\n",
    "        Errou, já só faltam 4 tentativas\n",
    "        Adivinhe a palavra: _____amm___"
   ]
  },
  {
   "cell_type": "code",
   "execution_count": null,
   "metadata": {},
   "outputs": [],
   "source": []
  }
 ],
 "metadata": {
  "kernelspec": {
   "display_name": "Python 3",
   "language": "python",
   "name": "python3"
  },
  "language_info": {
   "codemirror_mode": {
    "name": "ipython",
    "version": 3
   },
   "file_extension": ".py",
   "mimetype": "text/x-python",
   "name": "python",
   "nbconvert_exporter": "python",
   "pygments_lexer": "ipython3",
   "version": "3.6.9"
  }
 },
 "nbformat": 4,
 "nbformat_minor": 4
}
